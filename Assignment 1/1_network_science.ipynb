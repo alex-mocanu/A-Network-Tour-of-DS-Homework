{
  "cells": [
    {
      "cell_type": "markdown",
      "source": "# [NTDS\u002719] assignment 1: network science\n[ntds\u002719]: https://github.com/mdeff/ntds_2019\n\n[Eda Bayram](https://lts4.epfl.ch/bayram), [EPFL LTS4](https://lts4.epfl.ch) and\n[Nikolaos Karalias](https://people.epfl.ch/nikolaos.karalias), [EPFL LTS2](https://lts2.epfl.ch).",
      "metadata": {
        "pycharm": {
          "metadata": false
        }
      }
    },
    {
      "cell_type": "markdown",
      "source": "## Students\n\n* Team: 10\n* Students: Furtuna Andrei-Calin, Gafton Paul-Adrian, Mircea Sorin-Sebastian, Mocanu Alexandru",
      "metadata": {
        "pycharm": {
          "metadata": false
        }
      }
    },
    {
      "cell_type": "markdown",
      "source": "## Rules\n\nGrading:\n* The first deadline is for individual submissions. The second deadline is for the team submission.\n* All team members will receive the same grade based on the team solution submitted on the second deadline.\n* As a fallback, a team can ask for individual grading. In that case, solutions submitted on the first deadline are graded.\n* Collaboration between team members is encouraged. No collaboration between teams is allowed.\n\nSubmission:\n* Textual answers shall be short. Typically one to two sentences.\n* Code has to be clean.\n* You cannot import any other library than we imported.\n  Note that Networkx is imported in the second section and cannot be used in the first.\n* When submitting, the notebook is executed and the results are stored. I.e., if you open the notebook again it should show numerical results and plots. We won\u0027t be able to execute your notebooks.\n* The notebook is re-executed from a blank state before submission. That is to be sure it is reproducible. You can click \"Kernel\" then \"Restart Kernel and Run All Cells\" in Jupyter.",
      "metadata": {
        "pycharm": {
          "metadata": false
        }
      }
    },
    {
      "cell_type": "markdown",
      "source": "## Objective\n\nThe purpose of this milestone is to explore a given dataset, represent it by network by constructing different graphs. In the first section, you will analyze the network properties. In the second section, you will explore various network models and find out the network model fitting the ones you construct from the dataset.",
      "metadata": {
        "pycharm": {
          "metadata": false
        }
      }
    },
    {
      "cell_type": "markdown",
      "source": "## Cora Dataset\n\nThe [Cora dataset](https://linqs.soe.ucsc.edu/node/236) consists of scientific publications classified into one of seven research fields. \n\n* **Citation graph:** the citation network can be constructed from the connections given in the `cora.cites` file.\n* **Feature graph:** each publication in the dataset is described by a 0/1-valued word vector indicating the absence/presence of the corresponding word from the dictionary and its research field, given in the `cora.content` file. The dictionary consists of 1433 unique words. A feature graph can be constructed using the Euclidean distance between the feature vector of the publications.\n\nThe [`README`](data/cora/README) provides details about the content of [`cora.cites`](data/cora/cora.cites) and [`cora.content`](data/cora/cora.content).",
      "metadata": {
        "pycharm": {
          "metadata": false
        }
      }
    },
    {
      "cell_type": "markdown",
      "source": "## Section 1: Network Properties",
      "metadata": {
        "pycharm": {
          "metadata": false
        }
      }
    },
    {
      "cell_type": "code",
      "execution_count": 91,
      "outputs": [],
      "source": "import numpy as np\nimport pandas as pd\nfrom matplotlib import pyplot as plt\n\n%matplotlib inline",
      "metadata": {
        "pycharm": {
          "metadata": false,
          "name": "#%%\n",
          "is_executing": false
        }
      }
    },
    {
      "cell_type": "markdown",
      "source": "### Question 1: Construct a Citation Graph and a Feature Graph",
      "metadata": {
        "pycharm": {
          "metadata": false
        }
      }
    },
    {
      "cell_type": "markdown",
      "source": "Read the `cora.content` file into a Pandas DataFrame by setting a header for the column names. Check the `README` file.",
      "metadata": {
        "pycharm": {
          "metadata": false
        }
      }
    },
    {
      "cell_type": "code",
      "execution_count": 92,
      "outputs": [
        {
          "data": {
            "text/plain": "        id  word0  word1  word2  word3  word4  word5  word6  word7  word8  \\\n0    31336      0      0      0      0      0      0      0      0      0   \n1  1061127      0      0      0      0      0      0      0      0      0   \n2  1106406      0      0      0      0      0      0      0      0      0   \n3    13195      0      0      0      0      0      0      0      0      0   \n4    37879      0      0      0      0      0      0      0      0      0   \n\n   ...  word1424  word1425  word1426  word1427  word1428  word1429  word1430  \\\n0  ...         0         0         1         0         0         0         0   \n1  ...         0         1         0         0         0         0         0   \n2  ...         0         0         0         0         0         0         0   \n3  ...         0         0         0         0         0         0         0   \n4  ...         0         0         0         0         0         0         0   \n\n   word1431  word1432                   field  \n0         0         0         Neural_Networks  \n1         0         0           Rule_Learning  \n2         0         0  Reinforcement_Learning  \n3         0         0  Reinforcement_Learning  \n4         0         0   Probabilistic_Methods  \n\n[5 rows x 1435 columns]",
            "text/html": "\u003cdiv\u003e\n\u003cstyle scoped\u003e\n    .dataframe tbody tr th:only-of-type {\n        vertical-align: middle;\n    }\n\n    .dataframe tbody tr th {\n        vertical-align: top;\n    }\n\n    .dataframe thead th {\n        text-align: right;\n    }\n\u003c/style\u003e\n\u003ctable border\u003d\"1\" class\u003d\"dataframe\"\u003e\n  \u003cthead\u003e\n    \u003ctr style\u003d\"text-align: right;\"\u003e\n      \u003cth\u003e\u003c/th\u003e\n      \u003cth\u003eid\u003c/th\u003e\n      \u003cth\u003eword0\u003c/th\u003e\n      \u003cth\u003eword1\u003c/th\u003e\n      \u003cth\u003eword2\u003c/th\u003e\n      \u003cth\u003eword3\u003c/th\u003e\n      \u003cth\u003eword4\u003c/th\u003e\n      \u003cth\u003eword5\u003c/th\u003e\n      \u003cth\u003eword6\u003c/th\u003e\n      \u003cth\u003eword7\u003c/th\u003e\n      \u003cth\u003eword8\u003c/th\u003e\n      \u003cth\u003e...\u003c/th\u003e\n      \u003cth\u003eword1424\u003c/th\u003e\n      \u003cth\u003eword1425\u003c/th\u003e\n      \u003cth\u003eword1426\u003c/th\u003e\n      \u003cth\u003eword1427\u003c/th\u003e\n      \u003cth\u003eword1428\u003c/th\u003e\n      \u003cth\u003eword1429\u003c/th\u003e\n      \u003cth\u003eword1430\u003c/th\u003e\n      \u003cth\u003eword1431\u003c/th\u003e\n      \u003cth\u003eword1432\u003c/th\u003e\n      \u003cth\u003efield\u003c/th\u003e\n    \u003c/tr\u003e\n  \u003c/thead\u003e\n  \u003ctbody\u003e\n    \u003ctr\u003e\n      \u003cth\u003e0\u003c/th\u003e\n      \u003ctd\u003e31336\u003c/td\u003e\n      \u003ctd\u003e0\u003c/td\u003e\n      \u003ctd\u003e0\u003c/td\u003e\n      \u003ctd\u003e0\u003c/td\u003e\n      \u003ctd\u003e0\u003c/td\u003e\n      \u003ctd\u003e0\u003c/td\u003e\n      \u003ctd\u003e0\u003c/td\u003e\n      \u003ctd\u003e0\u003c/td\u003e\n      \u003ctd\u003e0\u003c/td\u003e\n      \u003ctd\u003e0\u003c/td\u003e\n      \u003ctd\u003e...\u003c/td\u003e\n      \u003ctd\u003e0\u003c/td\u003e\n      \u003ctd\u003e0\u003c/td\u003e\n      \u003ctd\u003e1\u003c/td\u003e\n      \u003ctd\u003e0\u003c/td\u003e\n      \u003ctd\u003e0\u003c/td\u003e\n      \u003ctd\u003e0\u003c/td\u003e\n      \u003ctd\u003e0\u003c/td\u003e\n      \u003ctd\u003e0\u003c/td\u003e\n      \u003ctd\u003e0\u003c/td\u003e\n      \u003ctd\u003eNeural_Networks\u003c/td\u003e\n    \u003c/tr\u003e\n    \u003ctr\u003e\n      \u003cth\u003e1\u003c/th\u003e\n      \u003ctd\u003e1061127\u003c/td\u003e\n      \u003ctd\u003e0\u003c/td\u003e\n      \u003ctd\u003e0\u003c/td\u003e\n      \u003ctd\u003e0\u003c/td\u003e\n      \u003ctd\u003e0\u003c/td\u003e\n      \u003ctd\u003e0\u003c/td\u003e\n      \u003ctd\u003e0\u003c/td\u003e\n      \u003ctd\u003e0\u003c/td\u003e\n      \u003ctd\u003e0\u003c/td\u003e\n      \u003ctd\u003e0\u003c/td\u003e\n      \u003ctd\u003e...\u003c/td\u003e\n      \u003ctd\u003e0\u003c/td\u003e\n      \u003ctd\u003e1\u003c/td\u003e\n      \u003ctd\u003e0\u003c/td\u003e\n      \u003ctd\u003e0\u003c/td\u003e\n      \u003ctd\u003e0\u003c/td\u003e\n      \u003ctd\u003e0\u003c/td\u003e\n      \u003ctd\u003e0\u003c/td\u003e\n      \u003ctd\u003e0\u003c/td\u003e\n      \u003ctd\u003e0\u003c/td\u003e\n      \u003ctd\u003eRule_Learning\u003c/td\u003e\n    \u003c/tr\u003e\n    \u003ctr\u003e\n      \u003cth\u003e2\u003c/th\u003e\n      \u003ctd\u003e1106406\u003c/td\u003e\n      \u003ctd\u003e0\u003c/td\u003e\n      \u003ctd\u003e0\u003c/td\u003e\n      \u003ctd\u003e0\u003c/td\u003e\n      \u003ctd\u003e0\u003c/td\u003e\n      \u003ctd\u003e0\u003c/td\u003e\n      \u003ctd\u003e0\u003c/td\u003e\n      \u003ctd\u003e0\u003c/td\u003e\n      \u003ctd\u003e0\u003c/td\u003e\n      \u003ctd\u003e0\u003c/td\u003e\n      \u003ctd\u003e...\u003c/td\u003e\n      \u003ctd\u003e0\u003c/td\u003e\n      \u003ctd\u003e0\u003c/td\u003e\n      \u003ctd\u003e0\u003c/td\u003e\n      \u003ctd\u003e0\u003c/td\u003e\n      \u003ctd\u003e0\u003c/td\u003e\n      \u003ctd\u003e0\u003c/td\u003e\n      \u003ctd\u003e0\u003c/td\u003e\n      \u003ctd\u003e0\u003c/td\u003e\n      \u003ctd\u003e0\u003c/td\u003e\n      \u003ctd\u003eReinforcement_Learning\u003c/td\u003e\n    \u003c/tr\u003e\n    \u003ctr\u003e\n      \u003cth\u003e3\u003c/th\u003e\n      \u003ctd\u003e13195\u003c/td\u003e\n      \u003ctd\u003e0\u003c/td\u003e\n      \u003ctd\u003e0\u003c/td\u003e\n      \u003ctd\u003e0\u003c/td\u003e\n      \u003ctd\u003e0\u003c/td\u003e\n      \u003ctd\u003e0\u003c/td\u003e\n      \u003ctd\u003e0\u003c/td\u003e\n      \u003ctd\u003e0\u003c/td\u003e\n      \u003ctd\u003e0\u003c/td\u003e\n      \u003ctd\u003e0\u003c/td\u003e\n      \u003ctd\u003e...\u003c/td\u003e\n      \u003ctd\u003e0\u003c/td\u003e\n      \u003ctd\u003e0\u003c/td\u003e\n      \u003ctd\u003e0\u003c/td\u003e\n      \u003ctd\u003e0\u003c/td\u003e\n      \u003ctd\u003e0\u003c/td\u003e\n      \u003ctd\u003e0\u003c/td\u003e\n      \u003ctd\u003e0\u003c/td\u003e\n      \u003ctd\u003e0\u003c/td\u003e\n      \u003ctd\u003e0\u003c/td\u003e\n      \u003ctd\u003eReinforcement_Learning\u003c/td\u003e\n    \u003c/tr\u003e\n    \u003ctr\u003e\n      \u003cth\u003e4\u003c/th\u003e\n      \u003ctd\u003e37879\u003c/td\u003e\n      \u003ctd\u003e0\u003c/td\u003e\n      \u003ctd\u003e0\u003c/td\u003e\n      \u003ctd\u003e0\u003c/td\u003e\n      \u003ctd\u003e0\u003c/td\u003e\n      \u003ctd\u003e0\u003c/td\u003e\n      \u003ctd\u003e0\u003c/td\u003e\n      \u003ctd\u003e0\u003c/td\u003e\n      \u003ctd\u003e0\u003c/td\u003e\n      \u003ctd\u003e0\u003c/td\u003e\n      \u003ctd\u003e...\u003c/td\u003e\n      \u003ctd\u003e0\u003c/td\u003e\n      \u003ctd\u003e0\u003c/td\u003e\n      \u003ctd\u003e0\u003c/td\u003e\n      \u003ctd\u003e0\u003c/td\u003e\n      \u003ctd\u003e0\u003c/td\u003e\n      \u003ctd\u003e0\u003c/td\u003e\n      \u003ctd\u003e0\u003c/td\u003e\n      \u003ctd\u003e0\u003c/td\u003e\n      \u003ctd\u003e0\u003c/td\u003e\n      \u003ctd\u003eProbabilistic_Methods\u003c/td\u003e\n    \u003c/tr\u003e\n  \u003c/tbody\u003e\n\u003c/table\u003e\n\u003cp\u003e5 rows × 1435 columns\u003c/p\u003e\n\u003c/div\u003e"
          },
          "metadata": {},
          "output_type": "execute_result",
          "execution_count": 92
        }
      ],
      "source": "column_list \u003d [\u0027id\u0027] + [ \u0027word\u0027 + str(item) for item in range(1433) ] + [\"field\"]\npd_content \u003d pd.read_csv(\u0027data/cora/cora.content\u0027, delimiter\u003d\u0027\\t\u0027, names\u003dcolumn_list) \npd_content.head()",
      "metadata": {
        "pycharm": {
          "metadata": false,
          "name": "#%%\n",
          "is_executing": false
        }
      }
    },
    {
      "cell_type": "markdown",
      "source": "Print out the number of papers contained in each of the reasearch fields.\n\n**Hint:** You can use the `value_counts()` function.",
      "metadata": {
        "pycharm": {
          "metadata": false
        }
      }
    },
    {
      "cell_type": "code",
      "execution_count": 93,
      "outputs": [
        {
          "data": {
            "text/plain": "Neural_Networks           818\nProbabilistic_Methods     426\nGenetic_Algorithms        418\nTheory                    351\nCase_Based                298\nReinforcement_Learning    217\nRule_Learning             180\nName: field, dtype: int64"
          },
          "metadata": {},
          "output_type": "execute_result",
          "execution_count": 93
        }
      ],
      "source": "pd_content.field.value_counts()",
      "metadata": {
        "pycharm": {
          "metadata": false,
          "name": "#%%\n",
          "is_executing": false
        }
      }
    },
    {
      "cell_type": "markdown",
      "source": "Select all papers from a field of your choice and store their feature vectors into a NumPy array.\nCheck its shape.",
      "metadata": {
        "pycharm": {
          "metadata": false
        }
      }
    },
    {
      "cell_type": "code",
      "execution_count": 94,
      "outputs": [
        {
          "data": {
            "text/plain": "(818, 1433)"
          },
          "metadata": {},
          "output_type": "execute_result",
          "execution_count": 94
        }
      ],
      "source": "my_field \u003d \u0027Neural_Networks\u0027 \npd_content_by_field \u003d pd_content[ pd_content.field \u003d\u003d my_field ]\nfeatures \u003d pd_content_by_field.drop(columns \u003d [\u0027id\u0027, \u0027field\u0027])\nfeatures.shape",
      "metadata": {
        "pycharm": {
          "metadata": false,
          "name": "#%%\n",
          "is_executing": false
        }
      }
    },
    {
      "cell_type": "markdown",
      "source": "Let $D$ be the Euclidean distance matrix whose $(i,j)$ entry corresponds to the Euclidean distance between feature vectors $i$ and $j$.\nUsing the feature vectors of the papers from the field which you have selected, construct $D$ as a Numpy array. ",
      "metadata": {
        "pycharm": {
          "metadata": false
        }
      }
    },
    {
      "cell_type": "code",
      "execution_count": 95,
      "outputs": [
        {
          "data": {
            "text/plain": "(818, 818)"
          },
          "metadata": {},
          "output_type": "execute_result",
          "execution_count": 95
        }
      ],
      "source": "def distance_matrix_np(pts):\n    \"\"\"Returns matrix of pairwise Euclidean distances. Vectorized numpy version.\"\"\"\n    return np.sum((pts[None,:] - pts[:, None])**2, -1)**0.5\n\ndistance \u003d  distance_matrix_np(features.to_numpy())\ndistance.shape",
      "metadata": {
        "pycharm": {
          "metadata": false,
          "name": "#%%\n",
          "is_executing": false
        }
      }
    },
    {
      "cell_type": "markdown",
      "source": "Check the mean pairwise distance $\\mathbb{E}[D]$.",
      "metadata": {
        "pycharm": {
          "metadata": false
        }
      }
    },
    {
      "cell_type": "code",
      "execution_count": 96,
      "outputs": [
        {
          "data": {
            "text/plain": "5.689638434824233"
          },
          "metadata": {},
          "output_type": "execute_result",
          "execution_count": 96
        }
      ],
      "source": "mean_distance \u003d distance.mean()\nmean_distance",
      "metadata": {
        "pycharm": {
          "metadata": false,
          "name": "#%%\n",
          "is_executing": false
        }
      }
    },
    {
      "cell_type": "markdown",
      "source": "Plot an histogram of the euclidean distances.",
      "metadata": {
        "pycharm": {
          "metadata": false
        }
      }
    },
    {
      "cell_type": "code",
      "execution_count": 97,
      "outputs": [
        {
          "data": {
            "text/plain": "\u003cFigure size 576x288 with 1 Axes\u003e",
            "image/png": "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\u003d\u003d\n"
          },
          "metadata": {
            "needs_background": "light"
          },
          "output_type": "display_data"
        }
      ],
      "source": "plt.figure(1, figsize\u003d(8, 4))\nplt.title(\"Histogram of Euclidean distances between papers\")\nplt.hist(distance.flatten());",
      "metadata": {
        "pycharm": {
          "metadata": false,
          "name": "#%%\n",
          "is_executing": false
        }
      }
    },
    {
      "cell_type": "markdown",
      "source": "Now create an adjacency matrix for the papers by thresholding the Euclidean distance matrix.\nThe resulting (unweighted) adjacency matrix should have entries\n$$ A_{ij} \u003d \\begin{cases} 1, \\; \\text{if} \\; d(i,j)\u003c \\mathbb{E}[D], \\; i \\neq j, \\\\ 0, \\; \\text{otherwise.} \\end{cases} $$\n\nFirst, let us choose the mean distance as the threshold.",
      "metadata": {
        "pycharm": {
          "metadata": false
        }
      }
    },
    {
      "cell_type": "code",
      "execution_count": 98,
      "outputs": [
        {
          "data": {
            "text/plain": "(818, 818)"
          },
          "metadata": {},
          "output_type": "execute_result",
          "execution_count": 98
        }
      ],
      "source": "threshold \u003d mean_distance\nindx \u003d distance \u003c threshold\nA_feature \u003d distance.copy()\nA_feature[indx] \u003d 0\nA_feature.shape\n",
      "metadata": {
        "pycharm": {
          "metadata": false,
          "name": "#%%\n",
          "is_executing": false
        }
      }
    },
    {
      "cell_type": "markdown",
      "source": "Now read the `cora.cites` file and construct the citation graph by converting the given citation connections into an adjacency matrix.\n",
      "metadata": {
        "pycharm": {
          "metadata": false
        }
      }
    },
    {
      "cell_type": "code",
      "execution_count": 99,
      "outputs": [],
      "source": "# Create conversion matrix between index and paper id\nid2index \u003d pd_content_by_field.copy()\nid2index.reset_index(level \u003d 0, inplace \u003d True)\nid2index \u003d id2index[ [\u0027index\u0027, \u0027id\u0027] ]\nindex2id \u003d id2index.copy()\nid2index.set_index(\u0027id\u0027, inplace \u003d True)\nindex2id.set_index(\u0027index\u0027, inplace \u003d True)\n",
      "metadata": {
        "pycharm": {
          "metadata": false,
          "name": "#%%\n",
          "is_executing": false
        }
      }
    },
    {
      "cell_type": "code",
      "execution_count": 100,
      "outputs": [
        {
          "data": {
            "text/plain": "(818, 818)"
          },
          "metadata": {},
          "output_type": "execute_result",
          "execution_count": 100
        }
      ],
      "source": "cora_cites \u003d np.genfromtxt(\u0027data/cora/cora.cites\u0027, delimiter\u003d\u0027\\t\u0027)\nn \u003d pd_content_by_field.shape[0]\nA_citation \u003d np.zeros((n, n))\nA_citation.shape\n",
      "metadata": {
        "pycharm": {
          "metadata": false,
          "name": "#%%\n",
          "is_executing": false
        }
      }
    },
    {
      "cell_type": "markdown",
      "source": "Get the adjacency matrix of the citation graph for the field that you chose.\nYou have to appropriately reduce the adjacency matrix of the citation graph.",
      "metadata": {
        "pycharm": {
          "metadata": false
        }
      }
    },
    {
      "cell_type": "code",
      "execution_count": 102,
      "outputs": [],
      "source": "# Forming the adjacency matrix (used an encode table)\nfor row in cora_cites:\n    to \u003d int(row[0])\n    fr \u003d int(row[1])\n    try:\n        A_citation[ id2index.loc[to].values[0] ][ id2index.loc[fr].values[0] ] \u003d 1\n        A_citation[ id2index.loc[fr].values[0] ][ id2index.loc[to].values[0] ] \u003d 1\n    except Exception as e:\n        pass",
      "metadata": {
        "pycharm": {
          "metadata": false,
          "name": "#%%\n",
          "is_executing": false
        }
      }
    },
    {
      "cell_type": "markdown",
      "source": "Check if your adjacency matrix is symmetric. Symmetrize your final adjacency matrix if it\u0027s not already symmetric.",
      "metadata": {
        "pycharm": {
          "metadata": false
        }
      }
    },
    {
      "cell_type": "code",
      "execution_count": 103,
      "outputs": [
        {
          "name": "stdout",
          "text": [
            "Matrix is symmetric !\n"
          ],
          "output_type": "stream"
        }
      ],
      "source": "# Your code here.\nif np.count_nonzero(A_citation - A_citation.transpose()) \u003d\u003d 0:\n    print(\"Matrix is symmetric !\")\nelse:\n    print(\"Matrix is not symmetric!\")\n    ",
      "metadata": {
        "pycharm": {
          "metadata": false,
          "name": "#%%\n",
          "is_executing": false
        }
      }
    },
    {
      "cell_type": "markdown",
      "source": "Check the shape of your adjacency matrix again.",
      "metadata": {
        "pycharm": {
          "metadata": false
        }
      }
    },
    {
      "cell_type": "code",
      "execution_count": 104,
      "outputs": [
        {
          "data": {
            "text/plain": "(818, 818)"
          },
          "metadata": {},
          "output_type": "execute_result",
          "execution_count": 104
        }
      ],
      "source": "A_citation.shape",
      "metadata": {
        "pycharm": {
          "metadata": false,
          "name": "#%%\n",
          "is_executing": false
        }
      }
    },
    {
      "cell_type": "markdown",
      "source": "### Question 2: Degree Distribution and Moments",
      "metadata": {
        "pycharm": {
          "metadata": false
        }
      }
    },
    {
      "cell_type": "markdown",
      "source": "What is the total number of edges in each graph?",
      "metadata": {
        "pycharm": {
          "metadata": false
        }
      }
    },
    {
      "cell_type": "code",
      "execution_count": 105,
      "outputs": [],
      "source": "def getDegreeFromAdjMatrix(matrix):\n    return np.count_nonzero(matrix, axis \u003d 1)\n\ndef getNrEdgesFromAdjMatrix(matrix):\n    return np.count_nonzero(matrix) / 2\n",
      "metadata": {
        "pycharm": {
          "metadata": false,
          "name": "#%%\n",
          "is_executing": false
        }
      }
    },
    {
      "cell_type": "code",
      "execution_count": 106,
      "outputs": [
        {
          "name": "stdout",
          "text": [
            "Number of edges in the feature graph: 197382.0\nNumber of edges in the citation graph: 339.0\n"
          ],
          "output_type": "stream"
        }
      ],
      "source": "num_edges_feature \u003d getNrEdgesFromAdjMatrix(A_feature)\nnum_edges_citation \u003d getNrEdgesFromAdjMatrix(A_citation)\nprint(f\"Number of edges in the feature graph: {num_edges_feature}\")\nprint(f\"Number of edges in the citation graph: {num_edges_citation}\")",
      "metadata": {
        "pycharm": {
          "metadata": false,
          "name": "#%%\n",
          "is_executing": false
        }
      }
    },
    {
      "cell_type": "markdown",
      "source": "Plot the degree distribution histogram for each of the graphs.",
      "metadata": {
        "pycharm": {
          "metadata": false
        }
      }
    },
    {
      "cell_type": "code",
      "execution_count": 107,
      "outputs": [],
      "source": "num_edges_citation \u003d getDegreeFromAdjMatrix(A_citation)\n",
      "metadata": {
        "pycharm": {
          "metadata": false,
          "name": "#%%\n",
          "is_executing": false
        }
      }
    },
    {
      "cell_type": "code",
      "execution_count": 156,
      "outputs": [
        {
          "data": {
            "text/plain": "\u003cFigure size 1152x288 with 2 Axes\u003e",
            "image/png": "[encoded data removed]"
          },
          "metadata": {
            "needs_background": "light"
          },
          "output_type": "display_data"
        }
      ],
      "source": "degrees_citation \u003d getDegreeFromAdjMatrix(A_citation)\ndegrees_feature \u003d getDegreeFromAdjMatrix(A_feature)\n\ndeg_hist_normalization \u003d np.ones(degrees_citation.shape[0]) / degrees_citation.shape[0]\n\nfig, axes \u003d plt.subplots(1, 2, figsize\u003d(16, 4))\naxes[0].set_title(\u0027Citation graph degree distribution\u0027)\naxes[0].hist(degrees_citation, weights\u003ddeg_hist_normalization);\naxes[1].set_title(\u0027Feature graph degree distribution\u0027)\naxes[1].hist(degrees_feature, weights\u003ddeg_hist_normalization);",
      "metadata": {
        "pycharm": {
          "metadata": false,
          "name": "#%%\n",
          "is_executing": false
        }
      }
    },
    {
      "cell_type": "markdown",
      "source": "Calculate the first and second moments of the degree distribution of each graph.",
      "metadata": {
        "pycharm": {
          "metadata": false
        }
      }
    },
    {
      "cell_type": "code",
      "execution_count": 109,
      "outputs": [
        {
          "name": "stdout",
          "text": [
            "1st moment of citation graph: 0.8288508557457213\n2nd moment of citation graph: 8.320341222254765\n1st moment of feature graph: 482.5965770171149\n2nd moment of feature graph: 55375.54874133943\n"
          ],
          "output_type": "stream"
        }
      ],
      "source": "cit_moment_1 \u003d np.mean(getDegreeFromAdjMatrix(A_citation)) \ncit_moment_2 \u003d np.var(getDegreeFromAdjMatrix(A_citation)) #variance\n\nfeat_moment_1 \u003d np.mean(getDegreeFromAdjMatrix(A_feature)) \nfeat_moment_2 \u003d np.var(getDegreeFromAdjMatrix(A_feature)) #variance\n\nprint(f\"1st moment of citation graph: {cit_moment_1}\")\nprint(f\"2nd moment of citation graph: {cit_moment_2}\")\nprint(f\"1st moment of feature graph: {feat_moment_1}\")\nprint(f\"2nd moment of feature graph: {feat_moment_2}\")",
      "metadata": {
        "pycharm": {
          "metadata": false,
          "name": "#%%\n",
          "is_executing": false
        }
      }
    },
    {
      "cell_type": "markdown",
      "source": "What information do the moments provide you about the graphs?\nExplain the differences in moments between graphs by comparing their degree distributions.",
      "metadata": {
        "pycharm": {
          "metadata": false
        }
      }
    },
    {
      "cell_type": "markdown",
      "source": "We can clearly see that the feature graph has a more sparse distribution of nodes degree and this is seen in a bigger variance.",
      "metadata": {
        "pycharm": {
          "metadata": false
        }
      }
    },
    {
      "cell_type": "markdown",
      "source": "Select the 20 largest hubs for each of the graphs and remove them. Observe the sparsity pattern of the adjacency matrices of the citation and feature graphs before and after such a reduction.\n",
      "metadata": {
        "pycharm": {
          "metadata": false
        }
      }
    },
    {
      "cell_type": "code",
      "execution_count": 143,
      "outputs": [
        {
          "name": "stdout",
          "text": [
            "(818, 818)\n"
          ],
          "output_type": "stream"
        },
        {
          "data": {
            "text/plain": "array([[0., 0., 0., ..., 0., 0., 0.],\n       [0., 0., 0., ..., 0., 0., 0.],\n       [0., 0., 0., ..., 0., 0., 0.],\n       ...,\n       [0., 0., 0., ..., 0., 0., 0.],\n       [0., 0., 0., ..., 0., 0., 0.],\n       [0., 0., 0., ..., 0., 0., 0.]])"
          },
          "metadata": {},
          "output_type": "execute_result",
          "execution_count": 143
        }
      ],
      "source": "def getLargestHubs(adjMatrix, threshold):\n    degrees \u003d getDegreeFromAdjMatrix(adjMatrix)\n    degrees \u003d pd.DataFrame(degrees).sort_values(by\u003d[0], ascending \u003d False)\n    return degrees.iloc[:threshold].index\n\ndef removeLargestHubs(adjMatrix, threshold):\n    hubs \u003d getLargestHubs(adjMatrix, threshold)\n    print(adjMatrix.shape)\n    adjMa2 \u003d adjMatrix.copy()\n    adjMa2 \u003d np.delete(adjMa2, hubs, 0)\n    adjMa2 \u003d np.delete(adjMa2, hubs, 1)\n    return adjMa2\n    \nremoveLargestHubs(A_citation, 20)\n",
      "metadata": {
        "pycharm": {
          "metadata": false,
          "name": "#%%\n",
          "is_executing": false
        }
      }
    },
    {
      "cell_type": "code",
      "execution_count": 167,
      "outputs": [
        {
          "name": "stdout",
          "text": [
            "(818, 818)\n(818, 818)\n"
          ],
          "output_type": "stream"
        },
        {
          "data": {
            "text/plain": "\u003cFigure size 1152x1152 with 4 Axes\u003e",
            "image/png": "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\u003d\n"
          },
          "metadata": {
            "needs_background": "light"
          },
          "output_type": "display_data"
        }
      ],
      "source": "reduced_A_feature \u003d removeLargestHubs(A_feature, 20)\nreduced_A_citation \u003d removeLargestHubs(A_citation, 20)\n\nfig, axes \u003d plt.subplots(2, 2, figsize\u003d(16, 16))\naxes[0, 0].set_title(\u0027Feature graph: adjacency matrix sparsity pattern\u0027)\naxes[0, 0].spy(A_feature);\naxes[0, 1].set_title(\u0027Feature graph without top 20 hubs: adjacency matrix sparsity pattern\u0027)\naxes[0, 1].spy(reduced_A_feature);\naxes[1, 0].set_title(\u0027Citation graph: adjacency matrix sparsity pattern\u0027)\naxes[1, 0].spy(A_citation);\naxes[1, 1].set_title(\u0027Citation graph without top 20 hubs: adjacency matrix sparsity pattern\u0027)\naxes[1, 1].spy(reduced_A_citation);",
      "metadata": {
        "pycharm": {
          "metadata": false,
          "name": "#%%\n",
          "is_executing": false
        }
      }
    },
    {
      "cell_type": "markdown",
      "source": "Plot the new degree distribution histograms.",
      "metadata": {
        "pycharm": {
          "metadata": false
        }
      }
    },
    {
      "cell_type": "code",
      "execution_count": 168,
      "outputs": [
        {
          "data": {
            "text/plain": "\u003cFigure size 1152x288 with 2 Axes\u003e",
            "image/png": "[encoded data removed]"
          },
          "metadata": {
            "needs_background": "light"
          },
          "output_type": "display_data"
        }
      ],
      "source": "reduced_degrees_feat \u003d  getDegreeFromAdjMatrix(reduced_A_feature) # Your code here.\nreduced_degrees_cit \u003d getDegreeFromAdjMatrix(reduced_A_citation) # Your code here.\n\ndeg_hist_normalization \u003d np.ones(reduced_degrees_feat.shape[0])/reduced_degrees_feat.shape[0]\n\nfig, axes \u003d plt.subplots(1, 2, figsize\u003d(16, 4))\naxes[0].set_title(\u0027Citation graph degree distribution\u0027)\naxes[0].hist(reduced_degrees_cit, weights\u003ddeg_hist_normalization);\naxes[1].set_title(\u0027Feature graph degree distribution\u0027)\naxes[1].hist(reduced_degrees_feat, weights\u003ddeg_hist_normalization);",
      "metadata": {
        "pycharm": {
          "metadata": false,
          "name": "#%%\n",
          "is_executing": false
        }
      }
    },
    {
      "cell_type": "markdown",
      "source": "Compute the first and second moments for the new graphs.",
      "metadata": {
        "pycharm": {
          "metadata": false
        }
      }
    },
    {
      "cell_type": "code",
      "execution_count": 171,
      "outputs": [
        {
          "name": "stdout",
          "text": [
            "Citation graph first moment: 0.3358395989974937\nCitation graph second moment: 0.546359633419388\nFeature graph first moment:  459.56892230576443\nFeature graph second moment:  52976.36053793632\n"
          ],
          "output_type": "stream"
        }
      ],
      "source": "reduced_cit_moment_1 \u003d np.mean(getDegreeFromAdjMatrix(reduced_A_citation)) # Your code here.\nreduced_cit_moment_2 \u003d np.var(getDegreeFromAdjMatrix(reduced_A_citation))# Your code here.\n\nreduced_feat_moment_1 \u003d np.mean(getDegreeFromAdjMatrix(reduced_A_feature))# Your code here.\nreduced_feat_moment_2 \u003d np.var(getDegreeFromAdjMatrix(reduced_A_feature))# Your code here.\n\n\nprint(\"Citation graph first moment:\", reduced_cit_moment_1)\nprint(\"Citation graph second moment:\", reduced_cit_moment_2)\nprint(\"Feature graph first moment: \", reduced_feat_moment_1)\nprint(\"Feature graph second moment: \", reduced_feat_moment_2)",
      "metadata": {
        "pycharm": {
          "metadata": false,
          "name": "#%%\n",
          "is_executing": false
        }
      }
    },
    {
      "cell_type": "markdown",
      "source": "Print the number of edges in the reduced graphs.",
      "metadata": {
        "pycharm": {
          "metadata": false
        }
      }
    },
    {
      "cell_type": "code",
      "execution_count": 174,
      "outputs": [
        {
          "name": "stdout",
          "text": [
            "Nr of edges in reduced citation graph:  134.0\nNr of edges in reduced features graph:  183368.0\n\n\n\nNr of edges in original citation graph:  339.0\nNr of edges in original features graph:  197382.0\n"
          ],
          "output_type": "stream"
        }
      ],
      "source": "print(\"Nr of edges in reduced citation graph: \", getNrEdgesFromAdjMatrix(reduced_A_citation))\nprint(\"Nr of edges in reduced features graph: \", getNrEdgesFromAdjMatrix(reduced_A_feature))\nprint(\"\\n\\n\")\n\nprint(\"Nr of edges in original citation graph: \", getNrEdgesFromAdjMatrix(A_citation))\nprint(\"Nr of edges in original features graph: \", getNrEdgesFromAdjMatrix(A_feature))",
      "metadata": {
        "pycharm": {
          "metadata": false,
          "name": "#%%\n",
          "is_executing": false
        }
      }
    },
    {
      "cell_type": "markdown",
      "source": "Is the effect of removing the hubs the same for both networks? Look at the percentage changes for each moment. Which of the moments is affected the most and in which graph? Explain why.  \n\n**Hint:** Examine the degree distributions.",
      "metadata": {
        "pycharm": {
          "metadata": false
        }
      }
    },
    {
      "cell_type": "markdown",
      "source": "As the features graph has more nodes and edges than the citation one, by eliminating the \ntop 20 largest hubs the citation graph is impacted more.\nThis can bee seen in a difference of 2nd moment of 60% (for the citation graph), as for the future graph \nonly consisting in a difference of 5%.\n",
      "metadata": {
        "pycharm": {
          "metadata": false
        }
      }
    },
    {
      "cell_type": "markdown",
      "source": "### Question 3: Pruning, sparsity, paths",
      "metadata": {
        "pycharm": {
          "metadata": false
        }
      }
    },
    {
      "cell_type": "markdown",
      "source": "By adjusting the threshold of the euclidean distance matrix, prune the feature graph so that its number of edges is roughly close (within a hundred edges) to the number of edges in the citation graph.",
      "metadata": {
        "pycharm": {
          "metadata": false
        }
      }
    },
    {
      "cell_type": "code",
      "execution_count": null,
      "outputs": [],
      "source": "threshold \u003d # Your code here.\n\nA_feature_pruned \u003d # Your code here\nnum_edges_feature_pruned \u003d # Your code here.\n\nprint(f\"Number of edges in the feature graph: {num_edges_feature}\")\nprint(f\"Number of edges in the feature graph after pruning: {num_edges_feature_pruned}\")\nprint(f\"Number of edges in the citation graph: {num_edges_citation}\")",
      "metadata": {
        "pycharm": {
          "metadata": false,
          "name": "#%%\n"
        }
      }
    },
    {
      "cell_type": "markdown",
      "source": "Check your results by comparing the sparsity patterns and total number of edges between the graphs.",
      "metadata": {
        "pycharm": {
          "metadata": false
        }
      }
    },
    {
      "cell_type": "code",
      "execution_count": null,
      "outputs": [],
      "source": "fig, axes \u003d plt.subplots(1, 2, figsize\u003d(12, 6))\naxes[0].set_title(\u0027Citation graph sparsity\u0027)\naxes[0].spy(A_citation);\naxes[1].set_title(\u0027Feature graph sparsity\u0027)\naxes[1].spy(A_feature_pruned);",
      "metadata": {
        "pycharm": {
          "metadata": false,
          "name": "#%%\n"
        }
      }
    },
    {
      "cell_type": "markdown",
      "source": "Let $C_{k}(i,j)$ denote the number of paths of length $k$ from node $i$ to node $j$. \n\nWe define the path matrix $P$, with entries\n$ P_{ij} \u003d \\displaystyle\\sum_{k\u003d0}^{N}C_{k}(i,j). $",
      "metadata": {
        "pycharm": {
          "metadata": false
        }
      }
    },
    {
      "cell_type": "markdown",
      "source": "Calculate the path matrices for both the citation and the unpruned feature graphs for $N \u003d10$.  \n\n**Hint:** Use [powers of the adjacency matrix](https://en.wikipedia.org/wiki/Adjacency_matrix#Matrix_powers).",
      "metadata": {
        "pycharm": {
          "metadata": false
        }
      }
    },
    {
      "cell_type": "code",
      "execution_count": null,
      "outputs": [],
      "source": "path_matrix_citation \u003d # Your code here.\npath_matrix_feature \u003d # Your code here.",
      "metadata": {
        "pycharm": {
          "metadata": false,
          "name": "#%%\n"
        }
      }
    },
    {
      "cell_type": "markdown",
      "source": "Check the sparsity pattern for both of path matrices.",
      "metadata": {
        "pycharm": {
          "metadata": false
        }
      }
    },
    {
      "cell_type": "code",
      "execution_count": null,
      "outputs": [],
      "source": "fig, axes \u003d plt.subplots(1, 2, figsize\u003d(16, 9))\naxes[0].set_title(\u0027Citation Path matrix sparsity\u0027)\naxes[0].spy(path_matrix_citation);\naxes[1].set_title(\u0027Feature Path matrix sparsity\u0027)\naxes[1].spy(path_matrix_feature);",
      "metadata": {
        "pycharm": {
          "metadata": false,
          "name": "#%%\n"
        }
      }
    },
    {
      "cell_type": "markdown",
      "source": "Now calculate the path matrix of the pruned feature graph for $N\u003d10$. Plot the corresponding sparsity pattern. Is there any difference?",
      "metadata": {
        "pycharm": {
          "metadata": false
        }
      }
    },
    {
      "cell_type": "code",
      "execution_count": null,
      "outputs": [],
      "source": "path_matrix_pruned \u003d # Your code here.\n\nplt.figure(figsize\u003d(12, 6))\nplt.title(\u0027Feature Path matrix sparsity\u0027)\nplt.spy(path_matrix_pruned);",
      "metadata": {
        "pycharm": {
          "metadata": false,
          "name": "#%%\n"
        }
      }
    },
    {
      "cell_type": "markdown",
      "source": "**Your answer here:**",
      "metadata": {
        "pycharm": {
          "metadata": false
        }
      }
    },
    {
      "cell_type": "markdown",
      "source": "Describe how you can use the above process of counting paths to determine whether a graph is connected or not. Is the original (unpruned) feature graph connected?",
      "metadata": {
        "pycharm": {
          "metadata": false
        }
      }
    },
    {
      "cell_type": "markdown",
      "source": "**Your answer here:** ",
      "metadata": {
        "pycharm": {
          "metadata": false
        }
      }
    },
    {
      "cell_type": "markdown",
      "source": "If the graph is connected, how can you guess its diameter using the path matrix?",
      "metadata": {
        "pycharm": {
          "metadata": false
        }
      }
    },
    {
      "cell_type": "markdown",
      "source": "**Your answer here:**",
      "metadata": {
        "pycharm": {
          "metadata": false
        }
      }
    },
    {
      "cell_type": "markdown",
      "source": "If any of your graphs is connected, calculate the diameter using that process.",
      "metadata": {
        "pycharm": {
          "metadata": false
        }
      }
    },
    {
      "cell_type": "code",
      "execution_count": null,
      "outputs": [],
      "source": "diameter \u003d # Your code here.\nprint(f\"The diameter is: {diameter}\")",
      "metadata": {
        "pycharm": {
          "metadata": false,
          "name": "#%%\n"
        }
      }
    },
    {
      "cell_type": "markdown",
      "source": "Check if your guess was correct using [NetworkX](https://networkx.github.io/documentation/stable/reference/algorithms/generated/networkx.algorithms.distance_measures.diameter.html).\nNote: usage of NetworkX is only allowed in this part of Section 1.",
      "metadata": {
        "pycharm": {
          "metadata": false
        }
      }
    },
    {
      "cell_type": "code",
      "execution_count": null,
      "outputs": [],
      "source": "import networkx as nx\nfeature_graph \u003d nx.from_numpy_matrix(A_feature)\nprint(f\"Diameter according to networkx: {nx.diameter(feature_graph)}\")",
      "metadata": {
        "pycharm": {
          "metadata": false,
          "name": "#%%\n"
        }
      }
    },
    {
      "cell_type": "markdown",
      "source": "## Section 2: Network Models",
      "metadata": {
        "pycharm": {
          "metadata": false
        }
      }
    },
    {
      "cell_type": "markdown",
      "source": "In this section, you will analyze the feature and citation graphs you constructed in the previous section in terms of the network model types.\nFor this purpose, you can use the NetworkX libary imported below.",
      "metadata": {
        "pycharm": {
          "metadata": false
        }
      }
    },
    {
      "cell_type": "code",
      "execution_count": null,
      "outputs": [],
      "source": "import networkx as nx",
      "metadata": {
        "pycharm": {
          "metadata": false,
          "name": "#%%\n"
        }
      }
    },
    {
      "cell_type": "markdown",
      "source": "Let us create NetworkX graph objects from the adjacency matrices computed in the previous section.",
      "metadata": {
        "pycharm": {
          "metadata": false
        }
      }
    },
    {
      "cell_type": "code",
      "execution_count": null,
      "outputs": [],
      "source": "G_citation \u003d nx.from_numpy_matrix(A_citation)\nprint(\u0027Number of nodes: {}, Number of edges: {}\u0027. format(G_citation.number_of_nodes(), G_citation.number_of_edges()))\nprint(\u0027Number of self-loops: {}, Number of connected components: {}\u0027. format(G_citation.number_of_selfloops(), nx.number_connected_components(G_citation)))",
      "metadata": {
        "pycharm": {
          "metadata": false,
          "name": "#%%\n"
        }
      }
    },
    {
      "cell_type": "markdown",
      "source": "In the rest of this assignment, we will consider the pruned feature graph as the feature network.",
      "metadata": {
        "pycharm": {
          "metadata": false
        }
      }
    },
    {
      "cell_type": "code",
      "execution_count": null,
      "outputs": [],
      "source": "G_feature \u003d nx.from_numpy_matrix(A_feature_pruned)\nprint(\u0027Number of nodes: {}, Number of edges: {}\u0027. format(G_feature.number_of_nodes(), G_feature.number_of_edges()))\nprint(\u0027Number of self-loops: {}, Number of connected components: {}\u0027. format(G_feature.number_of_selfloops(), nx.number_connected_components(G_feature)))",
      "metadata": {
        "pycharm": {
          "metadata": false,
          "name": "#%%\n"
        }
      }
    },
    {
      "cell_type": "markdown",
      "source": "### Question 4: Simulation with Erdős–Rényi and Barabási–Albert models",
      "metadata": {
        "pycharm": {
          "metadata": false
        }
      }
    },
    {
      "cell_type": "markdown",
      "source": "Create an Erdős–Rényi and a Barabási–Albert graph using NetworkX to simulate the citation graph and the feature graph you have. When choosing parameters for the networks, take into account the number of vertices and edges of the original networks.",
      "metadata": {
        "pycharm": {
          "metadata": false
        }
      }
    },
    {
      "cell_type": "markdown",
      "source": "The number of nodes should exactly match the number of nodes in the original citation and feature graphs.",
      "metadata": {
        "pycharm": {
          "metadata": false
        }
      }
    },
    {
      "cell_type": "code",
      "execution_count": null,
      "outputs": [],
      "source": "assert len(G_citation.nodes()) \u003d\u003d len(G_feature.nodes())\nn \u003d len(G_citation.nodes())\nn",
      "metadata": {
        "pycharm": {
          "metadata": false,
          "name": "#%%\n"
        }
      }
    },
    {
      "cell_type": "markdown",
      "source": "The number of match shall fit the average of the number of edges in the citation and the feature graph.",
      "metadata": {
        "pycharm": {
          "metadata": false
        }
      }
    },
    {
      "cell_type": "code",
      "execution_count": null,
      "outputs": [],
      "source": "m \u003d np.round((G_citation.size() + G_feature.size()) / 2)\nm",
      "metadata": {
        "pycharm": {
          "metadata": false,
          "name": "#%%\n"
        }
      }
    },
    {
      "cell_type": "markdown",
      "source": "How do you determine the probability parameter for the Erdős–Rényi graph?",
      "metadata": {
        "pycharm": {
          "metadata": false
        }
      }
    },
    {
      "cell_type": "markdown",
      "source": "**Your answer here:**",
      "metadata": {
        "pycharm": {
          "metadata": false
        }
      }
    },
    {
      "cell_type": "code",
      "execution_count": null,
      "outputs": [],
      "source": "p \u003d # Your code here.\nG_er \u003d nx.erdos_renyi_graph(n, p)",
      "metadata": {
        "pycharm": {
          "metadata": false,
          "name": "#%%\n"
        }
      }
    },
    {
      "cell_type": "markdown",
      "source": "Check the number of edges in the Erdős–Rényi graph.",
      "metadata": {
        "pycharm": {
          "metadata": false
        }
      }
    },
    {
      "cell_type": "code",
      "execution_count": null,
      "outputs": [],
      "source": "print(\u0027My Erdos-Rényi network that simulates the citation graph has {} edges.\u0027.format(G_er.size()))",
      "metadata": {
        "pycharm": {
          "metadata": false,
          "name": "#%%\n"
        }
      }
    },
    {
      "cell_type": "markdown",
      "source": "How do you determine the preferential attachment parameter for Barabási–Albert graphs?",
      "metadata": {
        "pycharm": {
          "metadata": false
        }
      }
    },
    {
      "cell_type": "markdown",
      "source": "**Your answer here:**",
      "metadata": {
        "pycharm": {
          "metadata": false
        }
      }
    },
    {
      "cell_type": "code",
      "execution_count": null,
      "outputs": [],
      "source": "q \u003d # Your code here.\nG_ba \u003d nx.barabasi_albert_graph(n, q)",
      "metadata": {
        "pycharm": {
          "metadata": false,
          "name": "#%%\n"
        }
      }
    },
    {
      "cell_type": "markdown",
      "source": "Check the number of edges in the Barabási–Albert graph.",
      "metadata": {
        "pycharm": {
          "metadata": false
        }
      }
    },
    {
      "cell_type": "code",
      "execution_count": null,
      "outputs": [],
      "source": "print(\u0027My Barabási-Albert network that simulates the citation graph has {} edges.\u0027.format(G_ba.size()))",
      "metadata": {
        "pycharm": {
          "metadata": false,
          "name": "#%%\n"
        }
      }
    },
    {
      "cell_type": "markdown",
      "source": "### Question 5: Giant Component",
      "metadata": {
        "pycharm": {
          "metadata": false
        }
      }
    },
    {
      "cell_type": "markdown",
      "source": "Check the size of the largest connected component in the citation and feature graphs.",
      "metadata": {
        "pycharm": {
          "metadata": false
        }
      }
    },
    {
      "cell_type": "code",
      "execution_count": null,
      "outputs": [],
      "source": "giant_citation \u003d # Your code here.\nprint(\u0027The giant component of the citation graph has {} nodes and {} edges.\u0027.format(giant_citation.number_of_nodes(), giant_citation.size()))",
      "metadata": {
        "pycharm": {
          "metadata": false,
          "name": "#%%\n"
        }
      }
    },
    {
      "cell_type": "code",
      "execution_count": null,
      "outputs": [],
      "source": "giant_feature \u003d # Your code here.\nprint(\u0027The giant component of the feature graph has {} nodes and {} edges.\u0027.format(giant_feature.number_of_nodes(), giant_feature.size()))",
      "metadata": {
        "pycharm": {
          "metadata": false,
          "name": "#%%\n"
        }
      }
    },
    {
      "cell_type": "markdown",
      "source": "Check the size of the giant components in the generated Erdős–Rényi graph.",
      "metadata": {
        "pycharm": {
          "metadata": false
        }
      }
    },
    {
      "cell_type": "code",
      "execution_count": null,
      "outputs": [],
      "source": "giant_er \u003d # Your code here.\nprint(\u0027The giant component of the Erdos-Rényi network has {} nodes and {} edges.\u0027.format(giant_er.number_of_nodes(), giant_er.size()))",
      "metadata": {
        "pycharm": {
          "metadata": false,
          "name": "#%%\n"
        }
      }
    },
    {
      "cell_type": "markdown",
      "source": "Let us match the number of nodes in the giant component of the feature graph by simulating a new Erdős–Rényi network.\nHow do you choose the probability parameter this time? \n\n**Hint:** Recall the expected giant component size from the lectures.",
      "metadata": {
        "pycharm": {
          "metadata": false
        }
      }
    },
    {
      "cell_type": "markdown",
      "source": "**Your answer here:**",
      "metadata": {
        "pycharm": {
          "metadata": false
        }
      }
    },
    {
      "cell_type": "code",
      "execution_count": null,
      "outputs": [],
      "source": "p_new \u003d # Your code here.\nG_er_new \u003d nx.erdos_renyi_graph(n, p_new)",
      "metadata": {
        "pycharm": {
          "metadata": false,
          "name": "#%%\n"
        }
      }
    },
    {
      "cell_type": "markdown",
      "source": "Check the size of the new Erdős–Rényi network and its giant component.",
      "metadata": {
        "pycharm": {
          "metadata": false
        }
      }
    },
    {
      "cell_type": "code",
      "execution_count": null,
      "outputs": [],
      "source": "print(\u0027My new Erdos Renyi network that simulates the citation graph has {} edges.\u0027.format(G_er_new.size()))\ngiant_er_new \u003d # Your code here.\nprint(\u0027The giant component of the new Erdos-Rényi network has {} nodes and {} edges.\u0027.format(giant_er_new.number_of_nodes(), giant_er_new.size()))",
      "metadata": {
        "pycharm": {
          "metadata": false,
          "name": "#%%\n"
        }
      }
    },
    {
      "cell_type": "markdown",
      "source": "### Question 6: Degree Distributions",
      "metadata": {
        "pycharm": {
          "metadata": false
        }
      }
    },
    {
      "cell_type": "markdown",
      "source": "Recall the degree distribution of the citation and the feature graph.",
      "metadata": {
        "pycharm": {
          "metadata": false
        }
      }
    },
    {
      "cell_type": "code",
      "execution_count": null,
      "outputs": [],
      "source": "fig, axes \u003d plt.subplots(1, 2, figsize\u003d(15, 6))\naxes[0].set_title(\u0027Citation graph\u0027)\ncitation_degrees \u003d # Your code here.\naxes[0].hist(citation_degrees);\naxes[1].set_title(\u0027Feature graph\u0027)\nfeature_degrees \u003d # Your code here.\naxes[1].hist(feature_degrees);",
      "metadata": {
        "pycharm": {
          "metadata": false,
          "name": "#%%\n"
        }
      }
    },
    {
      "cell_type": "markdown",
      "source": "What does the degree distribution tell us about a network? Can you make a prediction on the network model type of the citation and the feature graph by looking at their degree distributions?",
      "metadata": {
        "pycharm": {
          "metadata": false
        }
      }
    },
    {
      "cell_type": "markdown",
      "source": "**Your answer here:**",
      "metadata": {
        "pycharm": {
          "metadata": false
        }
      }
    },
    {
      "cell_type": "markdown",
      "source": "Now, plot the degree distribution historgrams for the simulated networks.",
      "metadata": {
        "pycharm": {
          "metadata": false
        }
      }
    },
    {
      "cell_type": "code",
      "execution_count": null,
      "outputs": [],
      "source": "fig, axes \u003d plt.subplots(1, 3, figsize\u003d(20, 6))\naxes[0].set_title(\u0027Erdos-Rényi network\u0027)\ner_degrees \u003d # Your code here.\naxes[0].hist(er_degrees);\naxes[1].set_title(\u0027Barabási-Albert network\u0027)\nba_degrees \u003d # Your code here.\naxes[1].hist(ba_degrees);\naxes[2].set_title(\u0027new Erdos-Rényi network\u0027)\ner_new_degrees \u003d # Your code here.\naxes[2].hist(er_new_degrees);",
      "metadata": {
        "pycharm": {
          "metadata": false,
          "name": "#%%\n"
        }
      }
    },
    {
      "cell_type": "markdown",
      "source": "In terms of the degree distribution, is there a good match between the citation and feature graphs and the simulated networks?\nFor the citation graph, choose one of the simulated networks above that match its degree distribution best. Indicate your preference below.",
      "metadata": {
        "pycharm": {
          "metadata": false
        }
      }
    },
    {
      "cell_type": "markdown",
      "source": "**Your answer here:** ",
      "metadata": {
        "pycharm": {
          "metadata": false
        }
      }
    },
    {
      "cell_type": "markdown",
      "source": "You can also simulate a network using the configuration model to match its degree disctribution exactly. Refer to [Configuration model](https://networkx.github.io/documentation/stable/reference/generated/networkx.generators.degree_seq.configuration_model.html#networkx.generators.degree_seq.configuration_model).\n\nLet us create another network to match the degree distribution of the feature graph. ",
      "metadata": {
        "pycharm": {
          "metadata": false
        }
      }
    },
    {
      "cell_type": "code",
      "execution_count": null,
      "outputs": [],
      "source": "G_config \u003d nx.configuration_model(feature_degrees) \nprint(\u0027Configuration model has {} nodes and {} edges.\u0027.format(G_config.number_of_nodes(), G_config.size()))",
      "metadata": {
        "pycharm": {
          "metadata": false,
          "name": "#%%\n"
        }
      }
    },
    {
      "cell_type": "markdown",
      "source": "Does it mean that we create the same graph with the feature graph by the configuration model? If not, how do you understand that they are not the same?",
      "metadata": {
        "pycharm": {
          "metadata": false
        }
      }
    },
    {
      "cell_type": "markdown",
      "source": "**Your answer here:** ",
      "metadata": {
        "pycharm": {
          "metadata": false
        }
      }
    },
    {
      "cell_type": "markdown",
      "source": "### Question 7: Clustering Coefficient",
      "metadata": {
        "pycharm": {
          "metadata": false
        }
      }
    },
    {
      "cell_type": "markdown",
      "source": "Let us check the average clustering coefficient of the original citation and feature graphs. ",
      "metadata": {
        "pycharm": {
          "metadata": false
        }
      }
    },
    {
      "cell_type": "code",
      "execution_count": null,
      "outputs": [],
      "source": "nx.average_clustering(G_citation)",
      "metadata": {
        "pycharm": {
          "metadata": false,
          "name": "#%%\n"
        }
      }
    },
    {
      "cell_type": "code",
      "execution_count": null,
      "outputs": [],
      "source": "nx.average_clustering(G_feature)",
      "metadata": {
        "pycharm": {
          "metadata": false,
          "name": "#%%\n"
        }
      }
    },
    {
      "cell_type": "markdown",
      "source": "What does the clustering coefficient tell us about a network? Comment on the values you obtain for the citation and feature graph.",
      "metadata": {
        "pycharm": {
          "metadata": false
        }
      }
    },
    {
      "cell_type": "markdown",
      "source": "**Your answer here:**",
      "metadata": {
        "pycharm": {
          "metadata": false
        }
      }
    },
    {
      "cell_type": "markdown",
      "source": "Now, let us check the average clustering coefficient for the simulated networks.",
      "metadata": {
        "pycharm": {
          "metadata": false
        }
      }
    },
    {
      "cell_type": "code",
      "execution_count": null,
      "outputs": [],
      "source": "nx.average_clustering(G_er)",
      "metadata": {
        "pycharm": {
          "metadata": false,
          "name": "#%%\n"
        }
      }
    },
    {
      "cell_type": "code",
      "execution_count": null,
      "outputs": [],
      "source": "nx.average_clustering(G_ba)",
      "metadata": {
        "pycharm": {
          "metadata": false,
          "name": "#%%\n"
        }
      }
    },
    {
      "cell_type": "code",
      "execution_count": null,
      "outputs": [],
      "source": "nx.average_clustering(nx.Graph(G_config))",
      "metadata": {
        "pycharm": {
          "metadata": false,
          "name": "#%%\n"
        }
      }
    },
    {
      "cell_type": "markdown",
      "source": "Comment on the values you obtain for the simulated networks. Is there any good match to the citation or feature graph in terms of clustering coefficient?",
      "metadata": {
        "pycharm": {
          "metadata": false
        }
      }
    },
    {
      "cell_type": "markdown",
      "source": "**Your answer here:**",
      "metadata": {
        "pycharm": {
          "metadata": false
        }
      }
    },
    {
      "cell_type": "markdown",
      "source": "Check the other [network model generators](https://networkx.github.io/documentation/networkx-1.10/reference/generators.html) provided by NetworkX. Which one do you predict to have a better match to the citation graph or the feature graph in terms of degree distribution and clustering coefficient at the same time? Justify your answer.",
      "metadata": {
        "pycharm": {
          "metadata": false
        }
      }
    },
    {
      "cell_type": "markdown",
      "source": "**Your answer here:**",
      "metadata": {
        "pycharm": {
          "metadata": false
        }
      }
    },
    {
      "cell_type": "markdown",
      "source": "If you find a better fit, create a graph object below for that network model. Print the number of edges and the average clustering coefficient. Plot the histogram of the degree distribution.",
      "metadata": {
        "pycharm": {
          "metadata": false
        }
      }
    },
    {
      "cell_type": "code",
      "execution_count": null,
      "outputs": [],
      "source": "# Your code here.",
      "metadata": {
        "pycharm": {
          "metadata": false,
          "name": "#%%\n"
        }
      }
    },
    {
      "cell_type": "markdown",
      "source": "Comment on the similarities of your match.",
      "metadata": {
        "pycharm": {
          "metadata": false
        }
      }
    },
    {
      "cell_type": "markdown",
      "source": "**Your answer here:**",
      "metadata": {
        "pycharm": {
          "metadata": false
        }
      }
    }
  ],
  "metadata": {
    "kernelspec": {
      "name": "pycharm-22b25909",
      "language": "python",
      "display_name": "PyCharm (Assignment 1)"
    },
    "language_info": {
      "codemirror_mode": {
        "name": "ipython",
        "version": 3
      },
      "file_extension": ".py",
      "mimetype": "text/x-python",
      "name": "python",
      "nbconvert_exporter": "python",
      "pygments_lexer": "ipython3",
      "version": "3.7.3"
    },
    "stem_cell": {
      "cell_type": "raw",
      "source": "",
      "metadata": {
        "pycharm": {
          "metadata": false
        }
      }
    }
  },
  "nbformat": 4,
  "nbformat_minor": 4
}