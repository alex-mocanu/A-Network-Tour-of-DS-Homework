{
  "cells": [
    {
      "cell_type": "markdown",
      "metadata": {
        "pycharm": {}
      },
      "source": [
        "# [NTDS\u002719] assignment 1: network science\n",
        "[ntds\u002719]: https://github.com/mdeff/ntds_2019\n",
        "\n",
        "[Eda Bayram](https://lts4.epfl.ch/bayram), [EPFL LTS4](https://lts4.epfl.ch) and\n",
        "[Nikolaos Karalias](https://people.epfl.ch/nikolaos.karalias), [EPFL LTS2](https://lts2.epfl.ch)."
      ]
    },
    {
      "cell_type": "markdown",
      "metadata": {
        "pycharm": {}
      },
      "source": [
        "## Students\n",
        "\n",
        "* Team: 10\n",
        "* Students: Furtuna Andrei-Calin, Gafton Paul-Adrian, Mircea Sorin-Sebastian, Mocanu Alexandru"
      ]
    },
    {
      "cell_type": "markdown",
      "metadata": {
        "pycharm": {}
      },
      "source": [
        "## Rules\n",
        "\n",
        "Grading:\n",
        "* The first deadline is for individual submissions. The second deadline is for the team submission.\n",
        "* All team members will receive the same grade based on the team solution submitted on the second deadline.\n",
        "* As a fallback, a team can ask for individual grading. In that case, solutions submitted on the first deadline are graded.\n",
        "* Collaboration between team members is encouraged. No collaboration between teams is allowed.\n",
        "\n",
        "Submission:\n",
        "* Textual answers shall be short. Typically one to two sentences.\n",
        "* Code has to be clean.\n",
        "* You cannot import any other library than we imported.\n",
        "  Note that Networkx is imported in the second section and cannot be used in the first.\n",
        "* When submitting, the notebook is executed and the results are stored. I.e., if you open the notebook again it should show numerical results and plots. We won\u0027t be able to execute your notebooks.\n",
        "* The notebook is re-executed from a blank state before submission. That is to be sure it is reproducible. You can click \"Kernel\" then \"Restart Kernel and Run All Cells\" in Jupyter."
      ]
    },
    {
      "cell_type": "markdown",
      "metadata": {
        "pycharm": {}
      },
      "source": [
        "## Objective\n",
        "\n",
        "The purpose of this milestone is to explore a given dataset, represent it by network by constructing different graphs. In the first section, you will analyze the network properties. In the second section, you will explore various network models and find out the network model fitting the ones you construct from the dataset."
      ]
    },
    {
      "cell_type": "markdown",
      "metadata": {
        "pycharm": {}
      },
      "source": [
        "## Cora Dataset\n",
        "\n",
        "The [Cora dataset](https://linqs.soe.ucsc.edu/node/236) consists of scientific publications classified into one of seven research fields. \n",
        "\n",
        "* **Citation graph:** the citation network can be constructed from the connections given in the `cora.cites` file.\n",
        "* **Feature graph:** each publication in the dataset is described by a 0/1-valued word vector indicating the absence/presence of the corresponding word from the dictionary and its research field, given in the `cora.content` file. The dictionary consists of 1433 unique words. A feature graph can be constructed using the Euclidean distance between the feature vector of the publications.\n",
        "\n",
        "The [`README`](data/cora/README) provides details about the content of [`cora.cites`](data/cora/cora.cites) and [`cora.content`](data/cora/cora.content)."
      ]
    },
    {
      "cell_type": "markdown",
      "metadata": {
        "pycharm": {}
      },
      "source": [
        "## Section 1: Network Properties"
      ]
    },
    {
      "cell_type": "code",
      "execution_count": 40,
      "metadata": {
        "pycharm": {
          "is_executing": false
        }
      },
      "outputs": [],
      "source": [
        "import numpy as np\n",
        "import pandas as pd\n",
        "from matplotlib import pyplot as plt\n",
        "\n",
        "%matplotlib inline"
      ]
    },
    {
      "cell_type": "markdown",
      "metadata": {
        "pycharm": {}
      },
      "source": [
        "### Question 1: Construct a Citation Graph and a Feature Graph"
      ]
    },
    {
      "cell_type": "markdown",
      "metadata": {
        "pycharm": {}
      },
      "source": "Read the `cora.content` file into a Pandas DataFrame by setting a header for the column names. Check the `README` file."
    },
    {
      "cell_type": "code",
      "execution_count": 41,
      "metadata": {
        "pycharm": {
          "is_executing": false
        }
      },
      "outputs": [
        {
          "data": {
            "text/plain": "        id  word0  word1  word2  word3  word4  word5  word6  word7  word8  \\\n0    31336      0      0      0      0      0      0      0      0      0   \n1  1061127      0      0      0      0      0      0      0      0      0   \n2  1106406      0      0      0      0      0      0      0      0      0   \n3    13195      0      0      0      0      0      0      0      0      0   \n4    37879      0      0      0      0      0      0      0      0      0   \n\n   ...  word1424  word1425  word1426  word1427  word1428  word1429  word1430  \\\n0  ...         0         0         1         0         0         0         0   \n1  ...         0         1         0         0         0         0         0   \n2  ...         0         0         0         0         0         0         0   \n3  ...         0         0         0         0         0         0         0   \n4  ...         0         0         0         0         0         0         0   \n\n   word1431  word1432                   field  \n0         0         0         Neural_Networks  \n1         0         0           Rule_Learning  \n2         0         0  Reinforcement_Learning  \n3         0         0  Reinforcement_Learning  \n4         0         0   Probabilistic_Methods  \n\n[5 rows x 1435 columns]",
            "text/html": "\u003cdiv\u003e\n\u003cstyle scoped\u003e\n    .dataframe tbody tr th:only-of-type {\n        vertical-align: middle;\n    }\n\n    .dataframe tbody tr th {\n        vertical-align: top;\n    }\n\n    .dataframe thead th {\n        text-align: right;\n    }\n\u003c/style\u003e\n\u003ctable border\u003d\"1\" class\u003d\"dataframe\"\u003e\n  \u003cthead\u003e\n    \u003ctr style\u003d\"text-align: right;\"\u003e\n      \u003cth\u003e\u003c/th\u003e\n      \u003cth\u003eid\u003c/th\u003e\n      \u003cth\u003eword0\u003c/th\u003e\n      \u003cth\u003eword1\u003c/th\u003e\n      \u003cth\u003eword2\u003c/th\u003e\n      \u003cth\u003eword3\u003c/th\u003e\n      \u003cth\u003eword4\u003c/th\u003e\n      \u003cth\u003eword5\u003c/th\u003e\n      \u003cth\u003eword6\u003c/th\u003e\n      \u003cth\u003eword7\u003c/th\u003e\n      \u003cth\u003eword8\u003c/th\u003e\n      \u003cth\u003e...\u003c/th\u003e\n      \u003cth\u003eword1424\u003c/th\u003e\n      \u003cth\u003eword1425\u003c/th\u003e\n      \u003cth\u003eword1426\u003c/th\u003e\n      \u003cth\u003eword1427\u003c/th\u003e\n      \u003cth\u003eword1428\u003c/th\u003e\n      \u003cth\u003eword1429\u003c/th\u003e\n      \u003cth\u003eword1430\u003c/th\u003e\n      \u003cth\u003eword1431\u003c/th\u003e\n      \u003cth\u003eword1432\u003c/th\u003e\n      \u003cth\u003efield\u003c/th\u003e\n    \u003c/tr\u003e\n  \u003c/thead\u003e\n  \u003ctbody\u003e\n    \u003ctr\u003e\n      \u003cth\u003e0\u003c/th\u003e\n      \u003ctd\u003e31336\u003c/td\u003e\n      \u003ctd\u003e0\u003c/td\u003e\n      \u003ctd\u003e0\u003c/td\u003e\n      \u003ctd\u003e0\u003c/td\u003e\n      \u003ctd\u003e0\u003c/td\u003e\n      \u003ctd\u003e0\u003c/td\u003e\n      \u003ctd\u003e0\u003c/td\u003e\n      \u003ctd\u003e0\u003c/td\u003e\n      \u003ctd\u003e0\u003c/td\u003e\n      \u003ctd\u003e0\u003c/td\u003e\n      \u003ctd\u003e...\u003c/td\u003e\n      \u003ctd\u003e0\u003c/td\u003e\n      \u003ctd\u003e0\u003c/td\u003e\n      \u003ctd\u003e1\u003c/td\u003e\n      \u003ctd\u003e0\u003c/td\u003e\n      \u003ctd\u003e0\u003c/td\u003e\n      \u003ctd\u003e0\u003c/td\u003e\n      \u003ctd\u003e0\u003c/td\u003e\n      \u003ctd\u003e0\u003c/td\u003e\n      \u003ctd\u003e0\u003c/td\u003e\n      \u003ctd\u003eNeural_Networks\u003c/td\u003e\n    \u003c/tr\u003e\n    \u003ctr\u003e\n      \u003cth\u003e1\u003c/th\u003e\n      \u003ctd\u003e1061127\u003c/td\u003e\n      \u003ctd\u003e0\u003c/td\u003e\n      \u003ctd\u003e0\u003c/td\u003e\n      \u003ctd\u003e0\u003c/td\u003e\n      \u003ctd\u003e0\u003c/td\u003e\n      \u003ctd\u003e0\u003c/td\u003e\n      \u003ctd\u003e0\u003c/td\u003e\n      \u003ctd\u003e0\u003c/td\u003e\n      \u003ctd\u003e0\u003c/td\u003e\n      \u003ctd\u003e0\u003c/td\u003e\n      \u003ctd\u003e...\u003c/td\u003e\n      \u003ctd\u003e0\u003c/td\u003e\n      \u003ctd\u003e1\u003c/td\u003e\n      \u003ctd\u003e0\u003c/td\u003e\n      \u003ctd\u003e0\u003c/td\u003e\n      \u003ctd\u003e0\u003c/td\u003e\n      \u003ctd\u003e0\u003c/td\u003e\n      \u003ctd\u003e0\u003c/td\u003e\n      \u003ctd\u003e0\u003c/td\u003e\n      \u003ctd\u003e0\u003c/td\u003e\n      \u003ctd\u003eRule_Learning\u003c/td\u003e\n    \u003c/tr\u003e\n    \u003ctr\u003e\n      \u003cth\u003e2\u003c/th\u003e\n      \u003ctd\u003e1106406\u003c/td\u003e\n      \u003ctd\u003e0\u003c/td\u003e\n      \u003ctd\u003e0\u003c/td\u003e\n      \u003ctd\u003e0\u003c/td\u003e\n      \u003ctd\u003e0\u003c/td\u003e\n      \u003ctd\u003e0\u003c/td\u003e\n      \u003ctd\u003e0\u003c/td\u003e\n      \u003ctd\u003e0\u003c/td\u003e\n      \u003ctd\u003e0\u003c/td\u003e\n      \u003ctd\u003e0\u003c/td\u003e\n      \u003ctd\u003e...\u003c/td\u003e\n      \u003ctd\u003e0\u003c/td\u003e\n      \u003ctd\u003e0\u003c/td\u003e\n      \u003ctd\u003e0\u003c/td\u003e\n      \u003ctd\u003e0\u003c/td\u003e\n      \u003ctd\u003e0\u003c/td\u003e\n      \u003ctd\u003e0\u003c/td\u003e\n      \u003ctd\u003e0\u003c/td\u003e\n      \u003ctd\u003e0\u003c/td\u003e\n      \u003ctd\u003e0\u003c/td\u003e\n      \u003ctd\u003eReinforcement_Learning\u003c/td\u003e\n    \u003c/tr\u003e\n    \u003ctr\u003e\n      \u003cth\u003e3\u003c/th\u003e\n      \u003ctd\u003e13195\u003c/td\u003e\n      \u003ctd\u003e0\u003c/td\u003e\n      \u003ctd\u003e0\u003c/td\u003e\n      \u003ctd\u003e0\u003c/td\u003e\n      \u003ctd\u003e0\u003c/td\u003e\n      \u003ctd\u003e0\u003c/td\u003e\n      \u003ctd\u003e0\u003c/td\u003e\n      \u003ctd\u003e0\u003c/td\u003e\n      \u003ctd\u003e0\u003c/td\u003e\n      \u003ctd\u003e0\u003c/td\u003e\n      \u003ctd\u003e...\u003c/td\u003e\n      \u003ctd\u003e0\u003c/td\u003e\n      \u003ctd\u003e0\u003c/td\u003e\n      \u003ctd\u003e0\u003c/td\u003e\n      \u003ctd\u003e0\u003c/td\u003e\n      \u003ctd\u003e0\u003c/td\u003e\n      \u003ctd\u003e0\u003c/td\u003e\n      \u003ctd\u003e0\u003c/td\u003e\n      \u003ctd\u003e0\u003c/td\u003e\n      \u003ctd\u003e0\u003c/td\u003e\n      \u003ctd\u003eReinforcement_Learning\u003c/td\u003e\n    \u003c/tr\u003e\n    \u003ctr\u003e\n      \u003cth\u003e4\u003c/th\u003e\n      \u003ctd\u003e37879\u003c/td\u003e\n      \u003ctd\u003e0\u003c/td\u003e\n      \u003ctd\u003e0\u003c/td\u003e\n      \u003ctd\u003e0\u003c/td\u003e\n      \u003ctd\u003e0\u003c/td\u003e\n      \u003ctd\u003e0\u003c/td\u003e\n      \u003ctd\u003e0\u003c/td\u003e\n      \u003ctd\u003e0\u003c/td\u003e\n      \u003ctd\u003e0\u003c/td\u003e\n      \u003ctd\u003e0\u003c/td\u003e\n      \u003ctd\u003e...\u003c/td\u003e\n      \u003ctd\u003e0\u003c/td\u003e\n      \u003ctd\u003e0\u003c/td\u003e\n      \u003ctd\u003e0\u003c/td\u003e\n      \u003ctd\u003e0\u003c/td\u003e\n      \u003ctd\u003e0\u003c/td\u003e\n      \u003ctd\u003e0\u003c/td\u003e\n      \u003ctd\u003e0\u003c/td\u003e\n      \u003ctd\u003e0\u003c/td\u003e\n      \u003ctd\u003e0\u003c/td\u003e\n      \u003ctd\u003eProbabilistic_Methods\u003c/td\u003e\n    \u003c/tr\u003e\n  \u003c/tbody\u003e\n\u003c/table\u003e\n\u003cp\u003e5 rows × 1435 columns\u003c/p\u003e\n\u003c/div\u003e"
          },
          "metadata": {},
          "output_type": "execute_result",
          "execution_count": 41
        }
      ],
      "source": "column_list \u003d [\u0027id\u0027] + [ \u0027word\u0027 + str(item) for item in range(1433) ] + [\"field\"]\npd_content \u003d pd.read_csv(\u0027data/cora/cora.content\u0027, delimiter\u003d\u0027\\t\u0027, names\u003dcolumn_list) \npd_content.head()"
    },
    {
      "cell_type": "markdown",
      "metadata": {
        "pycharm": {}
      },
      "source": [
        "Print out the number of papers contained in each of the reasearch fields.\n",
        "\n",
        "**Hint:** You can use the `value_counts()` function."
      ]
    },
    {
      "cell_type": "code",
      "execution_count": 42,
      "metadata": {
        "pycharm": {
          "is_executing": false
        }
      },
      "outputs": [
        {
          "data": {
            "text/plain": "Neural_Networks           818\nProbabilistic_Methods     426\nGenetic_Algorithms        418\nTheory                    351\nCase_Based                298\nReinforcement_Learning    217\nRule_Learning             180\nName: field, dtype: int64"
          },
          "metadata": {},
          "output_type": "execute_result",
          "execution_count": 42
        }
      ],
      "source": "pd_content.field.value_counts()"
    },
    {
      "cell_type": "markdown",
      "metadata": {
        "pycharm": {}
      },
      "source": [
        "Select all papers from a field of your choice and store their feature vectors into a NumPy array.\n",
        "Check its shape."
      ]
    },
    {
      "cell_type": "code",
      "execution_count": 43,
      "metadata": {
        "pycharm": {
          "is_executing": false
        }
      },
      "outputs": [
        {
          "data": {
            "text/plain": "(818, 1433)"
          },
          "metadata": {},
          "output_type": "execute_result",
          "execution_count": 43
        }
      ],
      "source": "my_field \u003d \u0027Neural_Networks\u0027 \npd_content_by_field \u003d pd_content[ pd_content.field \u003d\u003d my_field ]\nfeatures \u003d pd_content_by_field.drop(columns \u003d [\u0027id\u0027, \u0027field\u0027])\nfeatures.shape"
    },
    {
      "cell_type": "markdown",
      "metadata": {
        "pycharm": {}
      },
      "source": [
        "Let $D$ be the Euclidean distance matrix whose $(i,j)$ entry corresponds to the Euclidean distance between feature vectors $i$ and $j$.\n",
        "Using the feature vectors of the papers from the field which you have selected, construct $D$ as a Numpy array. "
      ]
    },
    {
      "cell_type": "code",
      "execution_count": 45,
      "metadata": {
        "pycharm": {
          "is_executing": false
        }
      },
      "outputs": [
        {
          "data": {
            "text/plain": "(818, 818)"
          },
          "metadata": {},
          "output_type": "execute_result",
          "execution_count": 45
        }
      ],
      "source": "def distance_matrix_np(pts):\n    \"\"\"Returns matrix of pairwise Euclidean distances. Vectorized numpy version.\"\"\"\n    return np.sum((pts[None,:] - pts[:, None])**2, -1)**0.5\n\ndistance \u003d  distance_matrix_np(features.to_numpy())\ndistance.shape"
    },
    {
      "cell_type": "markdown",
      "metadata": {
        "pycharm": {}
      },
      "source": [
        "Check the mean pairwise distance $\\mathbb{E}[D]$."
      ]
    },
    {
      "cell_type": "code",
      "execution_count": 49,
      "metadata": {
        "pycharm": {
          "is_executing": false
        }
      },
      "outputs": [
        {
          "data": {
            "text/plain": "5.689638434824233"
          },
          "metadata": {},
          "output_type": "execute_result",
          "execution_count": 49
        }
      ],
      "source": [
        "mean_distance \u003d distance.mean()\n",
        "mean_distance"
      ]
    },
    {
      "cell_type": "markdown",
      "metadata": {
        "pycharm": {}
      },
      "source": [
        "Plot an histogram of the euclidean distances."
      ]
    },
    {
      "cell_type": "code",
      "execution_count": 51,
      "metadata": {
        "pycharm": {
          "is_executing": false
        }
      },
      "outputs": [
        {
          "data": {
            "text/plain": "\u003cFigure size 576x288 with 1 Axes\u003e",
            "image/png": "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\u003d\u003d\n"
          },
          "metadata": {
            "needs_background": "light"
          },
          "output_type": "display_data"
        }
      ],
      "source": [
        "plt.figure(1, figsize\u003d(8, 4))\n",
        "plt.title(\"Histogram of Euclidean distances between papers\")\n",
        "plt.hist(distance.flatten());"
      ]
    },
    {
      "cell_type": "markdown",
      "metadata": {
        "pycharm": {}
      },
      "source": [
        "Now create an adjacency matrix for the papers by thresholding the Euclidean distance matrix.\n",
        "The resulting (unweighted) adjacency matrix should have entries\n",
        "$$ A_{ij} \u003d \\begin{cases} 1, \\; \\text{if} \\; d(i,j)\u003c \\mathbb{E}[D], \\; i \\neq j, \\\\ 0, \\; \\text{otherwise.} \\end{cases} $$\n",
        "\n",
        "First, let us choose the mean distance as the threshold."
      ]
    },
    {
      "cell_type": "code",
      "execution_count": 52,
      "metadata": {
        "pycharm": {
          "is_executing": false
        }
      },
      "outputs": [
        {
          "data": {
            "text/plain": "(818, 818)"
          },
          "metadata": {},
          "output_type": "execute_result",
          "execution_count": 52
        }
      ],
      "source": "threshold \u003d mean_distance\nindx \u003d distance \u003c threshold\nA_feature \u003d distance.copy()\nA_feature[indx] \u003d 0\nA_feature.shape\n"
    },
    {
      "cell_type": "markdown",
      "metadata": {
        "pycharm": {}
      },
      "source": "Now read the `cora.cites` file and construct the citation graph by converting the given citation connections into an adjacency matrix.\n"
    },
    {
      "cell_type": "code",
      "execution_count": 53,
      "outputs": [],
      "source": "# Create conversion matrix between index and paper id\nid2index \u003d pd_content_by_field.copy()\nid2index.reset_index(level \u003d 0, inplace \u003d True)\nid2index \u003d id2index[ [\u0027index\u0027, \u0027id\u0027] ]\nindex2id \u003d id2index.copy()\nid2index.set_index(\u0027id\u0027, inplace \u003d True)\nindex2id.set_index(\u0027index\u0027, inplace \u003d True)\n",
      "metadata": {
        "pycharm": {
          "metadata": false,
          "name": "#%%\n",
          "is_executing": false
        }
      }
    },
    {
      "cell_type": "code",
      "execution_count": 59,
      "metadata": {
        "pycharm": {
          "is_executing": false
        }
      },
      "outputs": [
        {
          "data": {
            "text/plain": "(818, 818)"
          },
          "metadata": {},
          "output_type": "execute_result",
          "execution_count": 59
        }
      ],
      "source": "cora_cites \u003d np.genfromtxt(\u0027data/cora/cora.cites\u0027, delimiter\u003d\u0027\\t\u0027)\nn \u003d pd_content_by_field.shape[0]\nA_citation \u003d np.zeros((n, n))\nA_citation.shape\n"
    },
    {
      "cell_type": "markdown",
      "metadata": {
        "pycharm": {}
      },
      "source": "Get the adjacency matrix of the citation graph for the field that you chose.\nYou have to appropriately reduce the adjacency matrix of the citation graph."
    },
    {
      "cell_type": "code",
      "execution_count": 61,
      "metadata": {
        "pycharm": {
          "is_executing": false
        }
      },
      "outputs": [],
      "source": "# Forming the adjacency matrix (used an encode table)\nfor row in cora_cites:\n    to \u003d int(row[0])\n    fr \u003d int(row[1])\n    try:\n        A_citation[ id2index.loc[to].values[0] ][ id2index.loc[fr].values[0] ] \u003d 1\n        A_citation[ id2index.loc[fr].values[0] ][ id2index.loc[to].values[0] ] \u003d 1\n    except Exception as e:\n        pass"
    },
    {
      "cell_type": "markdown",
      "metadata": {
        "pycharm": {}
      },
      "source": [
        "Check if your adjacency matrix is symmetric. Symmetrize your final adjacency matrix if it\u0027s not already symmetric."
      ]
    },
    {
      "cell_type": "code",
      "execution_count": 62,
      "metadata": {
        "pycharm": {
          "is_executing": false
        }
      },
      "outputs": [
        {
          "name": "stdout",
          "text": [
            "Matrix is symmetric\n"
          ],
          "output_type": "stream"
        }
      ],
      "source": "# Your code here.\nif np.count_nonzero(A_citation - A_citation.transpose()) \u003d\u003d 0:\n    print(\"Matrix is symmetric\")\n    "
    },
    {
      "cell_type": "markdown",
      "metadata": {
        "pycharm": {}
      },
      "source": "Check the shape of your adjacency matrix again."
    },
    {
      "cell_type": "code",
      "execution_count": 63,
      "metadata": {
        "pycharm": {
          "is_executing": false
        }
      },
      "outputs": [
        {
          "data": {
            "text/plain": "(818, 818)"
          },
          "metadata": {},
          "output_type": "execute_result",
          "execution_count": 63
        }
      ],
      "source": [
        "A_citation.shape"
      ]
    },
    {
      "cell_type": "markdown",
      "metadata": {
        "pycharm": {}
      },
      "source": [
        "### Question 2: Degree Distribution and Moments"
      ]
    },
    {
      "cell_type": "markdown",
      "metadata": {
        "pycharm": {}
      },
      "source": [
        "What is the total number of edges in each graph?"
      ]
    },
    {
      "cell_type": "code",
      "execution_count": null,
      "metadata": {
        "pycharm": {}
      },
      "outputs": [],
      "source": [
        "num_edges_feature \u003d # Your code here.\n",
        "num_edges_citation \u003d # Your code here.\n",
        "print(f\"Number of edges in the feature graph: {num_edges_feature}\")\n",
        "print(f\"Number of edges in the citation graph: {num_edges_citation}\")"
      ]
    },
    {
      "cell_type": "markdown",
      "metadata": {
        "pycharm": {}
      },
      "source": [
        "Plot the degree distribution histogram for each of the graphs."
      ]
    },
    {
      "cell_type": "code",
      "execution_count": null,
      "metadata": {
        "pycharm": {}
      },
      "outputs": [],
      "source": [
        "degrees_citation \u003d # Your code here.\n",
        "degrees_feature \u003d # Your code here.\n",
        "\n",
        "deg_hist_normalization \u003d np.ones(degrees_citation.shape[0]) / degrees_citation.shape[0]\n",
        "\n",
        "fig, axes \u003d plt.subplots(1, 2, figsize\u003d(16, 4))\n",
        "axes[0].set_title(\u0027Citation graph degree distribution\u0027)\n",
        "axes[0].hist(degrees_citation, weights\u003ddeg_hist_normalization);\n",
        "axes[1].set_title(\u0027Feature graph degree distribution\u0027)\n",
        "axes[1].hist(degrees_feature, weights\u003ddeg_hist_normalization);"
      ]
    },
    {
      "cell_type": "markdown",
      "metadata": {
        "pycharm": {}
      },
      "source": [
        "Calculate the first and second moments of the degree distribution of each graph."
      ]
    },
    {
      "cell_type": "code",
      "execution_count": null,
      "metadata": {
        "pycharm": {}
      },
      "outputs": [],
      "source": [
        "cit_moment_1 \u003d # Your code here.\n",
        "cit_moment_2 \u003d # Your code here.\n",
        "\n",
        "feat_moment_1 \u003d # Your code here.\n",
        "feat_moment_2 \u003d # Your code here.\n",
        "\n",
        "print(f\"1st moment of citation graph: {cit_moment_1}\")\n",
        "print(f\"2nd moment of citation graph: {cit_moment_2}\")\n",
        "print(f\"1st moment of feature graph: {feat_moment_1}\")\n",
        "print(f\"2nd moment of feature graph: {feat_moment_2}\")"
      ]
    },
    {
      "cell_type": "markdown",
      "metadata": {
        "pycharm": {}
      },
      "source": [
        "What information do the moments provide you about the graphs?\n",
        "Explain the differences in moments between graphs by comparing their degree distributions."
      ]
    },
    {
      "cell_type": "markdown",
      "metadata": {
        "pycharm": {}
      },
      "source": [
        "**Your answer here:**"
      ]
    },
    {
      "cell_type": "markdown",
      "metadata": {
        "pycharm": {}
      },
      "source": [
        "Select the 20 largest hubs for each of the graphs and remove them. Observe the sparsity pattern of the adjacency matrices of the citation and feature graphs before and after such a reduction."
      ]
    },
    {
      "cell_type": "code",
      "execution_count": null,
      "metadata": {
        "pycharm": {}
      },
      "outputs": [],
      "source": [
        "reduced_A_feature \u003d # Your code here\n",
        "reduced_A_citation \u003d # Your code here\n",
        "\n",
        "fig, axes \u003d plt.subplots(2, 2, figsize\u003d(16, 16))\n",
        "axes[0, 0].set_title(\u0027Feature graph: adjacency matrix sparsity pattern\u0027)\n",
        "axes[0, 0].spy(A_feature);\n",
        "axes[0, 1].set_title(\u0027Feature graph without top 20 hubs: adjacency matrix sparsity pattern\u0027)\n",
        "axes[0, 1].spy(reduced_A_feature);\n",
        "axes[1, 0].set_title(\u0027Citation graph: adjacency matrix sparsity pattern\u0027)\n",
        "axes[1, 0].spy(A_citation);\n",
        "axes[1, 1].set_title(\u0027Citation graph without top 20 hubs: adjacency matrix sparsity pattern\u0027)\n",
        "axes[1, 1].spy(reduced_A_citation);"
      ]
    },
    {
      "cell_type": "markdown",
      "metadata": {
        "pycharm": {}
      },
      "source": [
        "Plot the new degree distribution histograms."
      ]
    },
    {
      "cell_type": "code",
      "execution_count": null,
      "metadata": {
        "pycharm": {}
      },
      "outputs": [],
      "source": [
        "reduced_degrees_feat \u003d # Your code here.\n",
        "reduced_degrees_cit \u003d # Your code here.\n",
        "\n",
        "deg_hist_normalization \u003d np.ones(reduced_degrees_feat.shape[0])/reduced_degrees_feat.shape[0]\n",
        "\n",
        "fig, axes \u003d plt.subplots(1, 2, figsize\u003d(16, 4))\n",
        "axes[0].set_title(\u0027Citation graph degree distribution\u0027)\n",
        "axes[0].hist(reduced_degrees_cit, weights\u003ddeg_hist_normalization);\n",
        "axes[1].set_title(\u0027Feature graph degree distribution\u0027)\n",
        "axes[1].hist(reduced_degrees_feat, weights\u003ddeg_hist_normalization);"
      ]
    },
    {
      "cell_type": "markdown",
      "metadata": {
        "pycharm": {}
      },
      "source": [
        "Compute the first and second moments for the new graphs."
      ]
    },
    {
      "cell_type": "code",
      "execution_count": null,
      "metadata": {
        "pycharm": {}
      },
      "outputs": [],
      "source": [
        "reduced_cit_moment_1 \u003d # Your code here.\n",
        "reduced_cit_moment_2 \u003d # Your code here.\n",
        "\n",
        "reduced_feat_moment_1 \u003d # Your code here.\n",
        "reduced_feat_moment_2 \u003d # Your code here.\n",
        "\n",
        "\n",
        "print(\"Citation graph first moment:\", reduced_cit_moment_1)\n",
        "print(\"Citation graph second moment:\", reduced_cit_moment_2)\n",
        "print(\"Feature graph first moment: \", reduced_feat_moment_1)\n",
        "print(\"Feature graph second moment: \", reduced_feat_moment_2)"
      ]
    },
    {
      "cell_type": "markdown",
      "metadata": {
        "pycharm": {}
      },
      "source": [
        "Print the number of edges in the reduced graphs."
      ]
    },
    {
      "cell_type": "code",
      "execution_count": null,
      "metadata": {
        "pycharm": {}
      },
      "outputs": [],
      "source": [
        "# Your code here"
      ]
    },
    {
      "cell_type": "markdown",
      "metadata": {
        "pycharm": {}
      },
      "source": [
        "Is the effect of removing the hubs the same for both networks? Look at the percentage changes for each moment. Which of the moments is affected the most and in which graph? Explain why.  \n",
        "\n",
        "**Hint:** Examine the degree distributions."
      ]
    },
    {
      "cell_type": "markdown",
      "metadata": {
        "pycharm": {}
      },
      "source": [
        "**Your answer here:**"
      ]
    },
    {
      "cell_type": "markdown",
      "metadata": {
        "pycharm": {}
      },
      "source": [
        "### Question 3: Pruning, sparsity, paths"
      ]
    },
    {
      "cell_type": "markdown",
      "metadata": {
        "pycharm": {}
      },
      "source": [
        "By adjusting the threshold of the euclidean distance matrix, prune the feature graph so that its number of edges is roughly close (within a hundred edges) to the number of edges in the citation graph."
      ]
    },
    {
      "cell_type": "code",
      "execution_count": null,
      "metadata": {
        "pycharm": {}
      },
      "outputs": [],
      "source": [
        "threshold \u003d # Your code here.\n",
        "\n",
        "A_feature_pruned \u003d # Your code here\n",
        "num_edges_feature_pruned \u003d # Your code here.\n",
        "\n",
        "print(f\"Number of edges in the feature graph: {num_edges_feature}\")\n",
        "print(f\"Number of edges in the feature graph after pruning: {num_edges_feature_pruned}\")\n",
        "print(f\"Number of edges in the citation graph: {num_edges_citation}\")"
      ]
    },
    {
      "cell_type": "markdown",
      "metadata": {
        "pycharm": {}
      },
      "source": [
        "Check your results by comparing the sparsity patterns and total number of edges between the graphs."
      ]
    },
    {
      "cell_type": "code",
      "execution_count": null,
      "metadata": {
        "pycharm": {}
      },
      "outputs": [],
      "source": [
        "fig, axes \u003d plt.subplots(1, 2, figsize\u003d(12, 6))\n",
        "axes[0].set_title(\u0027Citation graph sparsity\u0027)\n",
        "axes[0].spy(A_citation);\n",
        "axes[1].set_title(\u0027Feature graph sparsity\u0027)\n",
        "axes[1].spy(A_feature_pruned);"
      ]
    },
    {
      "cell_type": "markdown",
      "metadata": {
        "pycharm": {}
      },
      "source": [
        "Let $C_{k}(i,j)$ denote the number of paths of length $k$ from node $i$ to node $j$. \n",
        "\n",
        "We define the path matrix $P$, with entries\n",
        "$ P_{ij} \u003d \\displaystyle\\sum_{k\u003d0}^{N}C_{k}(i,j). $"
      ]
    },
    {
      "cell_type": "markdown",
      "metadata": {
        "pycharm": {}
      },
      "source": [
        "Calculate the path matrices for both the citation and the unpruned feature graphs for $N \u003d10$.  \n",
        "\n",
        "**Hint:** Use [powers of the adjacency matrix](https://en.wikipedia.org/wiki/Adjacency_matrix#Matrix_powers)."
      ]
    },
    {
      "cell_type": "code",
      "execution_count": null,
      "metadata": {
        "pycharm": {}
      },
      "outputs": [],
      "source": [
        "path_matrix_citation \u003d # Your code here.\n",
        "path_matrix_feature \u003d # Your code here."
      ]
    },
    {
      "cell_type": "markdown",
      "metadata": {
        "pycharm": {}
      },
      "source": [
        "Check the sparsity pattern for both of path matrices."
      ]
    },
    {
      "cell_type": "code",
      "execution_count": null,
      "metadata": {
        "pycharm": {}
      },
      "outputs": [],
      "source": [
        "fig, axes \u003d plt.subplots(1, 2, figsize\u003d(16, 9))\n",
        "axes[0].set_title(\u0027Citation Path matrix sparsity\u0027)\n",
        "axes[0].spy(path_matrix_citation);\n",
        "axes[1].set_title(\u0027Feature Path matrix sparsity\u0027)\n",
        "axes[1].spy(path_matrix_feature);"
      ]
    },
    {
      "cell_type": "markdown",
      "metadata": {
        "pycharm": {}
      },
      "source": [
        "Now calculate the path matrix of the pruned feature graph for $N\u003d10$. Plot the corresponding sparsity pattern. Is there any difference?"
      ]
    },
    {
      "cell_type": "code",
      "execution_count": null,
      "metadata": {
        "pycharm": {}
      },
      "outputs": [],
      "source": [
        "path_matrix_pruned \u003d # Your code here.\n",
        "\n",
        "plt.figure(figsize\u003d(12, 6))\n",
        "plt.title(\u0027Feature Path matrix sparsity\u0027)\n",
        "plt.spy(path_matrix_pruned);"
      ]
    },
    {
      "cell_type": "markdown",
      "metadata": {
        "pycharm": {}
      },
      "source": [
        "**Your answer here:**"
      ]
    },
    {
      "cell_type": "markdown",
      "metadata": {
        "pycharm": {}
      },
      "source": [
        "Describe how you can use the above process of counting paths to determine whether a graph is connected or not. Is the original (unpruned) feature graph connected?"
      ]
    },
    {
      "cell_type": "markdown",
      "metadata": {
        "pycharm": {}
      },
      "source": [
        "**Your answer here:** "
      ]
    },
    {
      "cell_type": "markdown",
      "metadata": {
        "pycharm": {}
      },
      "source": [
        "If the graph is connected, how can you guess its diameter using the path matrix?"
      ]
    },
    {
      "cell_type": "markdown",
      "metadata": {
        "pycharm": {}
      },
      "source": [
        "**Your answer here:**"
      ]
    },
    {
      "cell_type": "markdown",
      "metadata": {
        "pycharm": {}
      },
      "source": [
        "If any of your graphs is connected, calculate the diameter using that process."
      ]
    },
    {
      "cell_type": "code",
      "execution_count": null,
      "metadata": {
        "pycharm": {}
      },
      "outputs": [],
      "source": [
        "diameter \u003d # Your code here.\n",
        "print(f\"The diameter is: {diameter}\")"
      ]
    },
    {
      "cell_type": "markdown",
      "metadata": {
        "pycharm": {}
      },
      "source": [
        "Check if your guess was correct using [NetworkX](https://networkx.github.io/documentation/stable/reference/algorithms/generated/networkx.algorithms.distance_measures.diameter.html).\n",
        "Note: usage of NetworkX is only allowed in this part of Section 1."
      ]
    },
    {
      "cell_type": "code",
      "execution_count": null,
      "metadata": {
        "pycharm": {}
      },
      "outputs": [],
      "source": [
        "import networkx as nx\n",
        "feature_graph \u003d nx.from_numpy_matrix(A_feature)\n",
        "print(f\"Diameter according to networkx: {nx.diameter(feature_graph)}\")"
      ]
    },
    {
      "cell_type": "markdown",
      "metadata": {
        "pycharm": {}
      },
      "source": [
        "## Section 2: Network Models"
      ]
    },
    {
      "cell_type": "markdown",
      "metadata": {
        "pycharm": {}
      },
      "source": [
        "In this section, you will analyze the feature and citation graphs you constructed in the previous section in terms of the network model types.\n",
        "For this purpose, you can use the NetworkX libary imported below."
      ]
    },
    {
      "cell_type": "code",
      "execution_count": null,
      "metadata": {
        "pycharm": {}
      },
      "outputs": [],
      "source": [
        "import networkx as nx"
      ]
    },
    {
      "cell_type": "markdown",
      "metadata": {
        "pycharm": {}
      },
      "source": [
        "Let us create NetworkX graph objects from the adjacency matrices computed in the previous section."
      ]
    },
    {
      "cell_type": "code",
      "execution_count": null,
      "metadata": {
        "pycharm": {}
      },
      "outputs": [],
      "source": [
        "G_citation \u003d nx.from_numpy_matrix(A_citation)\n",
        "print(\u0027Number of nodes: {}, Number of edges: {}\u0027. format(G_citation.number_of_nodes(), G_citation.number_of_edges()))\n",
        "print(\u0027Number of self-loops: {}, Number of connected components: {}\u0027. format(G_citation.number_of_selfloops(), nx.number_connected_components(G_citation)))"
      ]
    },
    {
      "cell_type": "markdown",
      "metadata": {
        "pycharm": {}
      },
      "source": [
        "In the rest of this assignment, we will consider the pruned feature graph as the feature network."
      ]
    },
    {
      "cell_type": "code",
      "execution_count": null,
      "metadata": {
        "pycharm": {}
      },
      "outputs": [],
      "source": [
        "G_feature \u003d nx.from_numpy_matrix(A_feature_pruned)\n",
        "print(\u0027Number of nodes: {}, Number of edges: {}\u0027. format(G_feature.number_of_nodes(), G_feature.number_of_edges()))\n",
        "print(\u0027Number of self-loops: {}, Number of connected components: {}\u0027. format(G_feature.number_of_selfloops(), nx.number_connected_components(G_feature)))"
      ]
    },
    {
      "cell_type": "markdown",
      "metadata": {
        "pycharm": {}
      },
      "source": [
        "### Question 4: Simulation with Erdős–Rényi and Barabási–Albert models"
      ]
    },
    {
      "cell_type": "markdown",
      "metadata": {
        "pycharm": {}
      },
      "source": [
        "Create an Erdős–Rényi and a Barabási–Albert graph using NetworkX to simulate the citation graph and the feature graph you have. When choosing parameters for the networks, take into account the number of vertices and edges of the original networks."
      ]
    },
    {
      "cell_type": "markdown",
      "metadata": {
        "pycharm": {}
      },
      "source": [
        "The number of nodes should exactly match the number of nodes in the original citation and feature graphs."
      ]
    },
    {
      "cell_type": "code",
      "execution_count": null,
      "metadata": {
        "pycharm": {}
      },
      "outputs": [],
      "source": [
        "assert len(G_citation.nodes()) \u003d\u003d len(G_feature.nodes())\n",
        "n \u003d len(G_citation.nodes())\n",
        "n"
      ]
    },
    {
      "cell_type": "markdown",
      "metadata": {
        "pycharm": {}
      },
      "source": [
        "The number of match shall fit the average of the number of edges in the citation and the feature graph."
      ]
    },
    {
      "cell_type": "code",
      "execution_count": null,
      "metadata": {
        "pycharm": {}
      },
      "outputs": [],
      "source": [
        "m \u003d np.round((G_citation.size() + G_feature.size()) / 2)\n",
        "m"
      ]
    },
    {
      "cell_type": "markdown",
      "metadata": {
        "pycharm": {}
      },
      "source": [
        "How do you determine the probability parameter for the Erdős–Rényi graph?"
      ]
    },
    {
      "cell_type": "markdown",
      "metadata": {
        "pycharm": {}
      },
      "source": [
        "**Your answer here:**"
      ]
    },
    {
      "cell_type": "code",
      "execution_count": null,
      "metadata": {
        "pycharm": {}
      },
      "outputs": [],
      "source": [
        "p \u003d # Your code here.\n",
        "G_er \u003d nx.erdos_renyi_graph(n, p)"
      ]
    },
    {
      "cell_type": "markdown",
      "metadata": {
        "pycharm": {}
      },
      "source": [
        "Check the number of edges in the Erdős–Rényi graph."
      ]
    },
    {
      "cell_type": "code",
      "execution_count": null,
      "metadata": {
        "pycharm": {}
      },
      "outputs": [],
      "source": [
        "print(\u0027My Erdos-Rényi network that simulates the citation graph has {} edges.\u0027.format(G_er.size()))"
      ]
    },
    {
      "cell_type": "markdown",
      "metadata": {
        "pycharm": {}
      },
      "source": [
        "How do you determine the preferential attachment parameter for Barabási–Albert graphs?"
      ]
    },
    {
      "cell_type": "markdown",
      "metadata": {
        "pycharm": {}
      },
      "source": [
        "**Your answer here:**"
      ]
    },
    {
      "cell_type": "code",
      "execution_count": null,
      "metadata": {
        "pycharm": {}
      },
      "outputs": [],
      "source": [
        "q \u003d # Your code here.\n",
        "G_ba \u003d nx.barabasi_albert_graph(n, q)"
      ]
    },
    {
      "cell_type": "markdown",
      "metadata": {
        "pycharm": {}
      },
      "source": [
        "Check the number of edges in the Barabási–Albert graph."
      ]
    },
    {
      "cell_type": "code",
      "execution_count": null,
      "metadata": {
        "pycharm": {}
      },
      "outputs": [],
      "source": [
        "print(\u0027My Barabási-Albert network that simulates the citation graph has {} edges.\u0027.format(G_ba.size()))"
      ]
    },
    {
      "cell_type": "markdown",
      "metadata": {
        "pycharm": {}
      },
      "source": [
        "### Question 5: Giant Component"
      ]
    },
    {
      "cell_type": "markdown",
      "metadata": {
        "pycharm": {}
      },
      "source": [
        "Check the size of the largest connected component in the citation and feature graphs."
      ]
    },
    {
      "cell_type": "code",
      "execution_count": null,
      "metadata": {
        "pycharm": {}
      },
      "outputs": [],
      "source": [
        "giant_citation \u003d # Your code here.\n",
        "print(\u0027The giant component of the citation graph has {} nodes and {} edges.\u0027.format(giant_citation.number_of_nodes(), giant_citation.size()))"
      ]
    },
    {
      "cell_type": "code",
      "execution_count": null,
      "metadata": {
        "pycharm": {}
      },
      "outputs": [],
      "source": [
        "giant_feature \u003d # Your code here.\n",
        "print(\u0027The giant component of the feature graph has {} nodes and {} edges.\u0027.format(giant_feature.number_of_nodes(), giant_feature.size()))"
      ]
    },
    {
      "cell_type": "markdown",
      "metadata": {
        "pycharm": {}
      },
      "source": [
        "Check the size of the giant components in the generated Erdős–Rényi graph."
      ]
    },
    {
      "cell_type": "code",
      "execution_count": null,
      "metadata": {
        "pycharm": {}
      },
      "outputs": [],
      "source": [
        "giant_er \u003d # Your code here.\n",
        "print(\u0027The giant component of the Erdos-Rényi network has {} nodes and {} edges.\u0027.format(giant_er.number_of_nodes(), giant_er.size()))"
      ]
    },
    {
      "cell_type": "markdown",
      "metadata": {
        "pycharm": {}
      },
      "source": [
        "Let us match the number of nodes in the giant component of the feature graph by simulating a new Erdős–Rényi network.\n",
        "How do you choose the probability parameter this time? \n",
        "\n",
        "**Hint:** Recall the expected giant component size from the lectures."
      ]
    },
    {
      "cell_type": "markdown",
      "metadata": {
        "pycharm": {}
      },
      "source": [
        "**Your answer here:**"
      ]
    },
    {
      "cell_type": "code",
      "execution_count": null,
      "metadata": {
        "pycharm": {}
      },
      "outputs": [],
      "source": [
        "p_new \u003d # Your code here.\n",
        "G_er_new \u003d nx.erdos_renyi_graph(n, p_new)"
      ]
    },
    {
      "cell_type": "markdown",
      "metadata": {
        "pycharm": {}
      },
      "source": [
        "Check the size of the new Erdős–Rényi network and its giant component."
      ]
    },
    {
      "cell_type": "code",
      "execution_count": null,
      "metadata": {
        "pycharm": {}
      },
      "outputs": [],
      "source": [
        "print(\u0027My new Erdos Renyi network that simulates the citation graph has {} edges.\u0027.format(G_er_new.size()))\n",
        "giant_er_new \u003d # Your code here.\n",
        "print(\u0027The giant component of the new Erdos-Rényi network has {} nodes and {} edges.\u0027.format(giant_er_new.number_of_nodes(), giant_er_new.size()))"
      ]
    },
    {
      "cell_type": "markdown",
      "metadata": {
        "pycharm": {}
      },
      "source": [
        "### Question 6: Degree Distributions"
      ]
    },
    {
      "cell_type": "markdown",
      "metadata": {
        "pycharm": {}
      },
      "source": [
        "Recall the degree distribution of the citation and the feature graph."
      ]
    },
    {
      "cell_type": "code",
      "execution_count": null,
      "metadata": {
        "pycharm": {}
      },
      "outputs": [],
      "source": [
        "fig, axes \u003d plt.subplots(1, 2, figsize\u003d(15, 6))\n",
        "axes[0].set_title(\u0027Citation graph\u0027)\n",
        "citation_degrees \u003d # Your code here.\n",
        "axes[0].hist(citation_degrees);\n",
        "axes[1].set_title(\u0027Feature graph\u0027)\n",
        "feature_degrees \u003d # Your code here.\n",
        "axes[1].hist(feature_degrees);"
      ]
    },
    {
      "cell_type": "markdown",
      "metadata": {
        "pycharm": {}
      },
      "source": [
        "What does the degree distribution tell us about a network? Can you make a prediction on the network model type of the citation and the feature graph by looking at their degree distributions?"
      ]
    },
    {
      "cell_type": "markdown",
      "metadata": {
        "pycharm": {}
      },
      "source": [
        "**Your answer here:**"
      ]
    },
    {
      "cell_type": "markdown",
      "metadata": {
        "pycharm": {}
      },
      "source": [
        "Now, plot the degree distribution historgrams for the simulated networks."
      ]
    },
    {
      "cell_type": "code",
      "execution_count": null,
      "metadata": {
        "pycharm": {}
      },
      "outputs": [],
      "source": [
        "fig, axes \u003d plt.subplots(1, 3, figsize\u003d(20, 6))\n",
        "axes[0].set_title(\u0027Erdos-Rényi network\u0027)\n",
        "er_degrees \u003d # Your code here.\n",
        "axes[0].hist(er_degrees);\n",
        "axes[1].set_title(\u0027Barabási-Albert network\u0027)\n",
        "ba_degrees \u003d # Your code here.\n",
        "axes[1].hist(ba_degrees);\n",
        "axes[2].set_title(\u0027new Erdos-Rényi network\u0027)\n",
        "er_new_degrees \u003d # Your code here.\n",
        "axes[2].hist(er_new_degrees);"
      ]
    },
    {
      "cell_type": "markdown",
      "metadata": {
        "pycharm": {}
      },
      "source": [
        "In terms of the degree distribution, is there a good match between the citation and feature graphs and the simulated networks?\n",
        "For the citation graph, choose one of the simulated networks above that match its degree distribution best. Indicate your preference below."
      ]
    },
    {
      "cell_type": "markdown",
      "metadata": {
        "pycharm": {}
      },
      "source": [
        "**Your answer here:** "
      ]
    },
    {
      "cell_type": "markdown",
      "metadata": {
        "pycharm": {}
      },
      "source": [
        "You can also simulate a network using the configuration model to match its degree disctribution exactly. Refer to [Configuration model](https://networkx.github.io/documentation/stable/reference/generated/networkx.generators.degree_seq.configuration_model.html#networkx.generators.degree_seq.configuration_model).\n",
        "\n",
        "Let us create another network to match the degree distribution of the feature graph. "
      ]
    },
    {
      "cell_type": "code",
      "execution_count": null,
      "metadata": {
        "pycharm": {}
      },
      "outputs": [],
      "source": [
        "G_config \u003d nx.configuration_model(feature_degrees) \n",
        "print(\u0027Configuration model has {} nodes and {} edges.\u0027.format(G_config.number_of_nodes(), G_config.size()))"
      ]
    },
    {
      "cell_type": "markdown",
      "metadata": {
        "pycharm": {}
      },
      "source": [
        "Does it mean that we create the same graph with the feature graph by the configuration model? If not, how do you understand that they are not the same?"
      ]
    },
    {
      "cell_type": "markdown",
      "metadata": {
        "pycharm": {}
      },
      "source": [
        "**Your answer here:** "
      ]
    },
    {
      "cell_type": "markdown",
      "metadata": {
        "pycharm": {}
      },
      "source": [
        "### Question 7: Clustering Coefficient"
      ]
    },
    {
      "cell_type": "markdown",
      "metadata": {
        "pycharm": {}
      },
      "source": [
        "Let us check the average clustering coefficient of the original citation and feature graphs. "
      ]
    },
    {
      "cell_type": "code",
      "execution_count": null,
      "metadata": {
        "pycharm": {}
      },
      "outputs": [],
      "source": [
        "nx.average_clustering(G_citation)"
      ]
    },
    {
      "cell_type": "code",
      "execution_count": null,
      "metadata": {
        "pycharm": {}
      },
      "outputs": [],
      "source": [
        "nx.average_clustering(G_feature)"
      ]
    },
    {
      "cell_type": "markdown",
      "metadata": {
        "pycharm": {}
      },
      "source": [
        "What does the clustering coefficient tell us about a network? Comment on the values you obtain for the citation and feature graph."
      ]
    },
    {
      "cell_type": "markdown",
      "metadata": {
        "pycharm": {}
      },
      "source": [
        "**Your answer here:**"
      ]
    },
    {
      "cell_type": "markdown",
      "metadata": {
        "pycharm": {}
      },
      "source": [
        "Now, let us check the average clustering coefficient for the simulated networks."
      ]
    },
    {
      "cell_type": "code",
      "execution_count": null,
      "metadata": {
        "pycharm": {}
      },
      "outputs": [],
      "source": [
        "nx.average_clustering(G_er)"
      ]
    },
    {
      "cell_type": "code",
      "execution_count": null,
      "metadata": {
        "pycharm": {}
      },
      "outputs": [],
      "source": [
        "nx.average_clustering(G_ba)"
      ]
    },
    {
      "cell_type": "code",
      "execution_count": null,
      "metadata": {
        "pycharm": {}
      },
      "outputs": [],
      "source": [
        "nx.average_clustering(nx.Graph(G_config))"
      ]
    },
    {
      "cell_type": "markdown",
      "metadata": {
        "pycharm": {}
      },
      "source": [
        "Comment on the values you obtain for the simulated networks. Is there any good match to the citation or feature graph in terms of clustering coefficient?"
      ]
    },
    {
      "cell_type": "markdown",
      "metadata": {
        "pycharm": {}
      },
      "source": [
        "**Your answer here:**"
      ]
    },
    {
      "cell_type": "markdown",
      "metadata": {
        "pycharm": {}
      },
      "source": [
        "Check the other [network model generators](https://networkx.github.io/documentation/networkx-1.10/reference/generators.html) provided by NetworkX. Which one do you predict to have a better match to the citation graph or the feature graph in terms of degree distribution and clustering coefficient at the same time? Justify your answer."
      ]
    },
    {
      "cell_type": "markdown",
      "metadata": {
        "pycharm": {}
      },
      "source": [
        "**Your answer here:**"
      ]
    },
    {
      "cell_type": "markdown",
      "metadata": {
        "pycharm": {}
      },
      "source": [
        "If you find a better fit, create a graph object below for that network model. Print the number of edges and the average clustering coefficient. Plot the histogram of the degree distribution."
      ]
    },
    {
      "cell_type": "code",
      "execution_count": null,
      "metadata": {
        "pycharm": {}
      },
      "outputs": [],
      "source": [
        "# Your code here."
      ]
    },
    {
      "cell_type": "markdown",
      "metadata": {
        "pycharm": {}
      },
      "source": [
        "Comment on the similarities of your match."
      ]
    },
    {
      "cell_type": "markdown",
      "metadata": {
        "pycharm": {}
      },
      "source": [
        "**Your answer here:**"
      ]
    }
  ],
  "metadata": {
    "kernelspec": {
      "display_name": "Python 3",
      "language": "python",
      "name": "python3"
    },
    "language_info": {
      "codemirror_mode": {
        "name": "ipython",
        "version": 3
      },
      "file_extension": ".py",
      "mimetype": "text/x-python",
      "name": "python",
      "nbconvert_exporter": "python",
      "pygments_lexer": "ipython3",
      "version": "3.7.3"
    }
  },
  "nbformat": 4,
  "nbformat_minor": 4
}