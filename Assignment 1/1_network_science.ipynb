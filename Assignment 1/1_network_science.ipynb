{
  "cells": [
    {
      "cell_type": "markdown",
      "metadata": {
        "pycharm": {}
      },
      "source": [
        "# [NTDS\u002719] assignment 1: network science\n",
        "[ntds\u002719]: https://github.com/mdeff/ntds_2019\n",
        "\n",
        "[Eda Bayram](https://lts4.epfl.ch/bayram), [EPFL LTS4](https://lts4.epfl.ch) and\n",
        "[Nikolaos Karalias](https://people.epfl.ch/nikolaos.karalias), [EPFL LTS2](https://lts2.epfl.ch)."
      ]
    },
    {
      "cell_type": "markdown",
      "metadata": {
        "pycharm": {}
      },
      "source": [
        "## Students\n",
        "\n",
        "* Team: 10\n",
        "* Students: Furtuna Andrei-Calin, Gafton Paul-Adrian, Mircea Sorin-Sebastian, Mocanu Alexandru"
      ]
    },
    {
      "cell_type": "markdown",
      "metadata": {
        "pycharm": {}
      },
      "source": [
        "## Rules\n",
        "\n",
        "Grading:\n",
        "* The first deadline is for individual submissions. The second deadline is for the team submission.\n",
        "* All team members will receive the same grade based on the team solution submitted on the second deadline.\n",
        "* As a fallback, a team can ask for individual grading. In that case, solutions submitted on the first deadline are graded.\n",
        "* Collaboration between team members is encouraged. No collaboration between teams is allowed.\n",
        "\n",
        "Submission:\n",
        "* Textual answers shall be short. Typically one to two sentences.\n",
        "* Code has to be clean.\n",
        "* You cannot import any other library than we imported.\n",
        "  Note that Networkx is imported in the second section and cannot be used in the first.\n",
        "* When submitting, the notebook is executed and the results are stored. I.e., if you open the notebook again it should show numerical results and plots. We won\u0027t be able to execute your notebooks.\n",
        "* The notebook is re-executed from a blank state before submission. That is to be sure it is reproducible. You can click \"Kernel\" then \"Restart Kernel and Run All Cells\" in Jupyter."
      ]
    },
    {
      "cell_type": "markdown",
      "metadata": {
        "pycharm": {}
      },
      "source": [
        "## Objective\n",
        "\n",
        "The purpose of this milestone is to explore a given dataset, represent it by network by constructing different graphs. In the first section, you will analyze the network properties. In the second section, you will explore various network models and find out the network model fitting the ones you construct from the dataset."
      ]
    },
    {
      "cell_type": "markdown",
      "metadata": {
        "pycharm": {}
      },
      "source": [
        "## Cora Dataset\n",
        "\n",
        "The [Cora dataset](https://linqs.soe.ucsc.edu/node/236) consists of scientific publications classified into one of seven research fields. \n",
        "\n",
        "* **Citation graph:** the citation network can be constructed from the connections given in the `cora.cites` file.\n",
        "* **Feature graph:** each publication in the dataset is described by a 0/1-valued word vector indicating the absence/presence of the corresponding word from the dictionary and its research field, given in the `cora.content` file. The dictionary consists of 1433 unique words. A feature graph can be constructed using the Euclidean distance between the feature vector of the publications.\n",
        "\n",
        "The [`README`](data/cora/README) provides details about the content of [`cora.cites`](data/cora/cora.cites) and [`cora.content`](data/cora/cora.content)."
      ]
    },
    {
      "cell_type": "markdown",
      "metadata": {
        "pycharm": {}
      },
      "source": [
        "## Section 1: Network Properties"
      ]
    },
    {
      "cell_type": "code",
      "execution_count": 2,
      "metadata": {
        "pycharm": {
          "is_executing": false
        }
      },
      "outputs": [],
      "source": [
        "import numpy as np\n",
        "import pandas as pd\n",
        "from matplotlib import pyplot as plt\n",
        "\n",
        "%matplotlib inline"
      ]
    },
    {
      "cell_type": "markdown",
      "metadata": {
        "pycharm": {}
      },
      "source": [
        "### Question 1: Construct a Citation Graph and a Feature Graph"
      ]
    },
    {
      "cell_type": "markdown",
      "metadata": {
        "pycharm": {}
      },
      "source": "Read the `cora.content` file into a Pandas DataFrame by setting a header for the column names. Check the `README` file."
    },
    {
      "cell_type": "code",
      "execution_count": 20,
      "metadata": {
        "pycharm": {
          "is_executing": false
        }
      },
      "outputs": [
        {
          "data": {
            "text/plain": "        id  word0  word1  word2  word3  word4  word5  word6  word7  word8  \\\n0    31336      0      0      0      0      0      0      0      0      0   \n1  1061127      0      0      0      0      0      0      0      0      0   \n2  1106406      0      0      0      0      0      0      0      0      0   \n3    13195      0      0      0      0      0      0      0      0      0   \n4    37879      0      0      0      0      0      0      0      0      0   \n\n   ...  word1424  word1425  word1426  word1427  word1428  word1429  word1430  \\\n0  ...         0         0         1         0         0         0         0   \n1  ...         0         1         0         0         0         0         0   \n2  ...         0         0         0         0         0         0         0   \n3  ...         0         0         0         0         0         0         0   \n4  ...         0         0         0         0         0         0         0   \n\n   word1431  word1432                   field  \n0         0         0         Neural_Networks  \n1         0         0           Rule_Learning  \n2         0         0  Reinforcement_Learning  \n3         0         0  Reinforcement_Learning  \n4         0         0   Probabilistic_Methods  \n\n[5 rows x 1435 columns]",
            "text/html": "\u003cdiv\u003e\n\u003cstyle scoped\u003e\n    .dataframe tbody tr th:only-of-type {\n        vertical-align: middle;\n    }\n\n    .dataframe tbody tr th {\n        vertical-align: top;\n    }\n\n    .dataframe thead th {\n        text-align: right;\n    }\n\u003c/style\u003e\n\u003ctable border\u003d\"1\" class\u003d\"dataframe\"\u003e\n  \u003cthead\u003e\n    \u003ctr style\u003d\"text-align: right;\"\u003e\n      \u003cth\u003e\u003c/th\u003e\n      \u003cth\u003eid\u003c/th\u003e\n      \u003cth\u003eword0\u003c/th\u003e\n      \u003cth\u003eword1\u003c/th\u003e\n      \u003cth\u003eword2\u003c/th\u003e\n      \u003cth\u003eword3\u003c/th\u003e\n      \u003cth\u003eword4\u003c/th\u003e\n      \u003cth\u003eword5\u003c/th\u003e\n      \u003cth\u003eword6\u003c/th\u003e\n      \u003cth\u003eword7\u003c/th\u003e\n      \u003cth\u003eword8\u003c/th\u003e\n      \u003cth\u003e...\u003c/th\u003e\n      \u003cth\u003eword1424\u003c/th\u003e\n      \u003cth\u003eword1425\u003c/th\u003e\n      \u003cth\u003eword1426\u003c/th\u003e\n      \u003cth\u003eword1427\u003c/th\u003e\n      \u003cth\u003eword1428\u003c/th\u003e\n      \u003cth\u003eword1429\u003c/th\u003e\n      \u003cth\u003eword1430\u003c/th\u003e\n      \u003cth\u003eword1431\u003c/th\u003e\n      \u003cth\u003eword1432\u003c/th\u003e\n      \u003cth\u003efield\u003c/th\u003e\n    \u003c/tr\u003e\n  \u003c/thead\u003e\n  \u003ctbody\u003e\n    \u003ctr\u003e\n      \u003cth\u003e0\u003c/th\u003e\n      \u003ctd\u003e31336\u003c/td\u003e\n      \u003ctd\u003e0\u003c/td\u003e\n      \u003ctd\u003e0\u003c/td\u003e\n      \u003ctd\u003e0\u003c/td\u003e\n      \u003ctd\u003e0\u003c/td\u003e\n      \u003ctd\u003e0\u003c/td\u003e\n      \u003ctd\u003e0\u003c/td\u003e\n      \u003ctd\u003e0\u003c/td\u003e\n      \u003ctd\u003e0\u003c/td\u003e\n      \u003ctd\u003e0\u003c/td\u003e\n      \u003ctd\u003e...\u003c/td\u003e\n      \u003ctd\u003e0\u003c/td\u003e\n      \u003ctd\u003e0\u003c/td\u003e\n      \u003ctd\u003e1\u003c/td\u003e\n      \u003ctd\u003e0\u003c/td\u003e\n      \u003ctd\u003e0\u003c/td\u003e\n      \u003ctd\u003e0\u003c/td\u003e\n      \u003ctd\u003e0\u003c/td\u003e\n      \u003ctd\u003e0\u003c/td\u003e\n      \u003ctd\u003e0\u003c/td\u003e\n      \u003ctd\u003eNeural_Networks\u003c/td\u003e\n    \u003c/tr\u003e\n    \u003ctr\u003e\n      \u003cth\u003e1\u003c/th\u003e\n      \u003ctd\u003e1061127\u003c/td\u003e\n      \u003ctd\u003e0\u003c/td\u003e\n      \u003ctd\u003e0\u003c/td\u003e\n      \u003ctd\u003e0\u003c/td\u003e\n      \u003ctd\u003e0\u003c/td\u003e\n      \u003ctd\u003e0\u003c/td\u003e\n      \u003ctd\u003e0\u003c/td\u003e\n      \u003ctd\u003e0\u003c/td\u003e\n      \u003ctd\u003e0\u003c/td\u003e\n      \u003ctd\u003e0\u003c/td\u003e\n      \u003ctd\u003e...\u003c/td\u003e\n      \u003ctd\u003e0\u003c/td\u003e\n      \u003ctd\u003e1\u003c/td\u003e\n      \u003ctd\u003e0\u003c/td\u003e\n      \u003ctd\u003e0\u003c/td\u003e\n      \u003ctd\u003e0\u003c/td\u003e\n      \u003ctd\u003e0\u003c/td\u003e\n      \u003ctd\u003e0\u003c/td\u003e\n      \u003ctd\u003e0\u003c/td\u003e\n      \u003ctd\u003e0\u003c/td\u003e\n      \u003ctd\u003eRule_Learning\u003c/td\u003e\n    \u003c/tr\u003e\n    \u003ctr\u003e\n      \u003cth\u003e2\u003c/th\u003e\n      \u003ctd\u003e1106406\u003c/td\u003e\n      \u003ctd\u003e0\u003c/td\u003e\n      \u003ctd\u003e0\u003c/td\u003e\n      \u003ctd\u003e0\u003c/td\u003e\n      \u003ctd\u003e0\u003c/td\u003e\n      \u003ctd\u003e0\u003c/td\u003e\n      \u003ctd\u003e0\u003c/td\u003e\n      \u003ctd\u003e0\u003c/td\u003e\n      \u003ctd\u003e0\u003c/td\u003e\n      \u003ctd\u003e0\u003c/td\u003e\n      \u003ctd\u003e...\u003c/td\u003e\n      \u003ctd\u003e0\u003c/td\u003e\n      \u003ctd\u003e0\u003c/td\u003e\n      \u003ctd\u003e0\u003c/td\u003e\n      \u003ctd\u003e0\u003c/td\u003e\n      \u003ctd\u003e0\u003c/td\u003e\n      \u003ctd\u003e0\u003c/td\u003e\n      \u003ctd\u003e0\u003c/td\u003e\n      \u003ctd\u003e0\u003c/td\u003e\n      \u003ctd\u003e0\u003c/td\u003e\n      \u003ctd\u003eReinforcement_Learning\u003c/td\u003e\n    \u003c/tr\u003e\n    \u003ctr\u003e\n      \u003cth\u003e3\u003c/th\u003e\n      \u003ctd\u003e13195\u003c/td\u003e\n      \u003ctd\u003e0\u003c/td\u003e\n      \u003ctd\u003e0\u003c/td\u003e\n      \u003ctd\u003e0\u003c/td\u003e\n      \u003ctd\u003e0\u003c/td\u003e\n      \u003ctd\u003e0\u003c/td\u003e\n      \u003ctd\u003e0\u003c/td\u003e\n      \u003ctd\u003e0\u003c/td\u003e\n      \u003ctd\u003e0\u003c/td\u003e\n      \u003ctd\u003e0\u003c/td\u003e\n      \u003ctd\u003e...\u003c/td\u003e\n      \u003ctd\u003e0\u003c/td\u003e\n      \u003ctd\u003e0\u003c/td\u003e\n      \u003ctd\u003e0\u003c/td\u003e\n      \u003ctd\u003e0\u003c/td\u003e\n      \u003ctd\u003e0\u003c/td\u003e\n      \u003ctd\u003e0\u003c/td\u003e\n      \u003ctd\u003e0\u003c/td\u003e\n      \u003ctd\u003e0\u003c/td\u003e\n      \u003ctd\u003e0\u003c/td\u003e\n      \u003ctd\u003eReinforcement_Learning\u003c/td\u003e\n    \u003c/tr\u003e\n    \u003ctr\u003e\n      \u003cth\u003e4\u003c/th\u003e\n      \u003ctd\u003e37879\u003c/td\u003e\n      \u003ctd\u003e0\u003c/td\u003e\n      \u003ctd\u003e0\u003c/td\u003e\n      \u003ctd\u003e0\u003c/td\u003e\n      \u003ctd\u003e0\u003c/td\u003e\n      \u003ctd\u003e0\u003c/td\u003e\n      \u003ctd\u003e0\u003c/td\u003e\n      \u003ctd\u003e0\u003c/td\u003e\n      \u003ctd\u003e0\u003c/td\u003e\n      \u003ctd\u003e0\u003c/td\u003e\n      \u003ctd\u003e...\u003c/td\u003e\n      \u003ctd\u003e0\u003c/td\u003e\n      \u003ctd\u003e0\u003c/td\u003e\n      \u003ctd\u003e0\u003c/td\u003e\n      \u003ctd\u003e0\u003c/td\u003e\n      \u003ctd\u003e0\u003c/td\u003e\n      \u003ctd\u003e0\u003c/td\u003e\n      \u003ctd\u003e0\u003c/td\u003e\n      \u003ctd\u003e0\u003c/td\u003e\n      \u003ctd\u003e0\u003c/td\u003e\n      \u003ctd\u003eProbabilistic_Methods\u003c/td\u003e\n    \u003c/tr\u003e\n  \u003c/tbody\u003e\n\u003c/table\u003e\n\u003cp\u003e5 rows × 1435 columns\u003c/p\u003e\n\u003c/div\u003e"
          },
          "metadata": {},
          "output_type": "execute_result",
          "execution_count": 20
        }
      ],
      "source": "column_list \u003d [\u0027id\u0027] + [ \u0027word\u0027 + str(item) for item in range(1433) ] + [\"field\"]\npd_content \u003d pd.read_csv(\u0027data/cora/cora.content\u0027, delimiter\u003d\u0027\\t\u0027, names\u003dcolumn_list) \npd_content.head()"
    },
    {
      "cell_type": "markdown",
      "metadata": {
        "pycharm": {}
      },
      "source": [
        "Print out the number of papers contained in each of the reasearch fields.\n",
        "\n",
        "**Hint:** You can use the `value_counts()` function."
      ]
    },
    {
      "cell_type": "code",
      "execution_count": 21,
      "metadata": {
        "pycharm": {
          "is_executing": false
        }
      },
      "outputs": [
        {
          "data": {
            "text/plain": "Neural_Networks           818\nProbabilistic_Methods     426\nGenetic_Algorithms        418\nTheory                    351\nCase_Based                298\nReinforcement_Learning    217\nRule_Learning             180\nName: field, dtype: int64"
          },
          "metadata": {},
          "output_type": "execute_result",
          "execution_count": 21
        }
      ],
      "source": "pd_content.field.value_counts()"
    },
    {
      "cell_type": "markdown",
      "metadata": {
        "pycharm": {}
      },
      "source": [
        "Select all papers from a field of your choice and store their feature vectors into a NumPy array.\n",
        "Check its shape."
      ]
    },
    {
      "cell_type": "code",
      "execution_count": 29,
      "metadata": {
        "pycharm": {
          "is_executing": false
        }
      },
      "outputs": [
        {
          "data": {
            "text/plain": "(217, 1433)"
          },
          "metadata": {},
          "output_type": "execute_result",
          "execution_count": 29
        }
      ],
      "source": "my_field \u003d \u0027Reinforcement_Learning\u0027 \npd_content_by_field \u003d pd_content[ pd_content.field \u003d\u003d my_field ]\nfeatures \u003d pd_content_by_field.drop(columns \u003d [\u0027id\u0027, \u0027field\u0027])\nfeatures.shape"
    },
    {
      "cell_type": "markdown",
      "metadata": {
        "pycharm": {}
      },
      "source": [
        "Let $D$ be the Euclidean distance matrix whose $(i,j)$ entry corresponds to the Euclidean distance between feature vectors $i$ and $j$.\n",
        "Using the feature vectors of the papers from the field which you have selected, construct $D$ as a Numpy array. "
      ]
    },
    {
      "cell_type": "code",
      "execution_count": 70,
      "metadata": {
        "pycharm": {
          "is_executing": false
        }
      },
      "outputs": [
        {
          "data": {
            "text/plain": "(217, 217)"
          },
          "metadata": {},
          "output_type": "execute_result",
          "execution_count": 70
        }
      ],
      "source": "def distance_matrix_np(pts):\n    \"\"\"Returns matrix of pairwise Euclidean distances. Vectorized numpy version.\"\"\"\n    return np.sum((pts[None,:] - pts[:, None])**2, -1)**0.5\n\ndistance \u003d  distance_matrix_np(features.to_numpy())\ndistance.shape"
    },
    {
      "cell_type": "markdown",
      "metadata": {
        "pycharm": {}
      },
      "source": [
        "Check the mean pairwise distance $\\mathbb{E}[D]$."
      ]
    },
    {
      "cell_type": "code",
      "execution_count": 71,
      "metadata": {
        "pycharm": {
          "is_executing": false
        }
      },
      "outputs": [
        {
          "data": {
            "text/plain": "5.781074820974051"
          },
          "metadata": {},
          "output_type": "execute_result",
          "execution_count": 71
        }
      ],
      "source": [
        "mean_distance \u003d distance.mean()\n",
        "mean_distance"
      ]
    },
    {
      "cell_type": "markdown",
      "metadata": {
        "pycharm": {}
      },
      "source": [
        "Plot an histogram of the euclidean distances."
      ]
    },
    {
      "cell_type": "code",
      "execution_count": 72,
      "metadata": {
        "pycharm": {
          "is_executing": false
        }
      },
      "outputs": [
        {
          "data": {
            "text/plain": "\u003cFigure size 576x288 with 1 Axes\u003e",
            "image/png": "iVBORw0KGgoAAAANSUhEUgAAAfYAAAEICAYAAACtc9bVAAAABHNCSVQICAgIfAhkiAAAAAlwSFlzAAALEgAACxIB0t1+/AAAADl0RVh0U29mdHdhcmUAbWF0cGxvdGxpYiB2ZXJzaW9uIDMuMC4zLCBodHRwOi8vbWF0cGxvdGxpYi5vcmcvnQurowAAG8pJREFUeJzt3Xm0ZWV95vHvI5PIICgFQSgth4oR7QSxAtiYhNY0owZciR3oiGDbQQ0kmpgV0U4aJxLsTtS2Y0ijopAoSFAjrSRI00ZiokKhKDLYVJiqZCosEJCowfz6j/1ePVzuXLc4Ve/9ftY665797uH83n3OPc/Z79733FQVkiSpD48ZdwGSJGnxGOySJHXEYJckqSMGuyRJHTHYJUnqiMEuSVJHDPYlLMk1SQ4edx3jlOSlSdYmeSDJcx+lxzwhyRdGph9I8rS5LDsu86l5S5Xk4CTrxl2HtLEM9k4luTnJL05qe9ibc1U9u6r+bpbtrEhSSbbeRKWO2x8DJ1fVjlX11ckzW9+/24Js4vZ7i1lAe+wbF3Obm9pcal5KQbmU+qrNX69v1tpCJNm6qh4aYwlPAa6ZZZmfqao1j0YxUu82g9/57nnEvoSNHtUn2T/J6iT3JbkzybvaYpe1n/e2o9XnJ3lMkt9PckuSu5Kck+TxI9t9RZv37SR/MOlx3pLkgiR/meQ+4IT22F9Mcm+S25P8aZJtR7ZXSX4jyQ1J7k/y9iRPb+vcl+T80eUn9XHKWpNsl+QBYCvga0n+aQH778NJ3jEy/bCjtiTLk3wiyfq2L/50mu1Ukme0+09McmHr1+XA0yct+1NJLkmyIck3k/yHkXlHJvlqW3dtkreMzJsYeTk+ya1J7k7yX2bo22x1jNZ8RJJr23PzrSS/m2QH4G+AJ42MdDxpjs/1a9pzfU+S9yXJyPxfT3Jde6xrk+zX2p+U5ONtX9+U5LdG1pnutT1d39/c9s/NSX5tpH27JH/c9t+dSf48yfYz9PWfk+zW1v39JA8l2blNvyPJe2ba7sjjvjjJVW2f/WOSnx6Zd3Pb319P8p0kH0vy2Gn6dUKSf0jyP9uy1yd50cj8V47s2xuTvHpk3sFJ1s1330xa941J7gA+lGS3JJ9ufdqQ5O+TmEeLpaq8dXgDbgZ+cVLbCcAXploG+CJwXLu/I3Bgu78CKGDrkfX+E7AGeFpb9hPAX7R5+wAPAC8AtmUY6v6Xkcd5S5s+muGD5fbA84ADGUaQVgDXAa8febwCLgR2Bp4NfB+4tD3+44FrgeOn2Q/T1jqy7WfMsB+nnQ98GHjHyPTBwLp2fyvga8C7gR2AxwIvmOZ5+NFjAOcB57d1ngN8a2LZ1rYWeGXbV/sBdwPPHnn8f9P2608DdwJHT3oe39/2+c+0/fisafo2bR1T1Hw78HPt/q7AfpP3x8h6c3muPw3sAjwZWA8c1ua9rNXxs0CAZzCMuDwGuBL4rwyvuacBNwKHzvTanqLPBwMPAe8CtgN+Afgu8Mw2/z0Mr8MnADsB/xv4oxn6ehnwy+3+Z4F/Ag4fmffSOWx3P+Au4ACG19TxDL+32438Dl8OPKmtfx3wmmn6d0Lr328D2wC/CnwHeEKbfyTDB7i0vj846bncmH3zEPDOtu72wB8Bf97q2Ab4OSDjft/s5Tb2Arxtoid2+IV/ALh35PYg0wf7ZcBbgd0mbWcFjwz2S4HfGJl+JkNYb83w5nruyLzHAT/g4cF+2Sy1vx745Mh0AQeNTF8JvHFk+k+A90yzrWlrHdn2bMF+36T9OBEYH2b6YH8+QyhtPcU2T2CKkGR44/4X4KdG5v0hPw72XwX+ftK2/hdw6jS1vwd496Tnce+R+ZcDx0yx3ox1TN5vwK3Aq4GdJ23nR/tjns/1C0amzwdOafcvBl43xTYOAG6d1PYm4EMzvban2M7BDAG0w6TH/wOGsPsu8PSRec8Hbpqur8Dbgfcy/F7cAbwOOJ3hQ94/A7vNYbtnAG+ftN1vAr8w8jv88pF5/w3482n6dwJwGyMB2l4Dx02z/F9P7O9F2Dc/AB47Mv9twKeY4XfP28JvDn307eiq2mXiBvzGDMu+CvhJ4PokVyR58QzLPgm4ZWT6FoY3rz3avLUTM6rqQeDbk9ZfOzqR5CfbsNwdGYbn/5DhTW/UnSP3/3mK6R0XUOtc7Te6H6vq4jmssxy4peZ3LnFZq210/4zW/hTggDZ8eW+Se4FfA34CIMkBST7XhqO/A7yGR+7HO0buP8jU+222Oib7ZeAI4JYkn0/y/OkWnONzPV2NyxmOeid7CsMw+Oh+eTM/fo7n89q+p6q+OzJ9C8NraBnDh9QrRx7jb1v7dD7PEGr7AVcDlzAc6R4IrKmqu+ew3acAb5jUt+WtpglzeU4nfKtask7qH0kOT/KlNjR+L8NzOvrcbMy+WV9V3xuZ/u8MI2mfbcP+p8xQs+bJYBcAVXVDVR0L7M4wZHZBO3dYUyx+G8MbzoQnM3yav5NhWHbviRntPNsTJz/cpOkzgOuBlVW1M8ObclgcM9W6sb7L8IY24SdG7q8Fnpz5/TXB+lbb8pG2J0/a5ucnfcjYsape2+Z/lGE4dHlVPZ5hqHMh+3G2Oh6mqq6oqqMYXjt/zXAkB1O/djbmuV7LpHP9I+03TdovO1XVEa2+6V7bU9l10rwnM7yG7mb4APnskcd4fFVNhOhUff1HhhGilzI8b9e27R3JEPrMYbtrgdMm9e1xVXXuLPtqOnslGd3fTwZuS7Id8HGGU2d7tAOBi3j4c7PQfQOT9k9V3V9Vb6iqpwEvAX5n9Hy/No7BLgCSvDzJsqr6V4bhZoAfMrzJ/yvDecsJ5wK/neSpSXZkOOr6WDs6vQB4SZJ/m+GiqLcy+xv3TgzD3Q8k+SngtbMsPx8z1bqxrgKOSPKEJD/BMKw84XKGDzmnJ9khyWOTHDTTxqrqhwzXALwlyeOS7MNwTnXCp4GfTHJckm3a7WeTPKvN3wnYUFXfS7I/8B8X0qk51PEjSbZN8mtJHl9V/8LwPP6wzb4TeGJGLqxk457rDwC/m+R5GTwjyVMY9vV97eKs7ZNsleQ5SX621Tjda3s6b239+jngxcBftXXfD7w7ye5tu3slOXS6vrbRqiuBk/hxkP8jw2mLz7dlZtvu+4HXtNGYtNfSkUl2msd+G7U78FvttfMy4FkMAb4tw/nv9cBDSQ4HDlmkffMIGS4IfEb7kDHxmpnpOdE8GOyacBhwTYYrxf8Hw7nX77U3p9OAf2jDbAcCZwF/wXDu8ibge8BvAlTVNe3+eQzBdj/DxT/fn+Gxf5chhO5neIP42CL2a9pa5+Frefjfsb+ntf8FwwVyNzNcHPWjuls4voTh3PmtwDqGc+SzOZlhKPUOhnP4HxrZ5v0Mb7bHMBwp3cGPL0iC4VTL25Lcz3Ctw/ks3LR1TOE44OY2tP4a4OWt3usZPljd2F47T2Ijnuuq+iuG1+JH2/p/zXDh18S+3pfhOb6b4UPARMhO+dqe5mHuAO5h2L8fYbgQ7fo2740Mw8dfan39PwxH5NP1FYYA34bhw8fE9E78+K9NZtvuauDXgT9tda1hOFe+UF8GVjLso9OAX6mqb7fX1m8xvGbuYXiOLpy07oL2zTRWtmUeYLi48c9qlu/U0Nzl4adbpMXVjpLvZRh6vWnc9UhLVZITgP9cVS9YwLoHA39ZVXvPtqzGzyN2LbokL2lDuDswnLO7muGoVpK0iRns2hSOYhiuu41hyO2YcmhIkh4VDsVLktQRj9glSerIFvtPYHbbbbdasWLFuMuQJOlRceWVV95dVTN9KRKwBQf7ihUrWL169bjLkCTpUZFkpm+A/BGH4iVJ6ojBLklSRwx2SZI6YrBLktQRg12SpI4Y7JIkdcRglySpIwa7JEkdMdglSerIFvvNc5KkTWfFKZ8Zdwkzuvn0I8ddwmbLI3ZJkjpisEuS1BGDXZKkjhjskiR1xGCXJKkjBrskSR0x2CVJ6ojBLklSRwx2SZI6YrBLktSRWYM9yfIkn0tyXZJrkryutb8lybeSXNVuR4ys86Yka5J8M8mhI+2HtbY1SU4ZaX9qki8nuSHJx5Jsu9gdlSRpKZjLEftDwBuq6lnAgcBJSfZp895dVfu220UAbd4xwLOBw4A/S7JVkq2A9wGHA/sAx45s551tWyuBe4BXLVL/JElaUmYN9qq6vaq+0u7fD1wH7DXDKkcB51XV96vqJmANsH+7ramqG6vqB8B5wFFJArwQuKCtfzZw9EI7JEnSUjavc+xJVgDPBb7cmk5O8vUkZyXZtbXtBawdWW1da5uu/YnAvVX10KT2qR7/xCSrk6xev379fEqXJGlJmHOwJ9kR+Djw+qq6DzgDeDqwL3A78CcTi06xei2g/ZGNVWdW1aqqWrVs2bK5li5J0pIxp//HnmQbhlD/SFV9AqCq7hyZ/37g021yHbB8ZPW9gdva/ana7wZ2SbJ1O2ofXV6SJM3DXK6KD/BB4LqqetdI+54ji70U+Ea7fyFwTJLtkjwVWAlcDlwBrGxXwG/LcIHdhVVVwOeAX2nrHw98auO6JUnS0jSXI/aDgOOAq5Nc1drezHBV+74Mw+Y3A68GqKprkpwPXMtwRf1JVfVDgCQnAxcDWwFnVdU1bXtvBM5L8g7gqwwfJCRJ0jzNGuxV9QWmPg9+0QzrnAacNkX7RVOtV1U3Mlw1L0mSNoLfPCdJUkcMdkmSOmKwS5LUEYNdkqSOGOySJHXEYJckqSMGuyRJHTHYJUnqiMEuSVJHDHZJkjpisEuS1BGDXZKkjhjskiR1xGCXJKkjBrskSR0x2CVJ6ojBLklSRwx2SZI6YrBLktQRg12SpI4Y7JIkdcRglySpIwa7JEkdMdglSeqIwS5JUkcMdkmSOmKwS5LUEYNdkqSOGOySJHXEYJckqSOzBnuS5Uk+l+S6JNckeV1rf0KSS5Lc0H7u2tqT5L1J1iT5epL9RrZ1fFv+hiTHj7Q/L8nVbZ33Jsmm6KwkSb2byxH7Q8AbqupZwIHASUn2AU4BLq2qlcClbRrgcGBlu50InAHDBwHgVOAAYH/g1IkPA22ZE0fWO2zjuyZJ0tIza7BX1e1V9ZV2/37gOmAv4Cjg7LbY2cDR7f5RwDk1+BKwS5I9gUOBS6pqQ1XdA1wCHNbm7VxVX6yqAs4Z2ZYkSZqHeZ1jT7ICeC7wZWCPqrodhvAHdm+L7QWsHVltXWubqX3dFO1TPf6JSVYnWb1+/fr5lC5J0pIw52BPsiPwceD1VXXfTItO0VYLaH9kY9WZVbWqqlYtW7ZstpIlSVpy5hTsSbZhCPWPVNUnWvOdbRid9vOu1r4OWD6y+t7AbbO07z1FuyRJmqe5XBUf4IPAdVX1rpFZFwITV7YfD3xqpP0V7er4A4HvtKH6i4FDkuzaLpo7BLi4zbs/yYHtsV4xsi1JkjQPW89hmYOA44Crk1zV2t4MnA6cn+RVwK3Ay9q8i4AjgDXAg8ArAapqQ5K3A1e05d5WVRva/dcCHwa2B/6m3SRJ0jzNGuxV9QWmPg8O8KIpli/gpGm2dRZw1hTtq4HnzFaLJEmamd88J0lSRwx2SZI6YrBLktQRg12SpI4Y7JIkdcRglySpIwa7JEkdMdglSeqIwS5JUkcMdkmSOmKwS5LUEYNdkqSOGOySJHXEYJckqSMGuyRJHTHYJUnqiMEuSVJHDHZJkjpisEuS1BGDXZKkjhjskiR1xGCXJKkjBrskSR0x2CVJ6ojBLklSRwx2SZI6YrBLktQRg12SpI4Y7JIkdWTWYE9yVpK7knxjpO0tSb6V5Kp2O2Jk3puSrEnyzSSHjrQf1trWJDllpP2pSb6c5IYkH0uy7WJ2UJKkpWQuR+wfBg6bov3dVbVvu10EkGQf4Bjg2W2dP0uyVZKtgPcBhwP7AMe2ZQHe2ba1ErgHeNXGdEiSpKVs1mCvqsuADXPc3lHAeVX1/aq6CVgD7N9ua6rqxqr6AXAecFSSAC8ELmjrnw0cPc8+SJKkZmPOsZ+c5OttqH7X1rYXsHZkmXWtbbr2JwL3VtVDk9qnlOTEJKuTrF6/fv1GlC5JUp8WGuxnAE8H9gVuB/6ktWeKZWsB7VOqqjOralVVrVq2bNn8KpYkaQnYeiErVdWdE/eTvB/4dJtcBywfWXRv4LZ2f6r2u4FdkmzdjtpHl5ckSfO0oCP2JHuOTL4UmLhi/kLgmCTbJXkqsBK4HLgCWNmugN+W4QK7C6uqgM8Bv9LWPx741EJqkiRJczhiT3IucDCwW5J1wKnAwUn2ZRg2vxl4NUBVXZPkfOBa4CHgpKr6YdvOycDFwFbAWVV1TXuINwLnJXkH8FXgg4vWO0mSlphZg72qjp2iedrwrarTgNOmaL8IuGiK9hsZrpqXJEkbyW+ekySpIwa7JEkdMdglSeqIwS5JUkcMdkmSOmKwS5LUEYNdkqSOGOySJHXEYJckqSMGuyRJHTHYJUnqiMEuSVJHDHZJkjpisEuS1BGDXZKkjhjskiR1xGCXJKkjBrskSR0x2CVJ6ojBLklSRwx2SZI6YrBLktQRg12SpI4Y7JIkdcRglySpIwa7JEkdMdglSeqIwS5JUke2HncBkrTUrDjlM+MuQR3ziF2SpI7MGuxJzkpyV5JvjLQ9IcklSW5oP3dt7Uny3iRrknw9yX4j6xzflr8hyfEj7c9LcnVb571JstidlCRpqZjLEfuHgcMmtZ0CXFpVK4FL2zTA4cDKdjsROAOGDwLAqcABwP7AqRMfBtoyJ46sN/mxJEnSHM0a7FV1GbBhUvNRwNnt/tnA0SPt59TgS8AuSfYEDgUuqaoNVXUPcAlwWJu3c1V9saoKOGdkW5IkaZ4Weo59j6q6HaD93L217wWsHVluXWubqX3dFO1TSnJiktVJVq9fv36BpUuS1K/FvnhuqvPjtYD2KVXVmVW1qqpWLVu2bIElSpLUr4UG+51tGJ32867Wvg5YPrLc3sBts7TvPUW7JElagIUG+4XAxJXtxwOfGml/Rbs6/kDgO22o/mLgkCS7tovmDgEubvPuT3Jguxr+FSPbkiRJ8zTrF9QkORc4GNgtyTqGq9tPB85P8irgVuBlbfGLgCOANcCDwCsBqmpDkrcDV7Tl3lZVExfkvZbhyvvtgb9pN0mStACzBntVHTvNrBdNsWwBJ02znbOAs6ZoXw08Z7Y6JEnS7PzmOUmSOmKwS5LUEYNdkqSOGOySJHXEYJckqSMGuyRJHTHYJUnqiMEuSVJHDHZJkjpisEuS1BGDXZKkjhjskiR1xGCXJKkjBrskSR0x2CVJ6ojBLklSRwx2SZI6YrBLktQRg12SpI4Y7JIkdcRglySpIwa7JEkdMdglSeqIwS5JUkcMdkmSOmKwS5LUEYNdkqSOGOySJHXEYJckqSMbFexJbk5ydZKrkqxubU9IckmSG9rPXVt7krw3yZokX0+y38h2jm/L35Dk+I3rkiRJS9diHLH/u6rat6pWtelTgEuraiVwaZsGOBxY2W4nAmfA8EEAOBU4ANgfOHXiw4AkSZqfTTEUfxRwdrt/NnD0SPs5NfgSsEuSPYFDgUuqakNV3QNcAhy2CeqSJKl7GxvsBXw2yZVJTmxte1TV7QDt5+6tfS9g7ci661rbdO2PkOTEJKuTrF6/fv1Gli5JUn+23sj1D6qq25LsDlyS5PoZls0UbTVD+yMbq84EzgRYtWrVlMtIkrSUbdQRe1Xd1n7eBXyS4Rz5nW2Infbzrrb4OmD5yOp7A7fN0C5JkuZpwcGeZIckO03cBw4BvgFcCExc2X488Kl2/0LgFe3q+AOB77Sh+ouBQ5Ls2i6aO6S1SZKkedqYofg9gE8mmdjOR6vqb5NcAZyf5FXArcDL2vIXAUcAa4AHgVcCVNWGJG8HrmjLva2qNmxEXZKkzq045TPjLmFWN59+5Fged8HBXlU3Aj8zRfu3gRdN0V7ASdNs6yzgrIXWIkmSBn7znCRJHTHYJUnqiMEuSVJHNvbv2CVps7IlXFQlbUoesUuS1BGDXZKkjhjskiR1xGCXJKkjBrskSR0x2CVJ6ojBLklSRwx2SZI6YrBLktQRg12SpI4Y7JIkdcRglySpIwa7JEkdMdglSeqIwS5JUkcMdkmSOmKwS5LUEYNdkqSOGOySJHXEYJckqSMGuyRJHTHYJUnqiMEuSVJHDHZJkjqy9bgLkLRlWXHKZ8ZdgqQZeMQuSVJHNptgT3JYkm8mWZPklHHXI0nSlmizGIpPshXwPuDfA+uAK5JcWFXXPlo1bAnDizeffuS4S9AmtiW8DiVt3jaLYAf2B9ZU1Y0ASc4DjgIetWDX0mBwSurd5hLsewFrR6bXAQdMXijJicCJbfKBJN9cxBp2A+5exO0turxzozex2fdxEfTex977B/axF0u+j4vwnj3ZU+ay0OYS7JmirR7RUHUmcOYmKSBZXVWrNsW2Nxf2ccvXe//APvbCPo7P5nLx3Dpg+cj03sBtY6pFkqQt1uYS7FcAK5M8Ncm2wDHAhWOuSZKkLc5mMRRfVQ8lORm4GNgKOKuqrnmUy9gkQ/ybGfu45eu9f2Afe2EfxyRVjziVLUmStlCby1C8JElaBAa7JEkdWfLBvhS+yjbJWUnuSvKNcdeyKSRZnuRzSa5Lck2S1427psWW5LFJLk/ytdbHt467pk0lyVZJvprk0+OuZVNIcnOSq5NclWT1uOvZFJLskuSCJNe338vnj7umxZLkme25m7jdl+T1465r1JI+x96+yvb/MfJVtsCxj+ZX2T4akvw88ABwTlU9Z9z1LLYkewJ7VtVXkuwEXAkc3dPzmCTADlX1QJJtgC8Ar6uqL425tEWX5HeAVcDOVfXicdez2JLcDKyqqm6/vCXJ2cDfV9UH2l86Pa6q7h13XYutZci3gAOq6pZx1zNhqR+x/+irbKvqB8DEV9l2paouAzaMu45Npapur6qvtPv3A9cxfJthN2rwQJvcpt26+1SeZG/gSOAD465FC5NkZ+DngQ8CVNUPegz15kXAP21OoQ4G+1RfZdtVICw1SVYAzwW+PN5KFl8bor4KuAu4pKq66yPwHuD3gH8ddyGbUAGfTXJl+5rs3jwNWA98qJ1S+UCSHcZd1CZyDHDuuIuYbKkH+5y+ylZbhiQ7Ah8HXl9V9427nsVWVT+sqn0Zvplx/yRdnVZJ8mLgrqq6cty1bGIHVdV+wOHASe1UWU+2BvYDzqiq5wLfBbq7fqmdYvgl4K/GXctkSz3Y/SrbTrTzzh8HPlJVnxh3PZtSG9b8O+CwMZey2A4Cfqmdgz4PeGGSvxxvSYuvqm5rP+8CPslwSrAn64B1IyNKFzAEfW8OB75SVXeOu5DJlnqw+1W2HWgXln0QuK6q3jXuejaFJMuS7NLubw/8InD9eKtaXFX1pqrau6pWMPwu/t+qevmYy1pUSXZoF3jShqcPAbr6a5WqugNYm+SZrelF9PkvuI9lMxyGh83kK2XHZTP5KttNLsm5wMHAbknWAadW1QfHW9WiOgg4Dri6nYMGeHNVXTTGmhbbnsDZ7SrcxwDnV1WXfw7WuT2ATw6fRdka+GhV/e14S9okfhP4SDtguhF45ZjrWVRJHsfw11SvHnctU1nSf+4mSVJvlvpQvCRJXTHYJUnqiMEuSVJHDHZJkjpisEuS1BGDXZKkjhjskiR15P8DPjzqwEsXf6kAAAAASUVORK5CYII\u003d\n"
          },
          "metadata": {
            "needs_background": "light"
          },
          "output_type": "display_data"
        }
      ],
      "source": [
        "plt.figure(1, figsize\u003d(8, 4))\n",
        "plt.title(\"Histogram of Euclidean distances between papers\")\n",
        "plt.hist(distance.flatten());"
      ]
    },
    {
      "cell_type": "markdown",
      "metadata": {
        "pycharm": {}
      },
      "source": [
        "Now create an adjacency matrix for the papers by thresholding the Euclidean distance matrix.\n",
        "The resulting (unweighted) adjacency matrix should have entries\n",
        "$$ A_{ij} \u003d \\begin{cases} 1, \\; \\text{if} \\; d(i,j)\u003c \\mathbb{E}[D], \\; i \\neq j, \\\\ 0, \\; \\text{otherwise.} \\end{cases} $$\n",
        "\n",
        "First, let us choose the mean distance as the threshold."
      ]
    },
    {
      "cell_type": "code",
      "execution_count": 73,
      "metadata": {
        "pycharm": {
          "is_executing": false
        }
      },
      "outputs": [
        {
          "data": {
            "text/plain": "(217, 217)"
          },
          "metadata": {},
          "output_type": "execute_result",
          "execution_count": 73
        }
      ],
      "source": "threshold \u003d mean_distance\nindx \u003d distance \u003c threshold\nA_feature \u003d distance.copy()\nA_feature[indx] \u003d 0\nA_feature.shape\n"
    },
    {
      "cell_type": "markdown",
      "metadata": {
        "pycharm": {}
      },
      "source": "Now read the `cora.cites` file and construct the citation graph by converting the given citation connections into an adjacency matrix."
    },
    {
      "cell_type": "code",
      "execution_count": null,
      "metadata": {
        "pycharm": {}
      },
      "outputs": [],
      "source": [
        "cora_cites \u003d np.genfromtxt(\u0027data/cora/cora.cites\u0027, delimiter\u003d\u0027\\t\u0027)\n",
        "\n",
        "A_citation \u003d # Your code here.\n",
        "A_citation.shape"
      ]
    },
    {
      "cell_type": "markdown",
      "metadata": {
        "pycharm": {}
      },
      "source": [
        "Get the adjacency matrix of the citation graph for the field that you chose.\n",
        "You have to appropriately reduce the adjacency matrix of the citation graph."
      ]
    },
    {
      "cell_type": "code",
      "execution_count": null,
      "metadata": {
        "pycharm": {}
      },
      "outputs": [],
      "source": [
        "# Your code here."
      ]
    },
    {
      "cell_type": "markdown",
      "metadata": {
        "pycharm": {}
      },
      "source": [
        "Check if your adjacency matrix is symmetric. Symmetrize your final adjacency matrix if it\u0027s not already symmetric."
      ]
    },
    {
      "cell_type": "code",
      "execution_count": null,
      "metadata": {
        "pycharm": {}
      },
      "outputs": [],
      "source": [
        "# Your code here.\n",
        "np.count_nonzero(A_citation - A_citation.transpose())"
      ]
    },
    {
      "cell_type": "markdown",
      "metadata": {
        "pycharm": {}
      },
      "source": [
        "Check the shape of your adjacency matrix again."
      ]
    },
    {
      "cell_type": "code",
      "execution_count": null,
      "metadata": {
        "pycharm": {}
      },
      "outputs": [],
      "source": [
        "A_citation.shape"
      ]
    },
    {
      "cell_type": "markdown",
      "metadata": {
        "pycharm": {}
      },
      "source": [
        "### Question 2: Degree Distribution and Moments"
      ]
    },
    {
      "cell_type": "markdown",
      "metadata": {
        "pycharm": {}
      },
      "source": [
        "What is the total number of edges in each graph?"
      ]
    },
    {
      "cell_type": "code",
      "execution_count": null,
      "metadata": {
        "pycharm": {}
      },
      "outputs": [],
      "source": [
        "num_edges_feature \u003d # Your code here.\n",
        "num_edges_citation \u003d # Your code here.\n",
        "print(f\"Number of edges in the feature graph: {num_edges_feature}\")\n",
        "print(f\"Number of edges in the citation graph: {num_edges_citation}\")"
      ]
    },
    {
      "cell_type": "markdown",
      "metadata": {
        "pycharm": {}
      },
      "source": [
        "Plot the degree distribution histogram for each of the graphs."
      ]
    },
    {
      "cell_type": "code",
      "execution_count": null,
      "metadata": {
        "pycharm": {}
      },
      "outputs": [],
      "source": [
        "degrees_citation \u003d # Your code here.\n",
        "degrees_feature \u003d # Your code here.\n",
        "\n",
        "deg_hist_normalization \u003d np.ones(degrees_citation.shape[0]) / degrees_citation.shape[0]\n",
        "\n",
        "fig, axes \u003d plt.subplots(1, 2, figsize\u003d(16, 4))\n",
        "axes[0].set_title(\u0027Citation graph degree distribution\u0027)\n",
        "axes[0].hist(degrees_citation, weights\u003ddeg_hist_normalization);\n",
        "axes[1].set_title(\u0027Feature graph degree distribution\u0027)\n",
        "axes[1].hist(degrees_feature, weights\u003ddeg_hist_normalization);"
      ]
    },
    {
      "cell_type": "markdown",
      "metadata": {
        "pycharm": {}
      },
      "source": [
        "Calculate the first and second moments of the degree distribution of each graph."
      ]
    },
    {
      "cell_type": "code",
      "execution_count": null,
      "metadata": {
        "pycharm": {}
      },
      "outputs": [],
      "source": [
        "cit_moment_1 \u003d # Your code here.\n",
        "cit_moment_2 \u003d # Your code here.\n",
        "\n",
        "feat_moment_1 \u003d # Your code here.\n",
        "feat_moment_2 \u003d # Your code here.\n",
        "\n",
        "print(f\"1st moment of citation graph: {cit_moment_1}\")\n",
        "print(f\"2nd moment of citation graph: {cit_moment_2}\")\n",
        "print(f\"1st moment of feature graph: {feat_moment_1}\")\n",
        "print(f\"2nd moment of feature graph: {feat_moment_2}\")"
      ]
    },
    {
      "cell_type": "markdown",
      "metadata": {
        "pycharm": {}
      },
      "source": [
        "What information do the moments provide you about the graphs?\n",
        "Explain the differences in moments between graphs by comparing their degree distributions."
      ]
    },
    {
      "cell_type": "markdown",
      "metadata": {
        "pycharm": {}
      },
      "source": [
        "**Your answer here:**"
      ]
    },
    {
      "cell_type": "markdown",
      "metadata": {
        "pycharm": {}
      },
      "source": [
        "Select the 20 largest hubs for each of the graphs and remove them. Observe the sparsity pattern of the adjacency matrices of the citation and feature graphs before and after such a reduction."
      ]
    },
    {
      "cell_type": "code",
      "execution_count": null,
      "metadata": {
        "pycharm": {}
      },
      "outputs": [],
      "source": [
        "reduced_A_feature \u003d # Your code here\n",
        "reduced_A_citation \u003d # Your code here\n",
        "\n",
        "fig, axes \u003d plt.subplots(2, 2, figsize\u003d(16, 16))\n",
        "axes[0, 0].set_title(\u0027Feature graph: adjacency matrix sparsity pattern\u0027)\n",
        "axes[0, 0].spy(A_feature);\n",
        "axes[0, 1].set_title(\u0027Feature graph without top 20 hubs: adjacency matrix sparsity pattern\u0027)\n",
        "axes[0, 1].spy(reduced_A_feature);\n",
        "axes[1, 0].set_title(\u0027Citation graph: adjacency matrix sparsity pattern\u0027)\n",
        "axes[1, 0].spy(A_citation);\n",
        "axes[1, 1].set_title(\u0027Citation graph without top 20 hubs: adjacency matrix sparsity pattern\u0027)\n",
        "axes[1, 1].spy(reduced_A_citation);"
      ]
    },
    {
      "cell_type": "markdown",
      "metadata": {
        "pycharm": {}
      },
      "source": [
        "Plot the new degree distribution histograms."
      ]
    },
    {
      "cell_type": "code",
      "execution_count": null,
      "metadata": {
        "pycharm": {}
      },
      "outputs": [],
      "source": [
        "reduced_degrees_feat \u003d # Your code here.\n",
        "reduced_degrees_cit \u003d # Your code here.\n",
        "\n",
        "deg_hist_normalization \u003d np.ones(reduced_degrees_feat.shape[0])/reduced_degrees_feat.shape[0]\n",
        "\n",
        "fig, axes \u003d plt.subplots(1, 2, figsize\u003d(16, 4))\n",
        "axes[0].set_title(\u0027Citation graph degree distribution\u0027)\n",
        "axes[0].hist(reduced_degrees_cit, weights\u003ddeg_hist_normalization);\n",
        "axes[1].set_title(\u0027Feature graph degree distribution\u0027)\n",
        "axes[1].hist(reduced_degrees_feat, weights\u003ddeg_hist_normalization);"
      ]
    },
    {
      "cell_type": "markdown",
      "metadata": {
        "pycharm": {}
      },
      "source": [
        "Compute the first and second moments for the new graphs."
      ]
    },
    {
      "cell_type": "code",
      "execution_count": null,
      "metadata": {
        "pycharm": {}
      },
      "outputs": [],
      "source": [
        "reduced_cit_moment_1 \u003d # Your code here.\n",
        "reduced_cit_moment_2 \u003d # Your code here.\n",
        "\n",
        "reduced_feat_moment_1 \u003d # Your code here.\n",
        "reduced_feat_moment_2 \u003d # Your code here.\n",
        "\n",
        "\n",
        "print(\"Citation graph first moment:\", reduced_cit_moment_1)\n",
        "print(\"Citation graph second moment:\", reduced_cit_moment_2)\n",
        "print(\"Feature graph first moment: \", reduced_feat_moment_1)\n",
        "print(\"Feature graph second moment: \", reduced_feat_moment_2)"
      ]
    },
    {
      "cell_type": "markdown",
      "metadata": {
        "pycharm": {}
      },
      "source": [
        "Print the number of edges in the reduced graphs."
      ]
    },
    {
      "cell_type": "code",
      "execution_count": null,
      "metadata": {
        "pycharm": {}
      },
      "outputs": [],
      "source": [
        "# Your code here"
      ]
    },
    {
      "cell_type": "markdown",
      "metadata": {
        "pycharm": {}
      },
      "source": [
        "Is the effect of removing the hubs the same for both networks? Look at the percentage changes for each moment. Which of the moments is affected the most and in which graph? Explain why.  \n",
        "\n",
        "**Hint:** Examine the degree distributions."
      ]
    },
    {
      "cell_type": "markdown",
      "metadata": {
        "pycharm": {}
      },
      "source": [
        "**Your answer here:**"
      ]
    },
    {
      "cell_type": "markdown",
      "metadata": {
        "pycharm": {}
      },
      "source": [
        "### Question 3: Pruning, sparsity, paths"
      ]
    },
    {
      "cell_type": "markdown",
      "metadata": {
        "pycharm": {}
      },
      "source": [
        "By adjusting the threshold of the euclidean distance matrix, prune the feature graph so that its number of edges is roughly close (within a hundred edges) to the number of edges in the citation graph."
      ]
    },
    {
      "cell_type": "code",
      "execution_count": null,
      "metadata": {
        "pycharm": {}
      },
      "outputs": [],
      "source": [
        "threshold \u003d # Your code here.\n",
        "\n",
        "A_feature_pruned \u003d # Your code here\n",
        "num_edges_feature_pruned \u003d # Your code here.\n",
        "\n",
        "print(f\"Number of edges in the feature graph: {num_edges_feature}\")\n",
        "print(f\"Number of edges in the feature graph after pruning: {num_edges_feature_pruned}\")\n",
        "print(f\"Number of edges in the citation graph: {num_edges_citation}\")"
      ]
    },
    {
      "cell_type": "markdown",
      "metadata": {
        "pycharm": {}
      },
      "source": [
        "Check your results by comparing the sparsity patterns and total number of edges between the graphs."
      ]
    },
    {
      "cell_type": "code",
      "execution_count": null,
      "metadata": {
        "pycharm": {}
      },
      "outputs": [],
      "source": [
        "fig, axes \u003d plt.subplots(1, 2, figsize\u003d(12, 6))\n",
        "axes[0].set_title(\u0027Citation graph sparsity\u0027)\n",
        "axes[0].spy(A_citation);\n",
        "axes[1].set_title(\u0027Feature graph sparsity\u0027)\n",
        "axes[1].spy(A_feature_pruned);"
      ]
    },
    {
      "cell_type": "markdown",
      "metadata": {
        "pycharm": {}
      },
      "source": [
        "Let $C_{k}(i,j)$ denote the number of paths of length $k$ from node $i$ to node $j$. \n",
        "\n",
        "We define the path matrix $P$, with entries\n",
        "$ P_{ij} \u003d \\displaystyle\\sum_{k\u003d0}^{N}C_{k}(i,j). $"
      ]
    },
    {
      "cell_type": "markdown",
      "metadata": {
        "pycharm": {}
      },
      "source": [
        "Calculate the path matrices for both the citation and the unpruned feature graphs for $N \u003d10$.  \n",
        "\n",
        "**Hint:** Use [powers of the adjacency matrix](https://en.wikipedia.org/wiki/Adjacency_matrix#Matrix_powers)."
      ]
    },
    {
      "cell_type": "code",
      "execution_count": null,
      "metadata": {
        "pycharm": {}
      },
      "outputs": [],
      "source": [
        "path_matrix_citation \u003d # Your code here.\n",
        "path_matrix_feature \u003d # Your code here."
      ]
    },
    {
      "cell_type": "markdown",
      "metadata": {
        "pycharm": {}
      },
      "source": [
        "Check the sparsity pattern for both of path matrices."
      ]
    },
    {
      "cell_type": "code",
      "execution_count": null,
      "metadata": {
        "pycharm": {}
      },
      "outputs": [],
      "source": [
        "fig, axes \u003d plt.subplots(1, 2, figsize\u003d(16, 9))\n",
        "axes[0].set_title(\u0027Citation Path matrix sparsity\u0027)\n",
        "axes[0].spy(path_matrix_citation);\n",
        "axes[1].set_title(\u0027Feature Path matrix sparsity\u0027)\n",
        "axes[1].spy(path_matrix_feature);"
      ]
    },
    {
      "cell_type": "markdown",
      "metadata": {
        "pycharm": {}
      },
      "source": [
        "Now calculate the path matrix of the pruned feature graph for $N\u003d10$. Plot the corresponding sparsity pattern. Is there any difference?"
      ]
    },
    {
      "cell_type": "code",
      "execution_count": null,
      "metadata": {
        "pycharm": {}
      },
      "outputs": [],
      "source": [
        "path_matrix_pruned \u003d # Your code here.\n",
        "\n",
        "plt.figure(figsize\u003d(12, 6))\n",
        "plt.title(\u0027Feature Path matrix sparsity\u0027)\n",
        "plt.spy(path_matrix_pruned);"
      ]
    },
    {
      "cell_type": "markdown",
      "metadata": {
        "pycharm": {}
      },
      "source": [
        "**Your answer here:**"
      ]
    },
    {
      "cell_type": "markdown",
      "metadata": {
        "pycharm": {}
      },
      "source": [
        "Describe how you can use the above process of counting paths to determine whether a graph is connected or not. Is the original (unpruned) feature graph connected?"
      ]
    },
    {
      "cell_type": "markdown",
      "metadata": {
        "pycharm": {}
      },
      "source": [
        "**Your answer here:** "
      ]
    },
    {
      "cell_type": "markdown",
      "metadata": {
        "pycharm": {}
      },
      "source": [
        "If the graph is connected, how can you guess its diameter using the path matrix?"
      ]
    },
    {
      "cell_type": "markdown",
      "metadata": {
        "pycharm": {}
      },
      "source": [
        "**Your answer here:**"
      ]
    },
    {
      "cell_type": "markdown",
      "metadata": {
        "pycharm": {}
      },
      "source": [
        "If any of your graphs is connected, calculate the diameter using that process."
      ]
    },
    {
      "cell_type": "code",
      "execution_count": null,
      "metadata": {
        "pycharm": {}
      },
      "outputs": [],
      "source": [
        "diameter \u003d # Your code here.\n",
        "print(f\"The diameter is: {diameter}\")"
      ]
    },
    {
      "cell_type": "markdown",
      "metadata": {
        "pycharm": {}
      },
      "source": [
        "Check if your guess was correct using [NetworkX](https://networkx.github.io/documentation/stable/reference/algorithms/generated/networkx.algorithms.distance_measures.diameter.html).\n",
        "Note: usage of NetworkX is only allowed in this part of Section 1."
      ]
    },
    {
      "cell_type": "code",
      "execution_count": null,
      "metadata": {
        "pycharm": {}
      },
      "outputs": [],
      "source": [
        "import networkx as nx\n",
        "feature_graph \u003d nx.from_numpy_matrix(A_feature)\n",
        "print(f\"Diameter according to networkx: {nx.diameter(feature_graph)}\")"
      ]
    },
    {
      "cell_type": "markdown",
      "metadata": {
        "pycharm": {}
      },
      "source": [
        "## Section 2: Network Models"
      ]
    },
    {
      "cell_type": "markdown",
      "metadata": {
        "pycharm": {}
      },
      "source": [
        "In this section, you will analyze the feature and citation graphs you constructed in the previous section in terms of the network model types.\n",
        "For this purpose, you can use the NetworkX libary imported below."
      ]
    },
    {
      "cell_type": "code",
      "execution_count": null,
      "metadata": {
        "pycharm": {}
      },
      "outputs": [],
      "source": [
        "import networkx as nx"
      ]
    },
    {
      "cell_type": "markdown",
      "metadata": {
        "pycharm": {}
      },
      "source": [
        "Let us create NetworkX graph objects from the adjacency matrices computed in the previous section."
      ]
    },
    {
      "cell_type": "code",
      "execution_count": null,
      "metadata": {
        "pycharm": {}
      },
      "outputs": [],
      "source": [
        "G_citation \u003d nx.from_numpy_matrix(A_citation)\n",
        "print(\u0027Number of nodes: {}, Number of edges: {}\u0027. format(G_citation.number_of_nodes(), G_citation.number_of_edges()))\n",
        "print(\u0027Number of self-loops: {}, Number of connected components: {}\u0027. format(G_citation.number_of_selfloops(), nx.number_connected_components(G_citation)))"
      ]
    },
    {
      "cell_type": "markdown",
      "metadata": {
        "pycharm": {}
      },
      "source": [
        "In the rest of this assignment, we will consider the pruned feature graph as the feature network."
      ]
    },
    {
      "cell_type": "code",
      "execution_count": null,
      "metadata": {
        "pycharm": {}
      },
      "outputs": [],
      "source": [
        "G_feature \u003d nx.from_numpy_matrix(A_feature_pruned)\n",
        "print(\u0027Number of nodes: {}, Number of edges: {}\u0027. format(G_feature.number_of_nodes(), G_feature.number_of_edges()))\n",
        "print(\u0027Number of self-loops: {}, Number of connected components: {}\u0027. format(G_feature.number_of_selfloops(), nx.number_connected_components(G_feature)))"
      ]
    },
    {
      "cell_type": "markdown",
      "metadata": {
        "pycharm": {}
      },
      "source": [
        "### Question 4: Simulation with Erdős–Rényi and Barabási–Albert models"
      ]
    },
    {
      "cell_type": "markdown",
      "metadata": {
        "pycharm": {}
      },
      "source": [
        "Create an Erdős–Rényi and a Barabási–Albert graph using NetworkX to simulate the citation graph and the feature graph you have. When choosing parameters for the networks, take into account the number of vertices and edges of the original networks."
      ]
    },
    {
      "cell_type": "markdown",
      "metadata": {
        "pycharm": {}
      },
      "source": [
        "The number of nodes should exactly match the number of nodes in the original citation and feature graphs."
      ]
    },
    {
      "cell_type": "code",
      "execution_count": null,
      "metadata": {
        "pycharm": {}
      },
      "outputs": [],
      "source": [
        "assert len(G_citation.nodes()) \u003d\u003d len(G_feature.nodes())\n",
        "n \u003d len(G_citation.nodes())\n",
        "n"
      ]
    },
    {
      "cell_type": "markdown",
      "metadata": {
        "pycharm": {}
      },
      "source": [
        "The number of match shall fit the average of the number of edges in the citation and the feature graph."
      ]
    },
    {
      "cell_type": "code",
      "execution_count": null,
      "metadata": {
        "pycharm": {}
      },
      "outputs": [],
      "source": [
        "m \u003d np.round((G_citation.size() + G_feature.size()) / 2)\n",
        "m"
      ]
    },
    {
      "cell_type": "markdown",
      "metadata": {
        "pycharm": {}
      },
      "source": [
        "How do you determine the probability parameter for the Erdős–Rényi graph?"
      ]
    },
    {
      "cell_type": "markdown",
      "metadata": {
        "pycharm": {}
      },
      "source": [
        "**Your answer here:**"
      ]
    },
    {
      "cell_type": "code",
      "execution_count": null,
      "metadata": {
        "pycharm": {}
      },
      "outputs": [],
      "source": [
        "p \u003d # Your code here.\n",
        "G_er \u003d nx.erdos_renyi_graph(n, p)"
      ]
    },
    {
      "cell_type": "markdown",
      "metadata": {
        "pycharm": {}
      },
      "source": [
        "Check the number of edges in the Erdős–Rényi graph."
      ]
    },
    {
      "cell_type": "code",
      "execution_count": null,
      "metadata": {
        "pycharm": {}
      },
      "outputs": [],
      "source": [
        "print(\u0027My Erdos-Rényi network that simulates the citation graph has {} edges.\u0027.format(G_er.size()))"
      ]
    },
    {
      "cell_type": "markdown",
      "metadata": {
        "pycharm": {}
      },
      "source": [
        "How do you determine the preferential attachment parameter for Barabási–Albert graphs?"
      ]
    },
    {
      "cell_type": "markdown",
      "metadata": {
        "pycharm": {}
      },
      "source": [
        "**Your answer here:**"
      ]
    },
    {
      "cell_type": "code",
      "execution_count": null,
      "metadata": {
        "pycharm": {}
      },
      "outputs": [],
      "source": [
        "q \u003d # Your code here.\n",
        "G_ba \u003d nx.barabasi_albert_graph(n, q)"
      ]
    },
    {
      "cell_type": "markdown",
      "metadata": {
        "pycharm": {}
      },
      "source": [
        "Check the number of edges in the Barabási–Albert graph."
      ]
    },
    {
      "cell_type": "code",
      "execution_count": null,
      "metadata": {
        "pycharm": {}
      },
      "outputs": [],
      "source": [
        "print(\u0027My Barabási-Albert network that simulates the citation graph has {} edges.\u0027.format(G_ba.size()))"
      ]
    },
    {
      "cell_type": "markdown",
      "metadata": {
        "pycharm": {}
      },
      "source": [
        "### Question 5: Giant Component"
      ]
    },
    {
      "cell_type": "markdown",
      "metadata": {
        "pycharm": {}
      },
      "source": [
        "Check the size of the largest connected component in the citation and feature graphs."
      ]
    },
    {
      "cell_type": "code",
      "execution_count": null,
      "metadata": {
        "pycharm": {}
      },
      "outputs": [],
      "source": [
        "giant_citation \u003d # Your code here.\n",
        "print(\u0027The giant component of the citation graph has {} nodes and {} edges.\u0027.format(giant_citation.number_of_nodes(), giant_citation.size()))"
      ]
    },
    {
      "cell_type": "code",
      "execution_count": null,
      "metadata": {
        "pycharm": {}
      },
      "outputs": [],
      "source": [
        "giant_feature \u003d # Your code here.\n",
        "print(\u0027The giant component of the feature graph has {} nodes and {} edges.\u0027.format(giant_feature.number_of_nodes(), giant_feature.size()))"
      ]
    },
    {
      "cell_type": "markdown",
      "metadata": {
        "pycharm": {}
      },
      "source": [
        "Check the size of the giant components in the generated Erdős–Rényi graph."
      ]
    },
    {
      "cell_type": "code",
      "execution_count": null,
      "metadata": {
        "pycharm": {}
      },
      "outputs": [],
      "source": [
        "giant_er \u003d # Your code here.\n",
        "print(\u0027The giant component of the Erdos-Rényi network has {} nodes and {} edges.\u0027.format(giant_er.number_of_nodes(), giant_er.size()))"
      ]
    },
    {
      "cell_type": "markdown",
      "metadata": {
        "pycharm": {}
      },
      "source": [
        "Let us match the number of nodes in the giant component of the feature graph by simulating a new Erdős–Rényi network.\n",
        "How do you choose the probability parameter this time? \n",
        "\n",
        "**Hint:** Recall the expected giant component size from the lectures."
      ]
    },
    {
      "cell_type": "markdown",
      "metadata": {
        "pycharm": {}
      },
      "source": [
        "**Your answer here:**"
      ]
    },
    {
      "cell_type": "code",
      "execution_count": null,
      "metadata": {
        "pycharm": {}
      },
      "outputs": [],
      "source": [
        "p_new \u003d # Your code here.\n",
        "G_er_new \u003d nx.erdos_renyi_graph(n, p_new)"
      ]
    },
    {
      "cell_type": "markdown",
      "metadata": {
        "pycharm": {}
      },
      "source": [
        "Check the size of the new Erdős–Rényi network and its giant component."
      ]
    },
    {
      "cell_type": "code",
      "execution_count": null,
      "metadata": {
        "pycharm": {}
      },
      "outputs": [],
      "source": [
        "print(\u0027My new Erdos Renyi network that simulates the citation graph has {} edges.\u0027.format(G_er_new.size()))\n",
        "giant_er_new \u003d # Your code here.\n",
        "print(\u0027The giant component of the new Erdos-Rényi network has {} nodes and {} edges.\u0027.format(giant_er_new.number_of_nodes(), giant_er_new.size()))"
      ]
    },
    {
      "cell_type": "markdown",
      "metadata": {
        "pycharm": {}
      },
      "source": [
        "### Question 6: Degree Distributions"
      ]
    },
    {
      "cell_type": "markdown",
      "metadata": {
        "pycharm": {}
      },
      "source": [
        "Recall the degree distribution of the citation and the feature graph."
      ]
    },
    {
      "cell_type": "code",
      "execution_count": null,
      "metadata": {
        "pycharm": {}
      },
      "outputs": [],
      "source": [
        "fig, axes \u003d plt.subplots(1, 2, figsize\u003d(15, 6))\n",
        "axes[0].set_title(\u0027Citation graph\u0027)\n",
        "citation_degrees \u003d # Your code here.\n",
        "axes[0].hist(citation_degrees);\n",
        "axes[1].set_title(\u0027Feature graph\u0027)\n",
        "feature_degrees \u003d # Your code here.\n",
        "axes[1].hist(feature_degrees);"
      ]
    },
    {
      "cell_type": "markdown",
      "metadata": {
        "pycharm": {}
      },
      "source": [
        "What does the degree distribution tell us about a network? Can you make a prediction on the network model type of the citation and the feature graph by looking at their degree distributions?"
      ]
    },
    {
      "cell_type": "markdown",
      "metadata": {
        "pycharm": {}
      },
      "source": [
        "**Your answer here:**"
      ]
    },
    {
      "cell_type": "markdown",
      "metadata": {
        "pycharm": {}
      },
      "source": [
        "Now, plot the degree distribution historgrams for the simulated networks."
      ]
    },
    {
      "cell_type": "code",
      "execution_count": null,
      "metadata": {
        "pycharm": {}
      },
      "outputs": [],
      "source": [
        "fig, axes \u003d plt.subplots(1, 3, figsize\u003d(20, 6))\n",
        "axes[0].set_title(\u0027Erdos-Rényi network\u0027)\n",
        "er_degrees \u003d # Your code here.\n",
        "axes[0].hist(er_degrees);\n",
        "axes[1].set_title(\u0027Barabási-Albert network\u0027)\n",
        "ba_degrees \u003d # Your code here.\n",
        "axes[1].hist(ba_degrees);\n",
        "axes[2].set_title(\u0027new Erdos-Rényi network\u0027)\n",
        "er_new_degrees \u003d # Your code here.\n",
        "axes[2].hist(er_new_degrees);"
      ]
    },
    {
      "cell_type": "markdown",
      "metadata": {
        "pycharm": {}
      },
      "source": [
        "In terms of the degree distribution, is there a good match between the citation and feature graphs and the simulated networks?\n",
        "For the citation graph, choose one of the simulated networks above that match its degree distribution best. Indicate your preference below."
      ]
    },
    {
      "cell_type": "markdown",
      "metadata": {
        "pycharm": {}
      },
      "source": [
        "**Your answer here:** "
      ]
    },
    {
      "cell_type": "markdown",
      "metadata": {
        "pycharm": {}
      },
      "source": [
        "You can also simulate a network using the configuration model to match its degree disctribution exactly. Refer to [Configuration model](https://networkx.github.io/documentation/stable/reference/generated/networkx.generators.degree_seq.configuration_model.html#networkx.generators.degree_seq.configuration_model).\n",
        "\n",
        "Let us create another network to match the degree distribution of the feature graph. "
      ]
    },
    {
      "cell_type": "code",
      "execution_count": null,
      "metadata": {
        "pycharm": {}
      },
      "outputs": [],
      "source": [
        "G_config \u003d nx.configuration_model(feature_degrees) \n",
        "print(\u0027Configuration model has {} nodes and {} edges.\u0027.format(G_config.number_of_nodes(), G_config.size()))"
      ]
    },
    {
      "cell_type": "markdown",
      "metadata": {
        "pycharm": {}
      },
      "source": [
        "Does it mean that we create the same graph with the feature graph by the configuration model? If not, how do you understand that they are not the same?"
      ]
    },
    {
      "cell_type": "markdown",
      "metadata": {
        "pycharm": {}
      },
      "source": [
        "**Your answer here:** "
      ]
    },
    {
      "cell_type": "markdown",
      "metadata": {
        "pycharm": {}
      },
      "source": [
        "### Question 7: Clustering Coefficient"
      ]
    },
    {
      "cell_type": "markdown",
      "metadata": {
        "pycharm": {}
      },
      "source": [
        "Let us check the average clustering coefficient of the original citation and feature graphs. "
      ]
    },
    {
      "cell_type": "code",
      "execution_count": null,
      "metadata": {
        "pycharm": {}
      },
      "outputs": [],
      "source": [
        "nx.average_clustering(G_citation)"
      ]
    },
    {
      "cell_type": "code",
      "execution_count": null,
      "metadata": {
        "pycharm": {}
      },
      "outputs": [],
      "source": [
        "nx.average_clustering(G_feature)"
      ]
    },
    {
      "cell_type": "markdown",
      "metadata": {
        "pycharm": {}
      },
      "source": [
        "What does the clustering coefficient tell us about a network? Comment on the values you obtain for the citation and feature graph."
      ]
    },
    {
      "cell_type": "markdown",
      "metadata": {
        "pycharm": {}
      },
      "source": [
        "**Your answer here:**"
      ]
    },
    {
      "cell_type": "markdown",
      "metadata": {
        "pycharm": {}
      },
      "source": [
        "Now, let us check the average clustering coefficient for the simulated networks."
      ]
    },
    {
      "cell_type": "code",
      "execution_count": null,
      "metadata": {
        "pycharm": {}
      },
      "outputs": [],
      "source": [
        "nx.average_clustering(G_er)"
      ]
    },
    {
      "cell_type": "code",
      "execution_count": null,
      "metadata": {
        "pycharm": {}
      },
      "outputs": [],
      "source": [
        "nx.average_clustering(G_ba)"
      ]
    },
    {
      "cell_type": "code",
      "execution_count": null,
      "metadata": {
        "pycharm": {}
      },
      "outputs": [],
      "source": [
        "nx.average_clustering(nx.Graph(G_config))"
      ]
    },
    {
      "cell_type": "markdown",
      "metadata": {
        "pycharm": {}
      },
      "source": [
        "Comment on the values you obtain for the simulated networks. Is there any good match to the citation or feature graph in terms of clustering coefficient?"
      ]
    },
    {
      "cell_type": "markdown",
      "metadata": {
        "pycharm": {}
      },
      "source": [
        "**Your answer here:**"
      ]
    },
    {
      "cell_type": "markdown",
      "metadata": {
        "pycharm": {}
      },
      "source": [
        "Check the other [network model generators](https://networkx.github.io/documentation/networkx-1.10/reference/generators.html) provided by NetworkX. Which one do you predict to have a better match to the citation graph or the feature graph in terms of degree distribution and clustering coefficient at the same time? Justify your answer."
      ]
    },
    {
      "cell_type": "markdown",
      "metadata": {
        "pycharm": {}
      },
      "source": [
        "**Your answer here:**"
      ]
    },
    {
      "cell_type": "markdown",
      "metadata": {
        "pycharm": {}
      },
      "source": [
        "If you find a better fit, create a graph object below for that network model. Print the number of edges and the average clustering coefficient. Plot the histogram of the degree distribution."
      ]
    },
    {
      "cell_type": "code",
      "execution_count": null,
      "metadata": {
        "pycharm": {}
      },
      "outputs": [],
      "source": [
        "# Your code here."
      ]
    },
    {
      "cell_type": "markdown",
      "metadata": {
        "pycharm": {}
      },
      "source": [
        "Comment on the similarities of your match."
      ]
    },
    {
      "cell_type": "markdown",
      "metadata": {
        "pycharm": {}
      },
      "source": [
        "**Your answer here:**"
      ]
    }
  ],
  "metadata": {
    "kernelspec": {
      "display_name": "Python 3",
      "language": "python",
      "name": "python3"
    },
    "language_info": {
      "codemirror_mode": {
        "name": "ipython",
        "version": 3
      },
      "file_extension": ".py",
      "mimetype": "text/x-python",
      "name": "python",
      "nbconvert_exporter": "python",
      "pygments_lexer": "ipython3",
      "version": "3.7.3"
    }
  },
  "nbformat": 4,
  "nbformat_minor": 4
}