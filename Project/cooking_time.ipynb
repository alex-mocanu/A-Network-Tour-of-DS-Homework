{
 "cells": [
  {
   "cell_type": "code",
   "execution_count": 84,
   "metadata": {},
   "outputs": [],
   "source": [
    "import numpy as np\n",
    "import pandas as pd \n",
    "import matplotlib.pyplot as plt\n",
    "import json \n",
    "import networkx as nx\n",
    "import operator\n",
    "import scipy\n",
    "\n",
    "from sklearn.cluster import KMeans"
   ]
  },
  {
   "cell_type": "markdown",
   "metadata": {},
   "source": [
    "<h3> Compute cooking time </h3>"
   ]
  },
  {
   "cell_type": "code",
   "execution_count": 2,
   "metadata": {},
   "outputs": [],
   "source": [
    "import json \n",
    "\n",
    "with open('/users/andrei/Downloads/recipes_with_nutritional_info_fixed_qty.json') as f : \n",
    "    recipes = json.load(f)\n",
    "    \n",
    "recipes_df = pd.read_json('/users/andrei/Downloads/recipes_with_nutritional_info_fixed_qty.json')"
   ]
  },
  {
   "cell_type": "markdown",
   "metadata": {},
   "source": [
    "We will try to compute the cooking time for each recipe from the information contained in the instructions column."
   ]
  },
  {
   "cell_type": "code",
   "execution_count": 3,
   "metadata": {},
   "outputs": [],
   "source": [
    "# Keep the useful information.\n",
    "recipes_df_time = recipes_df.copy()\n",
    "recipes_df_time = recipes_df_time[['id','title','instructions']]"
   ]
  },
  {
   "cell_type": "markdown",
   "metadata": {},
   "source": [
    "First of all, we compute the length of each instruction. This will be useful at the end of the computation."
   ]
  },
  {
   "cell_type": "code",
   "execution_count": 4,
   "metadata": {},
   "outputs": [],
   "source": [
    "recipes_df_time['length'] = recipes_df_time['instructions'].apply(lambda x : len(x))"
   ]
  },
  {
   "cell_type": "markdown",
   "metadata": {},
   "source": [
    "We split the instructions for each recipe in a list of words."
   ]
  },
  {
   "cell_type": "code",
   "execution_count": 5,
   "metadata": {},
   "outputs": [],
   "source": [
    "# Get the sentences and join them in a single string.\n",
    "recipes_df_time['instructions'] = recipes_df_time['instructions'].apply(lambda x : ' '.join([elt['text'] for elt in x]))\n",
    "\n",
    "# Get a list with every normalized words.\n",
    "recipes_df_time['instructions'] = recipes_df_time['instructions'].apply(lambda x : x.split(' '))\n",
    "recipes_df_time['instructions'] = recipes_df_time['instructions'].apply(lambda x : [elt.strip('! \\ / . ,; @ ~ ) ( +')\\\n",
    "                                                                                    .lower() for elt in x])"
   ]
  },
  {
   "cell_type": "markdown",
   "metadata": {},
   "source": [
    "Now that we have a the list with the different words, we want to look for words that quantify the time."
   ]
  },
  {
   "cell_type": "code",
   "execution_count": 6,
   "metadata": {},
   "outputs": [],
   "source": [
    "# Define a list of time words.\n",
    "time_words = ['second','seconds','sec','minute','minutes','min','hour','hours']\n",
    "\n",
    "# Keep in a new column a list of time words identified in the instructions.\n",
    "recipes_df_time['time'] = recipes_df_time['instructions'].apply(lambda x : [elt for elt in x if elt in time_words])"
   ]
  },
  {
   "cell_type": "markdown",
   "metadata": {},
   "source": [
    "The next step is to find the values associated to those words. First, we will search for the indices of these values in the instructions : we look for the index of each time word and take the index before (as the value associated is probably located before the time word)."
   ]
  },
  {
   "cell_type": "code",
   "execution_count": 7,
   "metadata": {},
   "outputs": [],
   "source": [
    "def return_indices_before(elt, li) :\n",
    "    \"\"\" Returns a list of indices of the values associated with the time words\"\"\"\n",
    "    return [i-1 for i,x in enumerate(li) if x == elt]\n",
    "\n",
    "# Store the indices of the associated values in a new column.\n",
    "recipes_df_time['indices'] = recipes_df_time['instructions'].apply(lambda x : [return_indices_before(elt,x) for elt in x \\\n",
    "                                                                               if elt in time_words])"
   ]
  },
  {
   "cell_type": "markdown",
   "metadata": {},
   "source": [
    "We now need a little bit of further processing in order to get the list of indices associated with the values (the list previously obtained contains other lists and duplicates)."
   ]
  },
  {
   "cell_type": "code",
   "execution_count": 8,
   "metadata": {},
   "outputs": [],
   "source": [
    "def explode_list(li) :  \n",
    "    \"\"\" Returns a sorted exploded list containing unique elements\"\"\"\n",
    "    li_ = []\n",
    "\n",
    "    for elt in li : \n",
    "        if len(elt) < 2 : \n",
    "            li_.append(elt[0])\n",
    "        else : \n",
    "            li_.extend(elt) \n",
    "            \n",
    "    return sorted(list(set(li_)))\n",
    "\n",
    "# Get the indices of the values in the right order.\n",
    "recipes_df_time['indices'] = recipes_df_time['indices'].apply(lambda x : explode_list(x))"
   ]
  },
  {
   "cell_type": "markdown",
   "metadata": {},
   "source": [
    "Finally, we store the values associated with the time words in a new column thanks to the indices."
   ]
  },
  {
   "cell_type": "code",
   "execution_count": 9,
   "metadata": {},
   "outputs": [],
   "source": [
    "recipes_df_time['times'] = recipes_df_time.apply(lambda row : [row.instructions[elt].strip() for elt in row.indices],\\\n",
    "                                                 axis=1)"
   ]
  },
  {
   "cell_type": "markdown",
   "metadata": {},
   "source": [
    "The values we get are not all numbers. We need to do some mapping in order to replace exceptions with actual values that can be interpreted. For this, we analyzed the different values of the `times` column in order to handle the exceptions."
   ]
  },
  {
   "cell_type": "code",
   "execution_count": 10,
   "metadata": {},
   "outputs": [],
   "source": [
    "# Map the different time words to their values in minutes.\n",
    "mapdict_time = {}\n",
    "mapdict_time.update(dict.fromkeys(['sec','second','seconds'],str((1/60))))\n",
    "mapdict_time.update(dict.fromkeys(['min','minute','minutes'],str(1)))\n",
    "mapdict_time.update(dict.fromkeys(['hour','hours'],str(60)))\n",
    "\n",
    "# Map different words to interpretable values.\n",
    "mapdict_words = {}\n",
    "mapdict_words.update(dict.fromkeys(['a','an','one','about1','another','additional','each','refrigerate1'\\\n",
    "                                   'another','other','final','0ne','extra'],str(1))) \n",
    "mapdict_words.update(dict.fromkeys(['few','of', 'several','more','couple','some'],str(5))) # Here, we arbitrarly map to 5.\n",
    "\n",
    "# Map different expressions containing quantities to values.\n",
    "mapdict_numbers = {'half' : str(0.5), '1/2' : str(0.5),'two' : str(2), 'three' : str(3), 'four' : str(4), 'five' : str(5),\\\n",
    "                   'about5' : str(5),'six' : str(6), 'seven' : str(7), 'eight' : str(8),'nine' : str(9), 'ten' : str(10),\\\n",
    "                   'twenty' : str(20), 'thirty' : str(30), 'forty' : str(40), 'fifty' : str(50), 'fifteen' : str(15),\\\n",
    "                  'triple' : str(3),'1/4' : str(0.25), 'twelve' : str(12), 'to2' : str(2),'rise45' : str(45),\\\n",
    "                  'dozen' : str(12),'refrigerate20' : str(20), 'refrigerate30' : str(30), 'refrigerate10' : str(10),\\\n",
    "                  'bake15' : str(15), 'additional5' : str(5),'boil.boil6' : str(6),'sixty' : str(60),'quarter' : str(0.25),\\\n",
    "                  '3/4' : str(0.75),'within3' : str(3)}"
   ]
  },
  {
   "cell_type": "markdown",
   "metadata": {},
   "source": [
    "We now replace these values by their mapping. "
   ]
  },
  {
   "cell_type": "code",
   "execution_count": 11,
   "metadata": {},
   "outputs": [],
   "source": [
    "recipes_df_time['times'] = recipes_df_time['times'].apply(lambda x : [elt.replace(elt,mapdict_words[elt])\\\n",
    "                                                                      if elt in mapdict_words else elt for elt in x])\n",
    "\n",
    "recipes_df_time['times'] = recipes_df_time['times'].apply(lambda x : [elt.replace(elt,mapdict_numbers[elt])\\\n",
    "                                                              if elt in mapdict_numbers else elt for elt in x])"
   ]
  },
  {
   "cell_type": "markdown",
   "metadata": {},
   "source": [
    "We still have to deal with some other exceptions. Some values are expressed as 10-20 or 15~20. We will split those strings in two and take the average of the two values. Also, we observed some anormal values such as 1520 or 3540. We assumed these values have to be processed as 15-20 or 35-40. "
   ]
  },
  {
   "cell_type": "code",
   "execution_count": 12,
   "metadata": {},
   "outputs": [],
   "source": [
    "# Transform the large numbers into interval separated with -. \n",
    "recipes_df_time['times'] = recipes_df_time['times'].apply(lambda x : [elt.replace(elt,'-'.join([elt[:2],elt[2:]]))\\\n",
    "                                                              if (len(elt) == 4 and '.' not in elt) else elt for elt in x])"
   ]
  },
  {
   "cell_type": "code",
   "execution_count": 13,
   "metadata": {},
   "outputs": [],
   "source": [
    "def deal_exceptions(li) :  \n",
    "    \"\"\"Deals with the values exceptions in a list\"\"\"\n",
    "    \n",
    "    li = [elt.replace(elt,mapdict_words[elt]) if elt in mapdict_words else elt for elt in li]\n",
    "    li = [elt.replace(elt,mapdict_numbers[elt]) if elt in mapdict_numbers else elt for elt in li]\n",
    "    \n",
    "    return li\n",
    "\n",
    "\n",
    "def mean_time(elt, sep) : \n",
    "    \"\"\"Returns the mean between the two values separated by sep\"\"\"\n",
    "    \n",
    "    li = elt.split(sep)\n",
    "    li = [word.strip(' ) ( ~ @ - = / \\ | , . ; +') for word in li]\n",
    "    li = deal_exceptions(li) # Deal with the exceptions. \n",
    "    \n",
    "    try : \n",
    "        avg = (float(li[0]) + float(li[-1]))/2\n",
    "        \n",
    "    except : # We exclude other words that do not have an interpretation as a value.\n",
    "        avg = 0 \n",
    "    \n",
    "    return str(round(avg,2))\n",
    "\n",
    "\n",
    "# Get the mean values.\n",
    "for sep in ['-','~','_','/','to'] : \n",
    "    recipes_df_time['times'] = recipes_df_time['times'].apply(lambda x : [elt.replace(elt,mean_time(elt,sep))\\\n",
    "                                                                          if sep in elt else elt for elt in x])"
   ]
  },
  {
   "cell_type": "code",
   "execution_count": 14,
   "metadata": {},
   "outputs": [],
   "source": [
    "# Map the time words with their values in minutes.\n",
    "recipes_df_time['time'] = recipes_df_time['time'].apply(lambda x : [elt.replace(elt,mapdict_time[elt]) for elt in x\\\n",
    "                                                            if elt in mapdict_time])"
   ]
  },
  {
   "cell_type": "markdown",
   "metadata": {},
   "source": [
    "We now multiply the values with the time in minutes in order to get an approximate cooking time. We also add the length of the instructions (number of sentences) to each result, in order to have a cooking time for the recipes that do not contain any time word. In order to deal with the meaningless expressions in the times column, we assign them the value 0 when computing the cooking time."
   ]
  },
  {
   "cell_type": "code",
   "execution_count": 15,
   "metadata": {},
   "outputs": [],
   "source": [
    "def to_float(str) : \n",
    "    try : \n",
    "        return float(str)\n",
    "    except : \n",
    "        return 0.0"
   ]
  },
  {
   "cell_type": "code",
   "execution_count": 16,
   "metadata": {},
   "outputs": [],
   "source": [
    "# Convert the values to floats.\n",
    "recipes_df_time['time'] = recipes_df_time['time'].apply(lambda x : [float(elt) for elt in x])\n",
    "recipes_df_time['times'] =  recipes_df_time['times'].apply(lambda x : [to_float(elt) for elt in x])\n",
    "\n",
    "recipes_df_time['cooking_time'] = recipes_df_time.apply(lambda row : int(sum(np.array(row.time)*np.array(row.times))\\\n",
    "                                                                         + row.length), axis =1)\n"
   ]
  },
  {
   "cell_type": "code",
   "execution_count": 17,
   "metadata": {},
   "outputs": [],
   "source": [
    "recipes_df_time.drop(columns = ['indices','time','times','length'], inplace=True)"
   ]
  },
  {
   "cell_type": "code",
   "execution_count": 18,
   "metadata": {},
   "outputs": [
    {
     "data": {
      "text/html": [
       "<div>\n",
       "<style scoped>\n",
       "    .dataframe tbody tr th:only-of-type {\n",
       "        vertical-align: middle;\n",
       "    }\n",
       "\n",
       "    .dataframe tbody tr th {\n",
       "        vertical-align: top;\n",
       "    }\n",
       "\n",
       "    .dataframe thead th {\n",
       "        text-align: right;\n",
       "    }\n",
       "</style>\n",
       "<table border=\"1\" class=\"dataframe\">\n",
       "  <thead>\n",
       "    <tr style=\"text-align: right;\">\n",
       "      <th></th>\n",
       "      <th>id</th>\n",
       "      <th>title</th>\n",
       "      <th>instructions</th>\n",
       "      <th>cooking_time</th>\n",
       "    </tr>\n",
       "  </thead>\n",
       "  <tbody>\n",
       "    <tr>\n",
       "      <td>0</td>\n",
       "      <td>000095fc1d</td>\n",
       "      <td>Yogurt Parfaits</td>\n",
       "      <td>[layer, all, ingredients, in, a, serving, dish]</td>\n",
       "      <td>1</td>\n",
       "    </tr>\n",
       "    <tr>\n",
       "      <td>1</td>\n",
       "      <td>00051d5b9d</td>\n",
       "      <td>Salt Free, Low Cholesterol Sugar Cookies Recipe</td>\n",
       "      <td>[cream, sugar, and, butter, together, till, sm...</td>\n",
       "      <td>20</td>\n",
       "    </tr>\n",
       "    <tr>\n",
       "      <td>2</td>\n",
       "      <td>00059b093b</td>\n",
       "      <td>Honey Sriracha Chicken Wings</td>\n",
       "      <td>[preheat, oven, to, 400, degrees, f, in, a, la...</td>\n",
       "      <td>66</td>\n",
       "    </tr>\n",
       "    <tr>\n",
       "      <td>3</td>\n",
       "      <td>0005fc89f7</td>\n",
       "      <td>Shrimp and Caper Salad</td>\n",
       "      <td>[in, a, large, bowl, toss, the, shrimp, green,...</td>\n",
       "      <td>62</td>\n",
       "    </tr>\n",
       "    <tr>\n",
       "      <td>4</td>\n",
       "      <td>0006ca31f4</td>\n",
       "      <td>Natural Peanut Butter Chocolate Bon Bons</td>\n",
       "      <td>[measure, out, the, cocoa, powder, into, a, mi...</td>\n",
       "      <td>126</td>\n",
       "    </tr>\n",
       "    <tr>\n",
       "      <td>5</td>\n",
       "      <td>00073a6b36</td>\n",
       "      <td>Easy Cheese Sauce</td>\n",
       "      <td>[put, milk, onion, salt, and, pepper, sauce, i...</td>\n",
       "      <td>3</td>\n",
       "    </tr>\n",
       "    <tr>\n",
       "      <td>6</td>\n",
       "      <td>0007c8edef</td>\n",
       "      <td>Easy Chocolate Frosting Recipe</td>\n",
       "      <td>[heat, chocolate, on, top, of, double, boiler,...</td>\n",
       "      <td>4</td>\n",
       "    </tr>\n",
       "    <tr>\n",
       "      <td>7</td>\n",
       "      <td>0007f5f800</td>\n",
       "      <td>Cornmeal Crackers with Pumpkin Seeds</td>\n",
       "      <td>[in, a, large, skillet, stir, the, cornmeal, o...</td>\n",
       "      <td>91</td>\n",
       "    </tr>\n",
       "    <tr>\n",
       "      <td>8</td>\n",
       "      <td>0008c6e39a</td>\n",
       "      <td>Chocolate-Orange Angel Food Cake</td>\n",
       "      <td>[move, oven, rack, to, lowest, position, heat,...</td>\n",
       "      <td>354</td>\n",
       "    </tr>\n",
       "    <tr>\n",
       "      <td>9</td>\n",
       "      <td>0009785a2e</td>\n",
       "      <td>Rice With Lemon, Capers &amp; Parsley</td>\n",
       "      <td>[add, rice, to, a, large, pan, of, boiling, wa...</td>\n",
       "      <td>27</td>\n",
       "    </tr>\n",
       "  </tbody>\n",
       "</table>\n",
       "</div>"
      ],
      "text/plain": [
       "           id                                            title  \\\n",
       "0  000095fc1d                                  Yogurt Parfaits   \n",
       "1  00051d5b9d  Salt Free, Low Cholesterol Sugar Cookies Recipe   \n",
       "2  00059b093b                     Honey Sriracha Chicken Wings   \n",
       "3  0005fc89f7                           Shrimp and Caper Salad   \n",
       "4  0006ca31f4         Natural Peanut Butter Chocolate Bon Bons   \n",
       "5  00073a6b36                                Easy Cheese Sauce   \n",
       "6  0007c8edef                   Easy Chocolate Frosting Recipe   \n",
       "7  0007f5f800             Cornmeal Crackers with Pumpkin Seeds   \n",
       "8  0008c6e39a                 Chocolate-Orange Angel Food Cake   \n",
       "9  0009785a2e                Rice With Lemon, Capers & Parsley   \n",
       "\n",
       "                                        instructions  cooking_time  \n",
       "0    [layer, all, ingredients, in, a, serving, dish]             1  \n",
       "1  [cream, sugar, and, butter, together, till, sm...            20  \n",
       "2  [preheat, oven, to, 400, degrees, f, in, a, la...            66  \n",
       "3  [in, a, large, bowl, toss, the, shrimp, green,...            62  \n",
       "4  [measure, out, the, cocoa, powder, into, a, mi...           126  \n",
       "5  [put, milk, onion, salt, and, pepper, sauce, i...             3  \n",
       "6  [heat, chocolate, on, top, of, double, boiler,...             4  \n",
       "7  [in, a, large, skillet, stir, the, cornmeal, o...            91  \n",
       "8  [move, oven, rack, to, lowest, position, heat,...           354  \n",
       "9  [add, rice, to, a, large, pan, of, boiling, wa...            27  "
      ]
     },
     "execution_count": 18,
     "metadata": {},
     "output_type": "execute_result"
    }
   ],
   "source": [
    "recipes_df_time.head(10)"
   ]
  },
  {
   "cell_type": "markdown",
   "metadata": {},
   "source": [
    "<h4> Graph with cooking time </h4>"
   ]
  },
  {
   "cell_type": "code",
   "execution_count": 77,
   "metadata": {},
   "outputs": [],
   "source": [
    "recipes_graph = recipes_df_time[['title','cooking_time']]"
   ]
  },
  {
   "cell_type": "code",
   "execution_count": 78,
   "metadata": {},
   "outputs": [],
   "source": [
    "def distance_matrix_np(pts):\n",
    "    \"\"\"Returns matrix of pairwise Euclidean distances\"\"\"\n",
    "    n = pts.shape[0]\n",
    "    distance = np.zeros((n,n))\n",
    "    for i in range(n):\n",
    "        distance[i,:] = np.square(pts - pts[i])\n",
    "    return distance"
   ]
  },
  {
   "cell_type": "markdown",
   "metadata": {},
   "source": [
    "First, most of the recipes have a cooking time of less than two hours, let's take a look at the distribution."
   ]
  },
  {
   "cell_type": "code",
   "execution_count": 79,
   "metadata": {},
   "outputs": [],
   "source": [
    "recipes_graph = recipes_graph[recipes_graph['cooking_time'] < 120]"
   ]
  },
  {
   "cell_type": "code",
   "execution_count": 80,
   "metadata": {},
   "outputs": [
    {
     "data": {
      "image/png": "[encoded data removed]",
      "text/plain": [
       "<Figure size 432x288 with 1 Axes>"
      ]
     },
     "metadata": {
      "needs_background": "light"
     },
     "output_type": "display_data"
    }
   ],
   "source": [
    "recipes_graph['cooking_time'].hist(bins=20, grid = False)\n",
    "plt.xlabel('Cooking time (in minutes)')\n",
    "plt.ylabel('Recipes counts')\n",
    "plt.savefig('time.png')"
   ]
  },
  {
   "cell_type": "markdown",
   "metadata": {},
   "source": [
    "Since the size of the graph is still too big, we will seperate the recipes into two classes."
   ]
  },
  {
   "cell_type": "code",
   "execution_count": 24,
   "metadata": {},
   "outputs": [],
   "source": [
    "recipes_graph_1 = recipes_graph[recipes_graph['cooking_time'] < 40]\n",
    "recipes_graph_2 = recipes_graph[recipes_graph['cooking_time'] > 39]"
   ]
  },
  {
   "cell_type": "markdown",
   "metadata": {},
   "source": [
    "For computation reasons, we will just have a look at the seconf graph."
   ]
  },
  {
   "cell_type": "code",
   "execution_count": 25,
   "metadata": {},
   "outputs": [],
   "source": [
    "#distance_1 = distance_matrix_np((recipes_graph_1['cooking_time']).to_numpy())\n",
    "distance_2 = distance_matrix_np((recipes_graph_2['cooking_time']).to_numpy())\n",
    "\n",
    "#mean_distance_1 = distance_1.mean()\n",
    "mean_distance_2 = distance_2.mean()"
   ]
  },
  {
   "cell_type": "code",
   "execution_count": 26,
   "metadata": {},
   "outputs": [],
   "source": [
    "#adjacency_1 = distance_1.copy()\n",
    "#indices_1 = distance_1 < mean_distance_1\n",
    "#adjacency_1[indices_1] = 0 \n",
    "#adjacency_1[~indices_1] = 1 \n",
    "\n",
    "adjacency_2 = distance_2.copy()\n",
    "indices_2 = distance_2 < mean_distance_2\n",
    "adjacency_2[indices_2] = 0 \n",
    "adjacency_2[~indices_2] = 1 "
   ]
  },
  {
   "cell_type": "code",
   "execution_count": 27,
   "metadata": {},
   "outputs": [],
   "source": [
    "#G_1 = nx.from_numpy_matrix(adjacency_1)\n",
    "G_2 = nx.from_numpy_matrix(adjacency_2)"
   ]
  },
  {
   "cell_type": "code",
   "execution_count": 28,
   "metadata": {},
   "outputs": [],
   "source": [
    "recipes_graph_2 = recipes_graph_2.reset_index()"
   ]
  },
  {
   "cell_type": "markdown",
   "metadata": {},
   "source": [
    "We will now analyse the degree centrality of the graph containting recipes with more than 40 minutes of preparation."
   ]
  },
  {
   "cell_type": "code",
   "execution_count": 29,
   "metadata": {},
   "outputs": [
    {
     "name": "stdout",
     "output_type": "stream",
     "text": [
      "Apricot And Honey Jam Recipe has centrality 0.877121123464014\n",
      "Pork (or Lamb) with Lentils has centrality 0.877121123464014\n",
      "Make Ahead Brown Sugar and Spice Cake Mix has centrality 0.877121123464014\n",
      "Blueberry Buckle (Vegan) has centrality 0.877121123464014\n",
      "Bleu Broccoli Casserole has centrality 0.877121123464014\n",
      "Salted Caramels has centrality 0.877121123464014\n",
      "Sweet Potato Drop Biscuits has centrality 0.877121123464014\n",
      "Better-than-Basic Wheat Bread has centrality 0.877121123464014\n",
      "White Chocolate and Peppermint Cookie Brittle has centrality 0.877121123464014\n",
      "Peach Jam has centrality 0.877121123464014\n"
     ]
    }
   ],
   "source": [
    "degree_centrality = nx.degree_centrality(G_2)\n",
    "recipes_centrality = sorted(degree_centrality.items(), key=operator.itemgetter(1), reverse=True)\n",
    "\n",
    "# Generate id to name mapping for recipes\n",
    "recipes_id_to_val = recipes_graph_2.to_dict()['title']\n",
    "\n",
    "for recipe in recipes_centrality[:10]:\n",
    "    print(f\"{recipes_id_to_val[recipe[0]]} has centrality {recipe[1]}\")    "
   ]
  },
  {
   "cell_type": "markdown",
   "metadata": {},
   "source": [
    "<h4> Cooking Time and healthy dishes </h4> "
   ]
  },
  {
   "cell_type": "markdown",
   "metadata": {},
   "source": [
    "We create a new column containing the fat values of each recipe."
   ]
  },
  {
   "cell_type": "code",
   "execution_count": 82,
   "metadata": {},
   "outputs": [],
   "source": [
    "recipes_df['fat'] = recipes_df.nutr_values_per100g.apply(lambda x : round(x['fat'],2))"
   ]
  },
  {
   "cell_type": "code",
   "execution_count": 133,
   "metadata": {},
   "outputs": [
    {
     "data": {
      "image/png": "[encoded data removed]",
      "text/plain": [
       "<Figure size 432x288 with 1 Axes>"
      ]
     },
     "metadata": {
      "needs_background": "light"
     },
     "output_type": "display_data"
    }
   ],
   "source": [
    "recipes_df['fat'].hist(bins=20, grid = False)\n",
    "plt.xlabel('Fat contained')\n",
    "plt.ylabel('Recipes counts')\n",
    "plt.savefig('fat.png')"
   ]
  },
  {
   "cell_type": "markdown",
   "metadata": {},
   "source": [
    "Clustering idea : we are interested in cooking time and fat values (considering we are interested in healthy recipes that we define by containing less fat)."
   ]
  },
  {
   "cell_type": "code",
   "execution_count": 139,
   "metadata": {},
   "outputs": [],
   "source": [
    "subdf = recipes_df_time.merge(recipes_df, on = 'id', copy=False)\n",
    "subdf = subdf[['title_x','cooking_time','fat']]\n",
    "subdf = subdf[subdf['cooking_time'] < 120] #Keep only under an hour."
   ]
  },
  {
   "cell_type": "code",
   "execution_count": 140,
   "metadata": {},
   "outputs": [],
   "source": [
    "X = np.zeros(shape=(len(subdf),2))\n",
    "X[:,0] = subdf.cooking_time.to_numpy()\n",
    "X[:,1] = subdf.fat.to_numpy()"
   ]
  },
  {
   "cell_type": "code",
   "execution_count": 141,
   "metadata": {},
   "outputs": [
    {
     "data": {
      "text/plain": [
       "Text(0, 0.5, 'Fat')"
      ]
     },
     "execution_count": 141,
     "metadata": {},
     "output_type": "execute_result"
    },
    {
     "data": {
      "image/png": "[encoded data removed]",
      "text/plain": [
       "<Figure size 432x288 with 1 Axes>"
      ]
     },
     "metadata": {
      "needs_background": "light"
     },
     "output_type": "display_data"
    }
   ],
   "source": [
    "plt.scatter(X[:,0],X[:,1]) #Coordinates are cooking time and fat.\n",
    "plt.xlabel('Cooking time')\n",
    "plt.ylabel('Fat')"
   ]
  },
  {
   "cell_type": "code",
   "execution_count": 149,
   "metadata": {},
   "outputs": [
    {
     "data": {
      "image/png": "[encoded data removed]",
      "text/plain": [
       "<Figure size 432x288 with 1 Axes>"
      ]
     },
     "metadata": {
      "needs_background": "light"
     },
     "output_type": "display_data"
    }
   ],
   "source": [
    "kmeans = KMeans(n_clusters=5).fit(X)\n",
    "y_pred = kmeans.labels_\n",
    "centers = kmeans.cluster_centers_\n",
    "plt.scatter(X[:, 0], X[:, 1], c=y_pred)\n",
    "plt.xlabel('Cooking time (in minutes)')\n",
    "plt.ylabel('Fat contained')\n",
    "plt.savefig('clustering.png')\n",
    "plt.show()"
   ]
  },
  {
   "cell_type": "code",
   "execution_count": 147,
   "metadata": {},
   "outputs": [
    {
     "data": {
      "text/html": [
       "<div>\n",
       "<style scoped>\n",
       "    .dataframe tbody tr th:only-of-type {\n",
       "        vertical-align: middle;\n",
       "    }\n",
       "\n",
       "    .dataframe tbody tr th {\n",
       "        vertical-align: top;\n",
       "    }\n",
       "\n",
       "    .dataframe thead th {\n",
       "        text-align: right;\n",
       "    }\n",
       "</style>\n",
       "<table border=\"1\" class=\"dataframe\">\n",
       "  <thead>\n",
       "    <tr style=\"text-align: right;\">\n",
       "      <th></th>\n",
       "      <th>title_x</th>\n",
       "      <th>cooking_time</th>\n",
       "      <th>fat</th>\n",
       "    </tr>\n",
       "  </thead>\n",
       "  <tbody>\n",
       "    <tr>\n",
       "      <td>0</td>\n",
       "      <td>Yogurt Parfaits</td>\n",
       "      <td>1</td>\n",
       "      <td>2.14</td>\n",
       "    </tr>\n",
       "    <tr>\n",
       "      <td>6</td>\n",
       "      <td>Easy Chocolate Frosting Recipe</td>\n",
       "      <td>4</td>\n",
       "      <td>4.34</td>\n",
       "    </tr>\n",
       "    <tr>\n",
       "      <td>11</td>\n",
       "      <td>Creamed Broccoli And Cauliflower Soup Recipe</td>\n",
       "      <td>6</td>\n",
       "      <td>2.38</td>\n",
       "    </tr>\n",
       "    <tr>\n",
       "      <td>12</td>\n",
       "      <td>Fudgy Chocolate Cherry Float</td>\n",
       "      <td>20</td>\n",
       "      <td>2.21</td>\n",
       "    </tr>\n",
       "    <tr>\n",
       "      <td>17</td>\n",
       "      <td>Cornmeal Mush</td>\n",
       "      <td>9</td>\n",
       "      <td>0.33</td>\n",
       "    </tr>\n",
       "    <tr>\n",
       "      <td>19</td>\n",
       "      <td>Mango Lassi</td>\n",
       "      <td>2</td>\n",
       "      <td>0.16</td>\n",
       "    </tr>\n",
       "    <tr>\n",
       "      <td>26</td>\n",
       "      <td>Creamy Country Dijon Sauce</td>\n",
       "      <td>1</td>\n",
       "      <td>10.48</td>\n",
       "    </tr>\n",
       "    <tr>\n",
       "      <td>31</td>\n",
       "      <td>Cherry Tomato Corn Salad</td>\n",
       "      <td>4</td>\n",
       "      <td>4.83</td>\n",
       "    </tr>\n",
       "    <tr>\n",
       "      <td>36</td>\n",
       "      <td>Magic Bullet Chicken and Rice Baby Food</td>\n",
       "      <td>4</td>\n",
       "      <td>1.37</td>\n",
       "    </tr>\n",
       "    <tr>\n",
       "      <td>38</td>\n",
       "      <td>Frozen Banana Smoothie</td>\n",
       "      <td>6</td>\n",
       "      <td>0.28</td>\n",
       "    </tr>\n",
       "    <tr>\n",
       "      <td>41</td>\n",
       "      <td>Pineapple Ginger Smoothie</td>\n",
       "      <td>2</td>\n",
       "      <td>0.52</td>\n",
       "    </tr>\n",
       "    <tr>\n",
       "      <td>47</td>\n",
       "      <td>Hearty Cheese (And Turkey) Soup</td>\n",
       "      <td>19</td>\n",
       "      <td>6.49</td>\n",
       "    </tr>\n",
       "    <tr>\n",
       "      <td>49</td>\n",
       "      <td>Lemon Charge</td>\n",
       "      <td>3</td>\n",
       "      <td>0.62</td>\n",
       "    </tr>\n",
       "    <tr>\n",
       "      <td>54</td>\n",
       "      <td>Chocolate Krispy Bars Recipe</td>\n",
       "      <td>6</td>\n",
       "      <td>13.70</td>\n",
       "    </tr>\n",
       "    <tr>\n",
       "      <td>57</td>\n",
       "      <td>Low Fat Peanut Butter Chocolate Crunch Bars</td>\n",
       "      <td>7</td>\n",
       "      <td>4.00</td>\n",
       "    </tr>\n",
       "    <tr>\n",
       "      <td>61</td>\n",
       "      <td>Amaretto Cranberry Juice Recipe</td>\n",
       "      <td>1</td>\n",
       "      <td>0.13</td>\n",
       "    </tr>\n",
       "    <tr>\n",
       "      <td>63</td>\n",
       "      <td>Mango Cheese</td>\n",
       "      <td>7</td>\n",
       "      <td>0.04</td>\n",
       "    </tr>\n",
       "    <tr>\n",
       "      <td>64</td>\n",
       "      <td>Chicken Noodle Salad</td>\n",
       "      <td>4</td>\n",
       "      <td>6.58</td>\n",
       "    </tr>\n",
       "    <tr>\n",
       "      <td>67</td>\n",
       "      <td>Broccoli Cheese Soup</td>\n",
       "      <td>8</td>\n",
       "      <td>12.49</td>\n",
       "    </tr>\n",
       "    <tr>\n",
       "      <td>68</td>\n",
       "      <td>Easy Pizza Dough for Bread Machine</td>\n",
       "      <td>9</td>\n",
       "      <td>2.32</td>\n",
       "    </tr>\n",
       "    <tr>\n",
       "      <td>70</td>\n",
       "      <td>Spicy Pepitas</td>\n",
       "      <td>9</td>\n",
       "      <td>0.59</td>\n",
       "    </tr>\n",
       "    <tr>\n",
       "      <td>71</td>\n",
       "      <td>Low Carb Seafood Cocktail Sauce</td>\n",
       "      <td>1</td>\n",
       "      <td>0.32</td>\n",
       "    </tr>\n",
       "    <tr>\n",
       "      <td>72</td>\n",
       "      <td>Strawberry-Infused Vodka</td>\n",
       "      <td>3</td>\n",
       "      <td>0.15</td>\n",
       "    </tr>\n",
       "    <tr>\n",
       "      <td>76</td>\n",
       "      <td>My Easy Chicken Ala King</td>\n",
       "      <td>13</td>\n",
       "      <td>3.23</td>\n",
       "    </tr>\n",
       "    <tr>\n",
       "      <td>81</td>\n",
       "      <td>Rib Dry Rub</td>\n",
       "      <td>3</td>\n",
       "      <td>4.35</td>\n",
       "    </tr>\n",
       "    <tr>\n",
       "      <td>82</td>\n",
       "      <td>Chinese Pot Roast Recipe</td>\n",
       "      <td>11</td>\n",
       "      <td>11.02</td>\n",
       "    </tr>\n",
       "    <tr>\n",
       "      <td>83</td>\n",
       "      <td>Orange Grove</td>\n",
       "      <td>4</td>\n",
       "      <td>1.14</td>\n",
       "    </tr>\n",
       "    <tr>\n",
       "      <td>90</td>\n",
       "      <td>Chocolate Chip Ice Cream</td>\n",
       "      <td>5</td>\n",
       "      <td>10.27</td>\n",
       "    </tr>\n",
       "    <tr>\n",
       "      <td>92</td>\n",
       "      <td>Yin-Yang Soup</td>\n",
       "      <td>16</td>\n",
       "      <td>0.74</td>\n",
       "    </tr>\n",
       "    <tr>\n",
       "      <td>93</td>\n",
       "      <td>Low Fat Spicy Crab Dip</td>\n",
       "      <td>4</td>\n",
       "      <td>11.31</td>\n",
       "    </tr>\n",
       "    <tr>\n",
       "      <td>95</td>\n",
       "      <td>Godiva Chocolate Berry Diva</td>\n",
       "      <td>2</td>\n",
       "      <td>0.27</td>\n",
       "    </tr>\n",
       "    <tr>\n",
       "      <td>99</td>\n",
       "      <td>Five-Spice Tofu Stir-Fry with Carrots and Celery</td>\n",
       "      <td>13</td>\n",
       "      <td>14.44</td>\n",
       "    </tr>\n",
       "    <tr>\n",
       "      <td>106</td>\n",
       "      <td>Mediterranean Spice Mix</td>\n",
       "      <td>15</td>\n",
       "      <td>5.72</td>\n",
       "    </tr>\n",
       "    <tr>\n",
       "      <td>108</td>\n",
       "      <td>Luscious Luau</td>\n",
       "      <td>2</td>\n",
       "      <td>15.45</td>\n",
       "    </tr>\n",
       "    <tr>\n",
       "      <td>109</td>\n",
       "      <td>Quatre Epices (Four Spices) Gascon</td>\n",
       "      <td>1</td>\n",
       "      <td>16.28</td>\n",
       "    </tr>\n",
       "    <tr>\n",
       "      <td>110</td>\n",
       "      <td>Red Robin Chillin' Mango Smoothie</td>\n",
       "      <td>1</td>\n",
       "      <td>0.02</td>\n",
       "    </tr>\n",
       "    <tr>\n",
       "      <td>111</td>\n",
       "      <td>West African Chicken-Peanut Soup</td>\n",
       "      <td>16</td>\n",
       "      <td>8.70</td>\n",
       "    </tr>\n",
       "    <tr>\n",
       "      <td>113</td>\n",
       "      <td>Fresh Corn Tortillas</td>\n",
       "      <td>20</td>\n",
       "      <td>0.60</td>\n",
       "    </tr>\n",
       "    <tr>\n",
       "      <td>118</td>\n",
       "      <td>Gooey Peanut Butter Chew</td>\n",
       "      <td>10</td>\n",
       "      <td>1.94</td>\n",
       "    </tr>\n",
       "    <tr>\n",
       "      <td>122</td>\n",
       "      <td>Honey Oatmeal Bread (Abm)</td>\n",
       "      <td>3</td>\n",
       "      <td>3.76</td>\n",
       "    </tr>\n",
       "    <tr>\n",
       "      <td>123</td>\n",
       "      <td>Banana Smoothie</td>\n",
       "      <td>2</td>\n",
       "      <td>0.42</td>\n",
       "    </tr>\n",
       "    <tr>\n",
       "      <td>124</td>\n",
       "      <td>Jorgydee's Burgers</td>\n",
       "      <td>5</td>\n",
       "      <td>7.24</td>\n",
       "    </tr>\n",
       "    <tr>\n",
       "      <td>125</td>\n",
       "      <td>Bacon Crunch Bars</td>\n",
       "      <td>13</td>\n",
       "      <td>11.65</td>\n",
       "    </tr>\n",
       "    <tr>\n",
       "      <td>129</td>\n",
       "      <td>Easy Bake Oven Angel Cookies</td>\n",
       "      <td>10</td>\n",
       "      <td>2.37</td>\n",
       "    </tr>\n",
       "    <tr>\n",
       "      <td>132</td>\n",
       "      <td>Homemade Brown Sugar</td>\n",
       "      <td>6</td>\n",
       "      <td>0.01</td>\n",
       "    </tr>\n",
       "    <tr>\n",
       "      <td>134</td>\n",
       "      <td>Potato English Muffins</td>\n",
       "      <td>12</td>\n",
       "      <td>7.41</td>\n",
       "    </tr>\n",
       "    <tr>\n",
       "      <td>138</td>\n",
       "      <td>Vineyard Fizz (non-alcoholic)</td>\n",
       "      <td>5</td>\n",
       "      <td>0.03</td>\n",
       "    </tr>\n",
       "    <tr>\n",
       "      <td>140</td>\n",
       "      <td>Tequila Sunrise</td>\n",
       "      <td>5</td>\n",
       "      <td>0.03</td>\n",
       "    </tr>\n",
       "    <tr>\n",
       "      <td>141</td>\n",
       "      <td>Cheesy Potato Loaf (Bread Machine)</td>\n",
       "      <td>5</td>\n",
       "      <td>4.16</td>\n",
       "    </tr>\n",
       "    <tr>\n",
       "      <td>148</td>\n",
       "      <td>Cajun Butter Sauce</td>\n",
       "      <td>8</td>\n",
       "      <td>14.58</td>\n",
       "    </tr>\n",
       "  </tbody>\n",
       "</table>\n",
       "</div>"
      ],
      "text/plain": [
       "                                              title_x  cooking_time    fat\n",
       "0                                     Yogurt Parfaits             1   2.14\n",
       "6                      Easy Chocolate Frosting Recipe             4   4.34\n",
       "11       Creamed Broccoli And Cauliflower Soup Recipe             6   2.38\n",
       "12                       Fudgy Chocolate Cherry Float            20   2.21\n",
       "17                                      Cornmeal Mush             9   0.33\n",
       "19                                        Mango Lassi             2   0.16\n",
       "26                         Creamy Country Dijon Sauce             1  10.48\n",
       "31                           Cherry Tomato Corn Salad             4   4.83\n",
       "36            Magic Bullet Chicken and Rice Baby Food             4   1.37\n",
       "38                             Frozen Banana Smoothie             6   0.28\n",
       "41                          Pineapple Ginger Smoothie             2   0.52\n",
       "47                    Hearty Cheese (And Turkey) Soup            19   6.49\n",
       "49                                       Lemon Charge             3   0.62\n",
       "54                       Chocolate Krispy Bars Recipe             6  13.70\n",
       "57        Low Fat Peanut Butter Chocolate Crunch Bars             7   4.00\n",
       "61                    Amaretto Cranberry Juice Recipe             1   0.13\n",
       "63                                       Mango Cheese             7   0.04\n",
       "64                               Chicken Noodle Salad             4   6.58\n",
       "67                               Broccoli Cheese Soup             8  12.49\n",
       "68                 Easy Pizza Dough for Bread Machine             9   2.32\n",
       "70                                      Spicy Pepitas             9   0.59\n",
       "71                    Low Carb Seafood Cocktail Sauce             1   0.32\n",
       "72                           Strawberry-Infused Vodka             3   0.15\n",
       "76                           My Easy Chicken Ala King            13   3.23\n",
       "81                                        Rib Dry Rub             3   4.35\n",
       "82                           Chinese Pot Roast Recipe            11  11.02\n",
       "83                                       Orange Grove             4   1.14\n",
       "90                           Chocolate Chip Ice Cream             5  10.27\n",
       "92                                      Yin-Yang Soup            16   0.74\n",
       "93                             Low Fat Spicy Crab Dip             4  11.31\n",
       "95                        Godiva Chocolate Berry Diva             2   0.27\n",
       "99   Five-Spice Tofu Stir-Fry with Carrots and Celery            13  14.44\n",
       "106                           Mediterranean Spice Mix            15   5.72\n",
       "108                                     Luscious Luau             2  15.45\n",
       "109                Quatre Epices (Four Spices) Gascon             1  16.28\n",
       "110                 Red Robin Chillin' Mango Smoothie             1   0.02\n",
       "111                  West African Chicken-Peanut Soup            16   8.70\n",
       "113                              Fresh Corn Tortillas            20   0.60\n",
       "118                          Gooey Peanut Butter Chew            10   1.94\n",
       "122                         Honey Oatmeal Bread (Abm)             3   3.76\n",
       "123                                   Banana Smoothie             2   0.42\n",
       "124                                Jorgydee's Burgers             5   7.24\n",
       "125                                 Bacon Crunch Bars            13  11.65\n",
       "129                      Easy Bake Oven Angel Cookies            10   2.37\n",
       "132                              Homemade Brown Sugar             6   0.01\n",
       "134                            Potato English Muffins            12   7.41\n",
       "138                     Vineyard Fizz (non-alcoholic)             5   0.03\n",
       "140                                   Tequila Sunrise             5   0.03\n",
       "141                Cheesy Potato Loaf (Bread Machine)             5   4.16\n",
       "148                                Cajun Butter Sauce             8  14.58"
      ]
     },
     "execution_count": 147,
     "metadata": {},
     "output_type": "execute_result"
    }
   ],
   "source": [
    "indices = (y_pred == 2) #Low cooking time, low fat (healthy)\n",
    "subdf[indices][:50] #Vizualize some of the dishes."
   ]
  },
  {
   "cell_type": "markdown",
   "metadata": {},
   "source": [
    "<h4> Signal processing </h4>"
   ]
  },
  {
   "cell_type": "code",
   "execution_count": 32,
   "metadata": {},
   "outputs": [],
   "source": [
    "recipes_graph_raw = scipy.sparse.load_npz('recipe_graph.npz')\n",
    "recipes_graph_raw = recipes_graph_raw + recipes_graph_raw.transpose()\n",
    "recipes_graph = nx.from_scipy_sparse_matrix(recipes_graph_raw)"
   ]
  },
  {
   "cell_type": "markdown",
   "metadata": {},
   "source": [
    "Signal processing tools : "
   ]
  },
  {
   "cell_type": "code",
   "execution_count": 24,
   "metadata": {},
   "outputs": [],
   "source": [
    "def compute_laplacian(adjacency: np.ndarray, normalize: bool):\n",
    "    \"\"\" Return:\n",
    "        L (n x n ndarray): combinatorial or symmetric normalized Laplacian.\n",
    "    \"\"\"\n",
    "    if normalize:\n",
    "        d = np.diag(1 / np.sqrt(adjacency.sum(axis=0)))\n",
    "        laplacian = np.identity(adjacency.shape[0]) - d @ adjacency @ d\n",
    "        return laplacian\n",
    "    else:\n",
    "        degrees = np.diag(adjacency.sum(axis=0))\n",
    "        laplacian = degrees - adjacency\n",
    "        return laplacian"
   ]
  },
  {
   "cell_type": "code",
   "execution_count": 25,
   "metadata": {},
   "outputs": [],
   "source": [
    "def spectral_decomposition(laplacian: np.ndarray):\n",
    "    \"\"\" Return:\n",
    "        lamb (np.array): eigenvalues of the Laplacian\n",
    "        U (np.ndarray): corresponding eigenvectors.\n",
    "    \"\"\"\n",
    "    return np.linalg.eigh(laplacian)"
   ]
  },
  {
   "cell_type": "code",
   "execution_count": 26,
   "metadata": {},
   "outputs": [],
   "source": [
    "def GFT(signal: np.ndarray):\n",
    "    return np.dot(np.transpose(U), signal)\n",
    "\n",
    "def iGFT(fourier_coefficients: np.ndarray):\n",
    "    return np.dot(U,fourier_coefficients)"
   ]
  },
  {
   "cell_type": "code",
   "execution_count": 27,
   "metadata": {},
   "outputs": [],
   "source": [
    "def ideal_graph_filter(x: np.ndarray, spectral_response: np.ndarray):\n",
    "    \"\"\"Return a filtered signal.\"\"\"\n",
    "    \n",
    "    x_fourrier = GFT(x)\n",
    "    response = spectral_response * x_fourrier\n",
    "    \n",
    "    return iGFT(response)"
   ]
  },
  {
   "cell_type": "code",
   "execution_count": 28,
   "metadata": {},
   "outputs": [],
   "source": [
    "def arma_tikhonov(x: np.ndarray, laplacian: np.ndarray, alpha: float, max_iter=50):\n",
    "    \n",
    "    # Convergence condition. \n",
    "    if (alpha * np.max(lam)) >= 1 : \n",
    "        print(\"Convergece criterion not satisfied\") \n",
    "    \n",
    "    # Initialize the parameters. \n",
    "    iter_ = 0\n",
    "    y = x \n",
    "    \n",
    "    # Applying the algorithm. \n",
    "    while iter_ < max_iter : \n",
    "        y = -alpha * np.dot(laplacian,y) + x\n",
    "        iter_ += 1\n",
    "        \n",
    "    return y"
   ]
  },
  {
   "cell_type": "markdown",
   "metadata": {},
   "source": [
    "Since we used a sparse matrix in order to store the adjancency matrix, we need to use scipy tools in order to compute the laplacian and the spectral decomposition. For obvious computation reasons, we only compute 50 eigenvalues and vectors."
   ]
  },
  {
   "cell_type": "code",
   "execution_count": 84,
   "metadata": {},
   "outputs": [],
   "source": [
    "# Compute only the first 50 eigenvectors and eigenvalues.\n",
    "laplacian = scipy.sparse.csgraph.laplacian(recipes_adj, normed=True)\n",
    "lam, U = scipy.sparse.linalg.eigsh(laplacian, k = 50)"
   ]
  },
  {
   "cell_type": "code",
   "execution_count": 85,
   "metadata": {},
   "outputs": [],
   "source": [
    "# Our features are the cooking time and the fat contained in the recipes.\n",
    "recipes_df['fat'] = recipes_df.nutr_values_per100g.apply(lambda x : round(x['fat'],2))\n",
    "\n",
    "df_signal = recipes_df_time.merge(recipes_df, on = 'id', copy=False)\n",
    "X = np.zeros(shape=(len(df_signal),2))\n",
    "X[:,0] = df_signal.cooking_time.to_numpy()\n",
    "X[:,1] = df_signal.fat.to_numpy()"
   ]
  },
  {
   "cell_type": "code",
   "execution_count": 86,
   "metadata": {},
   "outputs": [
    {
     "data": {
      "image/png": "[encoded data removed]",
      "text/plain": [
       "<Figure size 432x360 with 1 Axes>"
      ]
     },
     "metadata": {
      "needs_background": "light"
     },
     "output_type": "display_data"
    }
   ],
   "source": [
    "plt.figure(figsize=(6, 5))\n",
    "plt.plot(lam)\n",
    "plt.title('Eigenvalues $L_{norm}$')\n",
    "plt.show()"
   ]
  },
  {
   "cell_type": "code",
   "execution_count": 87,
   "metadata": {},
   "outputs": [],
   "source": [
    "# Low-pass filter.\n",
    "ideal_lp = np.ones((50,))\n",
    "ideal_lp[lam >= 1.25] = 0\n",
    "\n",
    "X_lp = ideal_graph_filter(X[:,0],ideal_lp)"
   ]
  },
  {
   "cell_type": "code",
   "execution_count": 88,
   "metadata": {},
   "outputs": [],
   "source": [
    "X_lp = ideal_graph_filter(X[:,0],ideal_lp)"
   ]
  },
  {
   "cell_type": "code",
   "execution_count": 97,
   "metadata": {},
   "outputs": [
    {
     "data": {
      "image/png": "[encoded data removed]",
      "text/plain": [
       "<Figure size 432x288 with 1 Axes>"
      ]
     },
     "metadata": {
      "needs_background": "light"
     },
     "output_type": "display_data"
    }
   ],
   "source": [
    "# Low-pass filter.\n",
    "ideal_lp = np.ones((50,))\n",
    "ideal_lp[lam >= 1.25] = 0\n",
    "\n",
    "X_lp = ideal_graph_filter(X[:,0],ideal_lp)\n",
    "\n",
    "# Compute only the 100 first recipes.\n",
    "plt.plot(X_lp[:100])\n",
    "plt.show()"
   ]
  },
  {
   "cell_type": "code",
   "execution_count": 99,
   "metadata": {},
   "outputs": [
    {
     "data": {
      "image/png": "[encoded data removed]",
      "text/plain": [
       "<Figure size 432x288 with 1 Axes>"
      ]
     },
     "metadata": {
      "needs_background": "light"
     },
     "output_type": "display_data"
    }
   ],
   "source": [
    "# Compute the original data.\n",
    "plt.plot(X[:100,0])\n",
    "plt.show()"
   ]
  }
 ],
 "metadata": {
  "kernelspec": {
   "display_name": "Python 3",
   "language": "python",
   "name": "python3"
  },
  "language_info": {
   "codemirror_mode": {
    "name": "ipython",
    "version": 3
   },
   "file_extension": ".py",
   "mimetype": "text/x-python",
   "name": "python",
   "nbconvert_exporter": "python",
   "pygments_lexer": "ipython3",
   "version": "3.7.3"
  }
 },
 "nbformat": 4,
 "nbformat_minor": 4
}
