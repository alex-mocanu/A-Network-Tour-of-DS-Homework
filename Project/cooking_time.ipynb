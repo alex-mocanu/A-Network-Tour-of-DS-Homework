{
 "cells": [
  {
   "cell_type": "code",
   "execution_count": 1,
   "metadata": {},
   "outputs": [],
   "source": [
    "import numpy as np\n",
    "import pandas as pd \n",
    "import matplotlib.pyplot as plt\n",
    "import json \n",
    "import networkx as nx\n",
    "import operator"
   ]
  },
  {
   "cell_type": "markdown",
   "metadata": {},
   "source": [
    "<h3> Compute cooking time </h3>"
   ]
  },
  {
   "cell_type": "code",
   "execution_count": 2,
   "metadata": {},
   "outputs": [],
   "source": [
    "import json \n",
    "\n",
    "with open('/users/andrei/Downloads/recipes_with_nutritional_info_fixed_qty.json') as f : \n",
    "    recipes = json.load(f)\n",
    "    \n",
    "recipes_df = pd.read_json('/users/andrei/Downloads/recipes_with_nutritional_info_fixed_qty.json')"
   ]
  },
  {
   "cell_type": "markdown",
   "metadata": {},
   "source": [
    "We will try to compute the cooking time for each recipe from the information contained in the instructions column."
   ]
  },
  {
   "cell_type": "code",
   "execution_count": 3,
   "metadata": {},
   "outputs": [],
   "source": [
    "# Keep the useful information.\n",
    "recipes_df_time = recipes_df.copy()\n",
    "recipes_df_time = recipes_df_time[['id','title','instructions']]"
   ]
  },
  {
   "cell_type": "markdown",
   "metadata": {},
   "source": [
    "First of all, we compute the length of each instruction. This will be useful at the end of the computation."
   ]
  },
  {
   "cell_type": "code",
   "execution_count": 4,
   "metadata": {},
   "outputs": [],
   "source": [
    "recipes_df_time['length'] = recipes_df_time['instructions'].apply(lambda x : len(x))"
   ]
  },
  {
   "cell_type": "markdown",
   "metadata": {},
   "source": [
    "We split the instructions for each recipe in a list of words."
   ]
  },
  {
   "cell_type": "code",
   "execution_count": 5,
   "metadata": {},
   "outputs": [],
   "source": [
    "# Get the sentences and join them in a single string.\n",
    "recipes_df_time['instructions'] = recipes_df_time['instructions'].apply(lambda x : ' '.join([elt['text'] for elt in x]))\n",
    "\n",
    "# Get a list with every normalized words.\n",
    "recipes_df_time['instructions'] = recipes_df_time['instructions'].apply(lambda x : x.split(' '))\n",
    "recipes_df_time['instructions'] = recipes_df_time['instructions'].apply(lambda x : [elt.strip('! \\ / . ,; @ ~ ) ( +')\\\n",
    "                                                                                    .lower() for elt in x])"
   ]
  },
  {
   "cell_type": "markdown",
   "metadata": {},
   "source": [
    "Now that we have a the list with the different words, we want to look for words that quantify the time."
   ]
  },
  {
   "cell_type": "code",
   "execution_count": 6,
   "metadata": {},
   "outputs": [],
   "source": [
    "# Define a list of time words.\n",
    "time_words = ['second','seconds','sec','minute','minutes','min','hour','hours']\n",
    "\n",
    "# Keep in a new column a list of time words identified in the instructions.\n",
    "recipes_df_time['time'] = recipes_df_time['instructions'].apply(lambda x : [elt for elt in x if elt in time_words])"
   ]
  },
  {
   "cell_type": "markdown",
   "metadata": {},
   "source": [
    "The next step is to find the values associated to those words. First, we will search for the indices of these values in the instructions : we look for the index of each time word and take the index before (as the value associated is probably located before the time word)."
   ]
  },
  {
   "cell_type": "code",
   "execution_count": 7,
   "metadata": {},
   "outputs": [],
   "source": [
    "def return_indices_before(elt, li) :\n",
    "    \"\"\" Returns a list of indices of the values associated with the time words\"\"\"\n",
    "    return [i-1 for i,x in enumerate(li) if x == elt]\n",
    "\n",
    "# Store the indices of the associated values in a new column.\n",
    "recipes_df_time['indices'] = recipes_df_time['instructions'].apply(lambda x : [return_indices_before(elt,x) for elt in x \\\n",
    "                                                                               if elt in time_words])"
   ]
  },
  {
   "cell_type": "markdown",
   "metadata": {},
   "source": [
    "We now need a little bit of further processing in order to get the list of indices associated with the values (the list previously obtained contains other lists and duplicates)."
   ]
  },
  {
   "cell_type": "code",
   "execution_count": 8,
   "metadata": {},
   "outputs": [],
   "source": [
    "def explode_list(li) :  \n",
    "    \"\"\" Returns a sorted exploded list containing unique elements\"\"\"\n",
    "    li_ = []\n",
    "\n",
    "    for elt in li : \n",
    "        if len(elt) < 2 : \n",
    "            li_.append(elt[0])\n",
    "        else : \n",
    "            li_.extend(elt) \n",
    "            \n",
    "    return sorted(list(set(li_)))\n",
    "\n",
    "# Get the indices of the values in the right order.\n",
    "recipes_df_time['indices'] = recipes_df_time['indices'].apply(lambda x : explode_list(x))"
   ]
  },
  {
   "cell_type": "markdown",
   "metadata": {},
   "source": [
    "Finally, we store the values associated with the time words in a new column thanks to the indices."
   ]
  },
  {
   "cell_type": "code",
   "execution_count": 9,
   "metadata": {},
   "outputs": [],
   "source": [
    "recipes_df_time['times'] = recipes_df_time.apply(lambda row : [row.instructions[elt].strip() for elt in row.indices],\\\n",
    "                                                 axis=1)"
   ]
  },
  {
   "cell_type": "markdown",
   "metadata": {},
   "source": [
    "The values we get are not all numbers. We need to do some mapping in order to replace exceptions with actual values that can be interpreted. For this, we analyzed the different values of the `times` column in order to handle the exceptions."
   ]
  },
  {
   "cell_type": "code",
   "execution_count": 10,
   "metadata": {},
   "outputs": [],
   "source": [
    "# Map the different time words to their values in minutes.\n",
    "mapdict_time = {}\n",
    "mapdict_time.update(dict.fromkeys(['sec','second','seconds'],str((1/60))))\n",
    "mapdict_time.update(dict.fromkeys(['min','minute','minutes'],str(1)))\n",
    "mapdict_time.update(dict.fromkeys(['hour','hours'],str(60)))\n",
    "\n",
    "# Map different words to interpretable values.\n",
    "mapdict_words = {}\n",
    "mapdict_words.update(dict.fromkeys(['a','an','one','about1','another','additional','each','refrigerate1'\\\n",
    "                                   'another','other','final','0ne','extra'],str(1))) \n",
    "mapdict_words.update(dict.fromkeys(['few','of', 'several','more','couple','some'],str(5))) # Here, we arbitrarly map to 5.\n",
    "\n",
    "# Map different expressions containing quantities to values.\n",
    "mapdict_numbers = {'half' : str(0.5), '1/2' : str(0.5),'two' : str(2), 'three' : str(3), 'four' : str(4), 'five' : str(5),\\\n",
    "                   'about5' : str(5),'six' : str(6), 'seven' : str(7), 'eight' : str(8),'nine' : str(9), 'ten' : str(10),\\\n",
    "                   'twenty' : str(20), 'thirty' : str(30), 'forty' : str(40), 'fifty' : str(50), 'fifteen' : str(15),\\\n",
    "                  'triple' : str(3),'1/4' : str(0.25), 'twelve' : str(12), 'to2' : str(2),'rise45' : str(45),\\\n",
    "                  'dozen' : str(12),'refrigerate20' : str(20), 'refrigerate30' : str(30), 'refrigerate10' : str(10),\\\n",
    "                  'bake15' : str(15), 'additional5' : str(5),'boil.boil6' : str(6),'sixty' : str(60),'quarter' : str(0.25),\\\n",
    "                  '3/4' : str(0.75),'within3' : str(3)}"
   ]
  },
  {
   "cell_type": "markdown",
   "metadata": {},
   "source": [
    "We now replace these values by their mapping. "
   ]
  },
  {
   "cell_type": "code",
   "execution_count": 11,
   "metadata": {},
   "outputs": [],
   "source": [
    "recipes_df_time['times'] = recipes_df_time['times'].apply(lambda x : [elt.replace(elt,mapdict_words[elt])\\\n",
    "                                                                      if elt in mapdict_words else elt for elt in x])\n",
    "\n",
    "recipes_df_time['times'] = recipes_df_time['times'].apply(lambda x : [elt.replace(elt,mapdict_numbers[elt])\\\n",
    "                                                              if elt in mapdict_numbers else elt for elt in x])"
   ]
  },
  {
   "cell_type": "markdown",
   "metadata": {},
   "source": [
    "We still have to deal with some other exceptions. Some values are expressed as 10-20 or 15~20. We will split those strings in two and take the average of the two values. Also, we observed some anormal values such as 1520 or 3540. We assumed these values have to be processed as 15-20 or 35-40. "
   ]
  },
  {
   "cell_type": "code",
   "execution_count": 12,
   "metadata": {},
   "outputs": [],
   "source": [
    "# Transform the large numbers into interval separated with -. \n",
    "recipes_df_time['times'] = recipes_df_time['times'].apply(lambda x : [elt.replace(elt,'-'.join([elt[:2],elt[2:]]))\\\n",
    "                                                              if (len(elt) == 4 and '.' not in elt) else elt for elt in x])"
   ]
  },
  {
   "cell_type": "code",
   "execution_count": 13,
   "metadata": {},
   "outputs": [],
   "source": [
    "def deal_exceptions(li) :  \n",
    "    \"\"\"Deals with the values exceptions in a list\"\"\"\n",
    "    \n",
    "    li = [elt.replace(elt,mapdict_words[elt]) if elt in mapdict_words else elt for elt in li]\n",
    "    li = [elt.replace(elt,mapdict_numbers[elt]) if elt in mapdict_numbers else elt for elt in li]\n",
    "    \n",
    "    return li\n",
    "\n",
    "\n",
    "def mean_time(elt, sep) : \n",
    "    \"\"\"Returns the mean between the two values separated by sep\"\"\"\n",
    "    \n",
    "    li = elt.split(sep)\n",
    "    li = [word.strip(' ) ( ~ @ - = / \\ | , . ; +') for word in li]\n",
    "    li = deal_exceptions(li) # Deal with the exceptions. \n",
    "    \n",
    "    try : \n",
    "        avg = (float(li[0]) + float(li[-1]))/2\n",
    "        \n",
    "    except : # We exclude other words that do not have an interpretation as a value.\n",
    "        avg = 0 \n",
    "    \n",
    "    return str(round(avg,2))\n",
    "\n",
    "\n",
    "# Get the mean values.\n",
    "for sep in ['-','~','_','/','to'] : \n",
    "    recipes_df_time['times'] = recipes_df_time['times'].apply(lambda x : [elt.replace(elt,mean_time(elt,sep))\\\n",
    "                                                                          if sep in elt else elt for elt in x])"
   ]
  },
  {
   "cell_type": "code",
   "execution_count": 14,
   "metadata": {},
   "outputs": [],
   "source": [
    "# Map the time words with their values in minutes.\n",
    "recipes_df_time['time'] = recipes_df_time['time'].apply(lambda x : [elt.replace(elt,mapdict_time[elt]) for elt in x\\\n",
    "                                                            if elt in mapdict_time])"
   ]
  },
  {
   "cell_type": "markdown",
   "metadata": {},
   "source": [
    "We now multiply the values with the time in minutes in order to get an approximate cooking time. We also add the length of the instructions (number of sentences) to each result, in order to have a cooking time for the recipes that do not contain any time word. In order to deal with the meaningless expressions in the times column, we assign them the value 0 when computing the cooking time."
   ]
  },
  {
   "cell_type": "code",
   "execution_count": 15,
   "metadata": {},
   "outputs": [],
   "source": [
    "def to_float(str) : \n",
    "    try : \n",
    "        return float(str)\n",
    "    except : \n",
    "        return 0.0"
   ]
  },
  {
   "cell_type": "code",
   "execution_count": 16,
   "metadata": {},
   "outputs": [],
   "source": [
    "# Convert the values to floats.\n",
    "recipes_df_time['time'] = recipes_df_time['time'].apply(lambda x : [float(elt) for elt in x])\n",
    "recipes_df_time['times'] =  recipes_df_time['times'].apply(lambda x : [to_float(elt) for elt in x])\n",
    "\n",
    "recipes_df_time['cooking_time'] = recipes_df_time.apply(lambda row : int(sum(np.array(row.time)*np.array(row.times))\\\n",
    "                                                                         + row.length), axis =1)\n"
   ]
  },
  {
   "cell_type": "code",
   "execution_count": 17,
   "metadata": {},
   "outputs": [],
   "source": [
    "recipes_df_time.drop(columns = ['indices','time','times','length'], inplace=True)"
   ]
  },
  {
   "cell_type": "code",
   "execution_count": 18,
   "metadata": {},
   "outputs": [
    {
     "data": {
      "text/html": [
       "<div>\n",
       "<style scoped>\n",
       "    .dataframe tbody tr th:only-of-type {\n",
       "        vertical-align: middle;\n",
       "    }\n",
       "\n",
       "    .dataframe tbody tr th {\n",
       "        vertical-align: top;\n",
       "    }\n",
       "\n",
       "    .dataframe thead th {\n",
       "        text-align: right;\n",
       "    }\n",
       "</style>\n",
       "<table border=\"1\" class=\"dataframe\">\n",
       "  <thead>\n",
       "    <tr style=\"text-align: right;\">\n",
       "      <th></th>\n",
       "      <th>id</th>\n",
       "      <th>title</th>\n",
       "      <th>instructions</th>\n",
       "      <th>cooking_time</th>\n",
       "    </tr>\n",
       "  </thead>\n",
       "  <tbody>\n",
       "    <tr>\n",
       "      <td>0</td>\n",
       "      <td>000095fc1d</td>\n",
       "      <td>Yogurt Parfaits</td>\n",
       "      <td>[layer, all, ingredients, in, a, serving, dish]</td>\n",
       "      <td>1</td>\n",
       "    </tr>\n",
       "    <tr>\n",
       "      <td>1</td>\n",
       "      <td>00051d5b9d</td>\n",
       "      <td>Salt Free, Low Cholesterol Sugar Cookies Recipe</td>\n",
       "      <td>[cream, sugar, and, butter, together, till, sm...</td>\n",
       "      <td>20</td>\n",
       "    </tr>\n",
       "    <tr>\n",
       "      <td>2</td>\n",
       "      <td>00059b093b</td>\n",
       "      <td>Honey Sriracha Chicken Wings</td>\n",
       "      <td>[preheat, oven, to, 400, degrees, f, in, a, la...</td>\n",
       "      <td>66</td>\n",
       "    </tr>\n",
       "    <tr>\n",
       "      <td>3</td>\n",
       "      <td>0005fc89f7</td>\n",
       "      <td>Shrimp and Caper Salad</td>\n",
       "      <td>[in, a, large, bowl, toss, the, shrimp, green,...</td>\n",
       "      <td>62</td>\n",
       "    </tr>\n",
       "    <tr>\n",
       "      <td>4</td>\n",
       "      <td>0006ca31f4</td>\n",
       "      <td>Natural Peanut Butter Chocolate Bon Bons</td>\n",
       "      <td>[measure, out, the, cocoa, powder, into, a, mi...</td>\n",
       "      <td>126</td>\n",
       "    </tr>\n",
       "    <tr>\n",
       "      <td>5</td>\n",
       "      <td>00073a6b36</td>\n",
       "      <td>Easy Cheese Sauce</td>\n",
       "      <td>[put, milk, onion, salt, and, pepper, sauce, i...</td>\n",
       "      <td>3</td>\n",
       "    </tr>\n",
       "    <tr>\n",
       "      <td>6</td>\n",
       "      <td>0007c8edef</td>\n",
       "      <td>Easy Chocolate Frosting Recipe</td>\n",
       "      <td>[heat, chocolate, on, top, of, double, boiler,...</td>\n",
       "      <td>4</td>\n",
       "    </tr>\n",
       "    <tr>\n",
       "      <td>7</td>\n",
       "      <td>0007f5f800</td>\n",
       "      <td>Cornmeal Crackers with Pumpkin Seeds</td>\n",
       "      <td>[in, a, large, skillet, stir, the, cornmeal, o...</td>\n",
       "      <td>91</td>\n",
       "    </tr>\n",
       "    <tr>\n",
       "      <td>8</td>\n",
       "      <td>0008c6e39a</td>\n",
       "      <td>Chocolate-Orange Angel Food Cake</td>\n",
       "      <td>[move, oven, rack, to, lowest, position, heat,...</td>\n",
       "      <td>354</td>\n",
       "    </tr>\n",
       "    <tr>\n",
       "      <td>9</td>\n",
       "      <td>0009785a2e</td>\n",
       "      <td>Rice With Lemon, Capers &amp; Parsley</td>\n",
       "      <td>[add, rice, to, a, large, pan, of, boiling, wa...</td>\n",
       "      <td>27</td>\n",
       "    </tr>\n",
       "  </tbody>\n",
       "</table>\n",
       "</div>"
      ],
      "text/plain": [
       "           id                                            title  \\\n",
       "0  000095fc1d                                  Yogurt Parfaits   \n",
       "1  00051d5b9d  Salt Free, Low Cholesterol Sugar Cookies Recipe   \n",
       "2  00059b093b                     Honey Sriracha Chicken Wings   \n",
       "3  0005fc89f7                           Shrimp and Caper Salad   \n",
       "4  0006ca31f4         Natural Peanut Butter Chocolate Bon Bons   \n",
       "5  00073a6b36                                Easy Cheese Sauce   \n",
       "6  0007c8edef                   Easy Chocolate Frosting Recipe   \n",
       "7  0007f5f800             Cornmeal Crackers with Pumpkin Seeds   \n",
       "8  0008c6e39a                 Chocolate-Orange Angel Food Cake   \n",
       "9  0009785a2e                Rice With Lemon, Capers & Parsley   \n",
       "\n",
       "                                        instructions  cooking_time  \n",
       "0    [layer, all, ingredients, in, a, serving, dish]             1  \n",
       "1  [cream, sugar, and, butter, together, till, sm...            20  \n",
       "2  [preheat, oven, to, 400, degrees, f, in, a, la...            66  \n",
       "3  [in, a, large, bowl, toss, the, shrimp, green,...            62  \n",
       "4  [measure, out, the, cocoa, powder, into, a, mi...           126  \n",
       "5  [put, milk, onion, salt, and, pepper, sauce, i...             3  \n",
       "6  [heat, chocolate, on, top, of, double, boiler,...             4  \n",
       "7  [in, a, large, skillet, stir, the, cornmeal, o...            91  \n",
       "8  [move, oven, rack, to, lowest, position, heat,...           354  \n",
       "9  [add, rice, to, a, large, pan, of, boiling, wa...            27  "
      ]
     },
     "execution_count": 18,
     "metadata": {},
     "output_type": "execute_result"
    }
   ],
   "source": [
    "recipes_df_time.head(10)"
   ]
  },
  {
   "cell_type": "markdown",
   "metadata": {},
   "source": [
    "We now build a graph based on the cooking time. "
   ]
  },
  {
   "cell_type": "code",
   "execution_count": 19,
   "metadata": {},
   "outputs": [],
   "source": [
    "recipes_graph = recipes_df_time[['title','cooking_time']]"
   ]
  },
  {
   "cell_type": "code",
   "execution_count": 20,
   "metadata": {},
   "outputs": [],
   "source": [
    "def distance_matrix_np(pts):\n",
    "    \"\"\"Returns matrix of pairwise Euclidean distances\"\"\"\n",
    "    n = pts.shape[0]\n",
    "    distance = np.zeros((n,n))\n",
    "    for i in range(n):\n",
    "        distance[i,:] = np.square(pts - pts[i])\n",
    "    return distance"
   ]
  },
  {
   "cell_type": "markdown",
   "metadata": {},
   "source": [
    "First, most of the recipes have a cooking time of less than two hours, let's take a look at the distribution."
   ]
  },
  {
   "cell_type": "code",
   "execution_count": 21,
   "metadata": {},
   "outputs": [],
   "source": [
    "recipes_graph = recipes_graph[recipes_graph['cooking_time'] < 120]"
   ]
  },
  {
   "cell_type": "code",
   "execution_count": 22,
   "metadata": {},
   "outputs": [
    {
     "data": {
      "text/plain": [
       "Text(0, 0.5, 'Recipes counts')"
      ]
     },
     "execution_count": 22,
     "metadata": {},
     "output_type": "execute_result"
    },
    {
     "data": {
      "image/png": "[encoded data removed]",
      "text/plain": [
       "<Figure size 432x288 with 1 Axes>"
      ]
     },
     "metadata": {
      "needs_background": "light"
     },
     "output_type": "display_data"
    }
   ],
   "source": [
    "recipes_graph['cooking_time'].hist(bins=20, grid = False)\n",
    "plt.xlabel('Cooking time')\n",
    "plt.ylabel('Recipes counts')"
   ]
  },
  {
   "cell_type": "code",
   "execution_count": 23,
   "metadata": {},
   "outputs": [],
   "source": [
    "recipes_graph_1 = recipes_graph[recipes_graph['cooking_time'] < 40]\n",
    "recipes_graph_2 = recipes_graph[recipes_graph['cooking_time'] > 39]"
   ]
  },
  {
   "cell_type": "code",
   "execution_count": 24,
   "metadata": {},
   "outputs": [],
   "source": [
    "#distance_1 = distance_matrix_np((recipes_graph_1['cooking_time']).to_numpy())\n",
    "distance_2 = distance_matrix_np((recipes_graph_2['cooking_time']).to_numpy())\n",
    "\n",
    "#mean_distance_1 = distance_1.mean()\n",
    "mean_distance_2 = distance_2.mean()"
   ]
  },
  {
   "cell_type": "code",
   "execution_count": 25,
   "metadata": {},
   "outputs": [],
   "source": [
    "#adjacency_1 = distance_1.copy()\n",
    "#indices_1 = distance_1 < mean_distance_1\n",
    "#adjacency_1[indices_1] = 0 \n",
    "#adjacency_1[~indices_1] = 1 \n",
    "\n",
    "adjacency_2 = distance_2.copy()\n",
    "indices_2 = distance_2 < mean_distance_2\n",
    "adjacency_2[indices_2] = 0 \n",
    "adjacency_2[~indices_2] = 1 "
   ]
  },
  {
   "cell_type": "code",
   "execution_count": 26,
   "metadata": {},
   "outputs": [],
   "source": [
    "#G_1 = nx.from_numpy_matrix(adjacency_1)\n",
    "G_2 = nx.from_numpy_matrix(adjacency_2)"
   ]
  },
  {
   "cell_type": "code",
   "execution_count": 27,
   "metadata": {},
   "outputs": [],
   "source": [
    "recipes_graph_2 = recipes_graph_2.reset_index()"
   ]
  },
  {
   "cell_type": "code",
   "execution_count": 28,
   "metadata": {},
   "outputs": [
    {
     "name": "stdout",
     "output_type": "stream",
     "text": [
      "Apricot And Honey Jam Recipe has centrality 0.877121123464014\n",
      "Pork (or Lamb) with Lentils has centrality 0.877121123464014\n",
      "Make Ahead Brown Sugar and Spice Cake Mix has centrality 0.877121123464014\n",
      "Blueberry Buckle (Vegan) has centrality 0.877121123464014\n",
      "Bleu Broccoli Casserole has centrality 0.877121123464014\n",
      "Salted Caramels has centrality 0.877121123464014\n",
      "Sweet Potato Drop Biscuits has centrality 0.877121123464014\n",
      "Better-than-Basic Wheat Bread has centrality 0.877121123464014\n",
      "White Chocolate and Peppermint Cookie Brittle has centrality 0.877121123464014\n",
      "Peach Jam has centrality 0.877121123464014\n"
     ]
    }
   ],
   "source": [
    "degree_centrality = nx.degree_centrality(G_2)\n",
    "recipes_centrality = sorted(degree_centrality.items(), key=operator.itemgetter(1), reverse=True)\n",
    "\n",
    "# Generate id to name mapping for ingredients\n",
    "recipes_id_to_val = recipes_graph_2.to_dict()['title']\n",
    "\n",
    "for recipe in recipes_centrality[:10]:\n",
    "    print(f\"{recipes_id_to_val[recipe[0]]} has centrality {recipe[1]}\")    "
   ]
  },
  {
   "cell_type": "code",
   "execution_count": 52,
   "metadata": {},
   "outputs": [],
   "source": [
    "recipes_df['fat'] = recipes_df.nutr_values_per100g.apply(lambda x : round(x['fat'],2))"
   ]
  },
  {
   "cell_type": "markdown",
   "metadata": {},
   "source": [
    "Clustering idea : we are interested in cooking time and fat values (considering we are interested in healthy recipes that we define by containing less fat). Since the recipes data frame is way too big, let's consider the first 1000 recipes (which are random, given that the initial recipes are not ordered). "
   ]
  },
  {
   "cell_type": "code",
   "execution_count": 120,
   "metadata": {},
   "outputs": [],
   "source": [
    "subdf = recipes_df_time.merge(recipes_df, on = 'id', copy=False)\n",
    "subdf = subdf[['title_x','cooking_time','fat']]\n",
    "subdf = subdf[subdf['cooking_time'] < 60] #Keep only under an hour."
   ]
  },
  {
   "cell_type": "code",
   "execution_count": 121,
   "metadata": {},
   "outputs": [],
   "source": [
    "X = np.zeros(shape=(1000,2))\n",
    "X[:,0] = subdf.iloc[:1000].cooking_time.to_numpy()\n",
    "X[:,1] = subdf.iloc[:1000].fat.to_numpy()"
   ]
  },
  {
   "cell_type": "code",
   "execution_count": 132,
   "metadata": {},
   "outputs": [
    {
     "data": {
      "text/plain": [
       "Text(0, 0.5, 'Fat')"
      ]
     },
     "execution_count": 132,
     "metadata": {},
     "output_type": "execute_result"
    },
    {
     "data": {
      "image/png": "[encoded data removed]",
      "text/plain": [
       "<Figure size 432x288 with 1 Axes>"
      ]
     },
     "metadata": {
      "needs_background": "light"
     },
     "output_type": "display_data"
    }
   ],
   "source": [
    "plt.scatter(X[:,0],X[:,1]) #Coordinates are cooking time and fat.\n",
    "plt.xlabel('Cooking time')\n",
    "plt.ylabel('Fat')"
   ]
  },
  {
   "cell_type": "code",
   "execution_count": 124,
   "metadata": {},
   "outputs": [],
   "source": [
    "from sklearn.cluster import KMeans"
   ]
  },
  {
   "cell_type": "code",
   "execution_count": 136,
   "metadata": {},
   "outputs": [
    {
     "data": {
      "image/png": "[encoded data removed]",
      "text/plain": [
       "<Figure size 432x288 with 1 Axes>"
      ]
     },
     "metadata": {
      "needs_background": "light"
     },
     "output_type": "display_data"
    }
   ],
   "source": [
    "y_pred = KMeans(n_clusters=3).fit(X).labels_\n",
    "plt.scatter(X[:, 0], X[:, 1], c=y_pred)\n",
    "plt.show()"
   ]
  },
  {
   "cell_type": "code",
   "execution_count": 148,
   "metadata": {},
   "outputs": [],
   "source": [
    "indices = (y_pred == 0) #Low cooking time, low fat (healthy)"
   ]
  },
  {
   "cell_type": "code",
   "execution_count": 158,
   "metadata": {},
   "outputs": [
    {
     "data": {
      "text/html": [
       "<div>\n",
       "<style scoped>\n",
       "    .dataframe tbody tr th:only-of-type {\n",
       "        vertical-align: middle;\n",
       "    }\n",
       "\n",
       "    .dataframe tbody tr th {\n",
       "        vertical-align: top;\n",
       "    }\n",
       "\n",
       "    .dataframe thead th {\n",
       "        text-align: right;\n",
       "    }\n",
       "</style>\n",
       "<table border=\"1\" class=\"dataframe\">\n",
       "  <thead>\n",
       "    <tr style=\"text-align: right;\">\n",
       "      <th></th>\n",
       "      <th>title_x</th>\n",
       "      <th>cooking_time</th>\n",
       "      <th>fat</th>\n",
       "    </tr>\n",
       "  </thead>\n",
       "  <tbody>\n",
       "    <tr>\n",
       "      <td>0</td>\n",
       "      <td>Yogurt Parfaits</td>\n",
       "      <td>1</td>\n",
       "      <td>2.14</td>\n",
       "    </tr>\n",
       "    <tr>\n",
       "      <td>5</td>\n",
       "      <td>Easy Cheese Sauce</td>\n",
       "      <td>3</td>\n",
       "      <td>21.69</td>\n",
       "    </tr>\n",
       "    <tr>\n",
       "      <td>6</td>\n",
       "      <td>Easy Chocolate Frosting Recipe</td>\n",
       "      <td>4</td>\n",
       "      <td>4.34</td>\n",
       "    </tr>\n",
       "    <tr>\n",
       "      <td>11</td>\n",
       "      <td>Creamed Broccoli And Cauliflower Soup Recipe</td>\n",
       "      <td>6</td>\n",
       "      <td>2.38</td>\n",
       "    </tr>\n",
       "    <tr>\n",
       "      <td>12</td>\n",
       "      <td>Fudgy Chocolate Cherry Float</td>\n",
       "      <td>20</td>\n",
       "      <td>2.21</td>\n",
       "    </tr>\n",
       "    <tr>\n",
       "      <td>...</td>\n",
       "      <td>...</td>\n",
       "      <td>...</td>\n",
       "      <td>...</td>\n",
       "    </tr>\n",
       "    <tr>\n",
       "      <td>1325</td>\n",
       "      <td>Blazing Mustard</td>\n",
       "      <td>3</td>\n",
       "      <td>1.87</td>\n",
       "    </tr>\n",
       "    <tr>\n",
       "      <td>1328</td>\n",
       "      <td>Strawgurt Smoothie</td>\n",
       "      <td>2</td>\n",
       "      <td>0.19</td>\n",
       "    </tr>\n",
       "    <tr>\n",
       "      <td>1331</td>\n",
       "      <td>Vinegar Soy Sauce</td>\n",
       "      <td>3</td>\n",
       "      <td>20.00</td>\n",
       "    </tr>\n",
       "    <tr>\n",
       "      <td>1334</td>\n",
       "      <td>Apricot Balls</td>\n",
       "      <td>15</td>\n",
       "      <td>20.09</td>\n",
       "    </tr>\n",
       "    <tr>\n",
       "      <td>1335</td>\n",
       "      <td>French Fry Seasoning</td>\n",
       "      <td>2</td>\n",
       "      <td>0.69</td>\n",
       "    </tr>\n",
       "  </tbody>\n",
       "</table>\n",
       "<p>528 rows × 3 columns</p>\n",
       "</div>"
      ],
      "text/plain": [
       "                                           title_x  cooking_time    fat\n",
       "0                                  Yogurt Parfaits             1   2.14\n",
       "5                                Easy Cheese Sauce             3  21.69\n",
       "6                   Easy Chocolate Frosting Recipe             4   4.34\n",
       "11    Creamed Broccoli And Cauliflower Soup Recipe             6   2.38\n",
       "12                    Fudgy Chocolate Cherry Float            20   2.21\n",
       "...                                            ...           ...    ...\n",
       "1325                               Blazing Mustard             3   1.87\n",
       "1328                            Strawgurt Smoothie             2   0.19\n",
       "1331                             Vinegar Soy Sauce             3  20.00\n",
       "1334                                 Apricot Balls            15  20.09\n",
       "1335                          French Fry Seasoning             2   0.69\n",
       "\n",
       "[528 rows x 3 columns]"
      ]
     },
     "execution_count": 158,
     "metadata": {},
     "output_type": "execute_result"
    }
   ],
   "source": [
    "subdf.iloc[:1000][indices]"
   ]
  }
 ],
 "metadata": {
  "kernelspec": {
   "display_name": "Python 3",
   "language": "python",
   "name": "python3"
  },
  "language_info": {
   "codemirror_mode": {
    "name": "ipython",
    "version": 3
   },
   "file_extension": ".py",
   "mimetype": "text/x-python",
   "name": "python",
   "nbconvert_exporter": "python",
   "pygments_lexer": "ipython3",
   "version": "3.7.3"
  }
 },
 "nbformat": 4,
 "nbformat_minor": 4
}
